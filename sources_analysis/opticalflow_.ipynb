{
 "cells": [
  {
   "cell_type": "code",
   "execution_count": 1,
   "metadata": {
    "colab": {
     "base_uri": "https://localhost:8080/",
     "height": 33
    },
    "colab_type": "code",
    "executionInfo": {
     "elapsed": 780,
     "status": "ok",
     "timestamp": 1587303087945,
     "user": {
      "displayName": "hit code",
      "photoUrl": "",
      "userId": "09141943501924995910"
     },
     "user_tz": 300
    },
    "id": "iwnQGdP-opB9",
    "outputId": "7b71b47a-9407-419d-a043-39ca1cff84ae"
   },
   "outputs": [
    {
     "name": "stdout",
     "output_type": "stream",
     "text": [
      "Drive already mounted at /content/drive; to attempt to forcibly remount, call drive.mount(\"/content/drive\", force_remount=True).\n"
     ]
    }
   ],
   "source": [
    "from google.colab import drive\n",
    "drive.mount('/content/drive')"
   ]
  },
  {
   "cell_type": "code",
   "execution_count": 2,
   "metadata": {
    "colab": {
     "base_uri": "https://localhost:8080/",
     "height": 33
    },
    "colab_type": "code",
    "executionInfo": {
     "elapsed": 537,
     "status": "ok",
     "timestamp": 1587303087952,
     "user": {
      "displayName": "hit code",
      "photoUrl": "",
      "userId": "09141943501924995910"
     },
     "user_tz": 300
    },
    "id": "-fCdA6xyonCz",
    "outputId": "be77953f-7b79-435d-ab5e-4376a4d47ba9"
   },
   "outputs": [
    {
     "name": "stdout",
     "output_type": "stream",
     "text": [
      "/content/drive/My Drive/_main_/GoForward_/i3D_model/1c3d_2016\n"
     ]
    }
   ],
   "source": [
    "%cd /content/drive/My Drive/_main_/GoForward_/i3D_model/1c3d_2016"
   ]
  },
  {
   "cell_type": "code",
   "execution_count": 0,
   "metadata": {
    "colab": {},
    "colab_type": "code",
    "id": "CKF9f6G4oUcy"
   },
   "outputs": [],
   "source": [
    "import os\n",
    "import glob\n",
    "import sys\n",
    "import time\n",
    "import random\n",
    "\n",
    "import warnings\n",
    "\n",
    "import numpy as np\n",
    "import pandas as pd\n",
    "\n",
    "import cv2\n",
    "\n",
    "from frame import dir2tensor, video2tensor, frames_show, image_crop, images_crop, video_length, frames_downsample\n",
    "from timer import Timer"
   ]
  },
  {
   "cell_type": "code",
   "execution_count": 0,
   "metadata": {
    "colab": {},
    "colab_type": "code",
    "id": "08ytObp1oUc-"
   },
   "outputs": [],
   "source": [
    "class OpticalFlow:\n",
    "    \"\"\" Initialize an OpticalFlow object, \n",
    "    then use next() to calculate optical flow from subsequent frames.\n",
    "    Detects first call automatically.\n",
    "    \"\"\" \n",
    "    def __init__(self, sAlgorithm:str = \"tvl1-fast\", bThirdChannel:bool = False, fBound:float = 20.):\n",
    "        self.bThirdChannel = bThirdChannel\n",
    "        self.fBound = fBound\n",
    "        self.arPrev = np.zeros((1,1))\n",
    "\n",
    "        if sAlgorithm == \"tvl1-fast\":\n",
    "            self.oTVL1 = cv2.optflow.DualTVL1OpticalFlow_create(\n",
    "                scaleStep = 0.5, warps = 3, epsilon = 0.02)\n",
    "                # Mo 25.6.2018: (theta = 0.1, nscales = 1, scaleStep = 0.3, warps = 4, epsilon = 0.02)\n",
    "                # Very Fast (theta = 0.1, nscales = 1, scaleStep = 0.5, warps = 1, epsilon = 0.1)\n",
    "            sAlgorithm = \"tvl1\"\n",
    "\n",
    "        elif sAlgorithm == \"tvl1-warps1\":\n",
    "            self.oTVL1 = cv2.optflow.DualTVL1OpticalFlow_create(warps = 1)\n",
    "            sAlgorithm = \"tvl1\"\n",
    "\n",
    "        elif sAlgorithm == \"tvl1-quality\":\n",
    "            self.oTVL1 = cv2.optflow.DualTVL1OpticalFlow_create()\n",
    "                # Default: (tau=0.25, lambda=0.15, theta=0.3, nscales=5, warps=5, epsilon=0.01, \n",
    "                #innnerIterations=30, outerIterations=10, scaleStep=0.8, gamma=0.0, \n",
    "                #medianFiltering=5, useInitialFlow=False)\n",
    "            sAlgorithm = \"tvl1\"\n",
    "\n",
    "        elif sAlgorithm == \"farnback\":\n",
    "            pass\n",
    "\n",
    "        else: raise ValueError(\"Unknown optical flow type\")\n",
    "        \n",
    "        self.sAlgorithm = sAlgorithm\n",
    "\n",
    "        return\n",
    "\n",
    "\n",
    "    def first(self, arImage:np.array) -> np.array:\n",
    "\n",
    "        h, w, _ = arImage.shape\n",
    "\n",
    "        # save first image in black&white\n",
    "        self.arPrev = cv2.cvtColor(arImage, cv2.COLOR_BGR2GRAY)\n",
    "\n",
    "        # first flow = zeros\n",
    "        arFlow = np.zeros((h, w, 2), dtype = np.float32)\n",
    "\n",
    "        if self.bThirdChannel:\n",
    "            self.arZeros = np.zeros((h, w, 1), dtype = np.float32)\n",
    "            arFlow = np.concatenate((arFlow, self.arZeros), axis=2) \n",
    "\n",
    "        return arFlow\n",
    "\n",
    "\n",
    "    def next(self, arImage:np.array) -> np.array:\n",
    "\n",
    "        # first?\n",
    "        if self.arPrev.shape == (1,1): return self.first(arImage)\n",
    "\n",
    "        # get image in black&white\n",
    "        arCurrent = cv2.cvtColor(arImage, cv2.COLOR_BGR2GRAY)\n",
    "\n",
    "        if self.sAlgorithm == \"tvl1\":\n",
    "            arFlow = self.oTVL1.calc(self.arPrev, arCurrent, None)\n",
    "        elif self.sAlgorithm == \"farnback\":\n",
    "            arFlow = cv2.calcOpticalFlowFarneback(self.arPrev, arCurrent, flow=None, \n",
    "                pyr_scale=0.5, levels=1, winsize=15, iterations=2, poly_n=5, poly_sigma=1.1, flags=0)\n",
    "        else: raise ValueError(\"Unknown optical flow type\")\n",
    "\n",
    "        # only 2 dims\n",
    "        arFlow = arFlow[:, :, 0:2]\n",
    "\n",
    "        # truncate to +/-15.0, then rescale to [-1.0, 1.0]\n",
    "        arFlow[arFlow > self.fBound] = self.fBound \n",
    "        arFlow[arFlow < -self.fBound] = -self.fBound\n",
    "        arFlow = arFlow / self.fBound\n",
    "\n",
    "        if self.bThirdChannel:\n",
    "            # add third empty channel\n",
    "            arFlow = np.concatenate((arFlow, self.arZeros), axis=2) \n",
    "\n",
    "        self.arPrev = arCurrent\n",
    "\n",
    "        return arFlow"
   ]
  },
  {
   "cell_type": "code",
   "execution_count": 0,
   "metadata": {
    "colab": {},
    "colab_type": "code",
    "id": "Y93q8jKToUdG"
   },
   "outputs": [],
   "source": [
    "def frames2flows(arFrames:np.array(int), sAlgorithm = \"tvl1-fast\", bThirdChannel:bool = False, bShow = False, fBound:float = 20.) -> np.array(float):\n",
    "    \"\"\" Calculates optical flow from frames\n",
    "\n",
    "    Returns:\n",
    "        array of flow-arrays, each with dim (h, w, 2), \n",
    "        with \"flow\"-values truncated to [-15.0, 15.0] and then scaled to [-1.0, 1.0]\n",
    "        If bThirdChannel = True a third channel with zeros is added\n",
    "    \"\"\"\n",
    "\n",
    "    # initialize optical flow calculation\n",
    "    oOpticalFlow = OpticalFlow(sAlgorithm = sAlgorithm, bThirdChannel = bThirdChannel, fBound = fBound)\n",
    "    \n",
    "    liFlows = []\n",
    "    # loop through all frames\n",
    "    for i in range(len(arFrames)):\n",
    "        # calc dense optical flow\n",
    "        arFlow = oOpticalFlow.next(arFrames[i, ...])\n",
    "        liFlows.append(arFlow)\n",
    "        if bShow:\n",
    "            cv2.imshow(\"Optical flow\", flow2colorimage(arFlow))\n",
    "            cv2.waitKey(1)\n",
    "\n",
    "    return np.array(liFlows)"
   ]
  },
  {
   "cell_type": "code",
   "execution_count": 0,
   "metadata": {
    "colab": {},
    "colab_type": "code",
    "id": "SbCoqpfooUdO"
   },
   "outputs": [],
   "source": [
    "def flows_add_third_channel(arFlows:np.array) -> np.array:\n",
    "    \"\"\" add third empty channel to array of flows\n",
    "    \"\"\"\n",
    "    \n",
    "    n, h, w, c = arFlows.shape\n",
    "    if c != 2: raise ValueError(\"Expected 2 channels, not %d\" % c)\n",
    "    \n",
    "    arZeros = np.zeros((n, h, w, 1), dtype = np.float32)\n",
    "    arFlows3 = np.concatenate((arFlows, arZeros), axis=3)\n",
    "\n",
    "    return arFlows3"
   ]
  },
  {
   "cell_type": "code",
   "execution_count": 0,
   "metadata": {
    "colab": {},
    "colab_type": "code",
    "id": "j7oOg2W_oUdY"
   },
   "outputs": [],
   "source": [
    "def flows2file(arFlows:np.array(float), sTargetDir:str):\n",
    "    \"\"\" Save array of flows (2 channels with values in [-1.0, 1.0]) \n",
    "    to jpg files (with 3 channels 0-255 each) in sTargetDir\n",
    "    \"\"\"\n",
    "\n",
    "    n, h, w, c = arFlows.shape\n",
    "\n",
    "    os.makedirs(sTargetDir, exist_ok=True)\n",
    "\n",
    "    arZeros = np.zeros((h, w, 1), dtype = np.float32)\n",
    "\n",
    "    for i in range(n):\n",
    "\n",
    "        # add third empty channel\n",
    "        ar_f_Flow = np.concatenate((arFlows[i, ...], arZeros), axis=2)\n",
    "\n",
    "        # rescale to 0-255  \n",
    "        ar_n_Flow = np.round((ar_f_Flow + 1.0) * 127.5).astype(np.uint8)\n",
    "\n",
    "        cv2.imwrite(sTargetDir + \"/flow%03d.jpg\"%(i), ar_n_Flow)"
   ]
  },
  {
   "cell_type": "code",
   "execution_count": 0,
   "metadata": {
    "colab": {},
    "colab_type": "code",
    "id": "P0qKwvfSoUdh"
   },
   "outputs": [],
   "source": [
    "def file2flows(sDir:str, b3channels:bool = False) -> np.array:\n",
    "    \"\"\" Read flow files from directory\n",
    "    Expects 3-channel jpg files\n",
    "    Output\n",
    "        Default: array with 2-channel flow, with floats between [-1.0, 1.0]\n",
    "        If b3channels = True: including 3rd channel from jpeg (should result in zero values)\n",
    "    \"\"\"\n",
    "\n",
    "    # important to sort flow files upfront\n",
    "    liFiles = sorted(glob.glob(sDir + \"/*.jpg\"))\n",
    "\n",
    "    #liFilesU = sorted(glob.glob(sDir + \"/u/*.jpg\"))\n",
    "    #liFilesV = sorted(glob.glob(sDir + \"/v/*.jpg\"))\n",
    "\n",
    "    if len(liFiles) == 0: raise ValueError(\"No optical flow files found in \" + sDir)\n",
    "    #if len(liFilesU) != len(liFilesV): raise ValueError(\"Flow files: same number expected in u and v\")\n",
    "\n",
    "    liFlows = []\n",
    "    # loop through frames\n",
    "    for i in range(len(liFiles)):\n",
    "\n",
    "        ar_n_Flow = cv2.imread(liFiles[i])\n",
    "        h, w, c = ar_n_Flow.shape\n",
    "\n",
    "        # optical flow only 2-dim\n",
    "        if not b3channels: \n",
    "            ar_n_Flow = ar_n_Flow[:,:,0:2]\n",
    "\n",
    "        # rescale from 0-255 to [-15.0, 15.0]\n",
    "        ar_f_Flow = ((ar_n_Flow / 127.5) - 1.).astype(np.float32)\n",
    "        #print(\"Ori: %3dto%3d | Rescaled: %4.1fto%4.1f\" % \\\n",
    "        #    (np.min(ar_n_Flow), np.max(ar_n_Flow), np.min(ar_f_Flow), np.max(ar_f_Flow)))\n",
    "\n",
    "        #arU = cv2.imread(liFilesU[i], cv2.IMREAD_GRAYSCALE)\n",
    "        #arV = cv2.imread(liFilesV[i], cv2.IMREAD_GRAYSCALE)\n",
    "        #arFlow = np.concatenate((arU[:,:,np.newaxis], arV[:,:,np.newaxis]), axis=2)\n",
    "        \n",
    "        liFlows.append(ar_f_Flow)\n",
    "\n",
    "    return np.array(liFlows)"
   ]
  },
  {
   "cell_type": "code",
   "execution_count": 0,
   "metadata": {
    "colab": {},
    "colab_type": "code",
    "id": "zNh-L6KioUdo"
   },
   "outputs": [],
   "source": [
    "def flow2colorimage(ar_f_Flow:np.array(float)) -> np.array(int):\n",
    "    \"\"\" translate 1 optical flow (with values from -1.0 to 1.0) to an colorful image\n",
    "    \"\"\"\n",
    "\n",
    "    h, w, c = ar_f_Flow.shape\n",
    "    if not isinstance(ar_f_Flow[0,0,0], np.float32): \n",
    "        warnings.warn(\"Need to convert flows to float32\")\n",
    "        ar_f_Flow = ar_f_Flow.astype(np.float32)\n",
    "\n",
    "    ar_n_hsv = np.zeros((h, w, 3), dtype = np.uint8)\n",
    "    ar_n_hsv[...,1] = 255\n",
    "\n",
    "    # get colors\n",
    "    mag, ang = cv2.cartToPolar(ar_f_Flow[..., 0], ar_f_Flow[..., 1])\n",
    "    ar_n_hsv[...,0] = ang * 180 / np.pi / 2\n",
    "    ar_n_hsv[...,2] = cv2.normalize(mag, None, 0, 255, cv2.NORM_MINMAX)\n",
    "\n",
    "    ar_n_bgr = cv2.cvtColor(ar_n_hsv, cv2.COLOR_HSV2BGR)\n",
    "    return ar_n_bgr"
   ]
  },
  {
   "cell_type": "code",
   "execution_count": 0,
   "metadata": {
    "colab": {},
    "colab_type": "code",
    "id": "VIymkgXkoUdv"
   },
   "outputs": [],
   "source": [
    "def flows2colorimages(arFlows:np.array) -> np.array:\n",
    "    \"\"\" translate many optical flows to colorful images\n",
    "    \"\"\"\n",
    "    n, _, _, _ = arFlows.shape\n",
    "    liImages = []\n",
    "    for i in range(n):\n",
    "        arImage = flow2colorimage(arFlows[i, ...])\n",
    "        liImages.append(arImage)\n",
    "    return np.array(liImages)"
   ]
  },
  {
   "cell_type": "code",
   "execution_count": 0,
   "metadata": {
    "colab": {},
    "colab_type": "code",
    "id": "JealEzjEoUd1"
   },
   "outputs": [],
   "source": [
    "def framesDir2flowsDir(sFrameBaseDir:str, sFlowBaseDir:str, nFramesNorm:int = None, sAlgorithm:str = \"tvl1-fast\"):\n",
    "    \"\"\" Calculate optical flow from frames (extracted from videos) \n",
    "    \n",
    "    Input videoframe structure:\n",
    "    ... sFrameDir / train / class001 / videoname / frames.jpg\n",
    "\n",
    "    Output:\n",
    "    ... sFlowDir / train / class001 / videoname / flow.jpg\n",
    "    \"\"\"\n",
    "\n",
    "    # do not (partially) overwrite existing directory\n",
    "    #if os.path.exists(sFlowBaseDir): \n",
    "    #    warnings.warn(\"\\nOptical flow folder \" + sFlowBaseDir + \" alredy exists: flow calculation stopped\")\n",
    "    #    return\n",
    "\n",
    "    # get list of directories with frames: ... / sFrameDir/train/class/videodir/frames.jpg\n",
    "    sCurrentDir = os.getcwd()\n",
    "    os.chdir(sFrameBaseDir)\n",
    "    liVideos = sorted(glob.glob(\"*/*/*\"))\n",
    "    os.chdir(sCurrentDir)\n",
    "    print(\"Found %d directories=videos with frames in %s\" % (len(liVideos), sFrameBaseDir))\n",
    "\n",
    "    # loop over all videos-directories\n",
    "    nCounter = 0\n",
    "    for sFrameDir in liVideos:\n",
    "\n",
    "        # generate target directory\n",
    "        sFlowDir = sFlowBaseDir + \"/\" + sFrameDir\n",
    "\n",
    "        if nFramesNorm != None and os.path.exists(sFlowDir):\n",
    "            nFlows = len(glob.glob(sFlowDir + \"/*.*\"))\n",
    "            if nFlows == nFramesNorm: \n",
    "                print(\"Video %5d: optical flow already extracted to %s\" % (nCounter, sFlowDir))\n",
    "                nCounter += 1\n",
    "                continue\n",
    "            else: \n",
    "                print(\"Video %5d: Directory with %d instead of %d flows detected\" % (nCounter, nFlows, nFramesNorm))\n",
    "\n",
    "        # retrieve frame files - in ascending order\n",
    "        arFrames = dir2tensor(sFrameBaseDir + \"/\" + sFrameDir)\n",
    "\n",
    "        # downsample\n",
    "        if nFramesNorm != None: \n",
    "            arFrames = frames_downsample(arFrames, nFramesNorm)\n",
    "\n",
    "        # calculate and save optical flow\n",
    "        print(\"Video %5d: Calc optical flow with %s from %s frames to %s\" % (nCounter, sAlgorithm, str(arFrames.shape), sFlowDir))\n",
    "        arFlows = frames2flows(arFrames, sAlgorithm = sAlgorithm)\n",
    "        flows2file(arFlows, sFlowDir)\n",
    "\n",
    "        nCounter += 1"
   ]
  },
  {
   "cell_type": "code",
   "execution_count": 12,
   "metadata": {
    "colab": {
     "base_uri": "https://localhost:8080/",
     "height": 33
    },
    "colab_type": "code",
    "executionInfo": {
     "elapsed": 525,
     "status": "ok",
     "timestamp": 1587303092392,
     "user": {
      "displayName": "hit code",
      "photoUrl": "",
      "userId": "09141943501924995910"
     },
     "user_tz": 300
    },
    "id": "0iVTCq09oUeU",
    "outputId": "8b5830b3-8739-4f22-88ef-bbae8fdfbcfa"
   },
   "outputs": [
    {
     "data": {
      "text/plain": [
       "['tvl1-fast', 'tvl1-warps1', 'tvl1-quality', 'farnback']"
      ]
     },
     "execution_count": 12,
     "metadata": {
      "tags": []
     },
     "output_type": "execute_result"
    }
   ],
   "source": [
    "algos = [\"tvl1-fast\", \"tvl1-warps1\", \"tvl1-quality\", \"farnback\"]\n",
    "algos"
   ]
  },
  {
   "cell_type": "code",
   "execution_count": 0,
   "metadata": {
    "colab": {},
    "colab_type": "code",
    "id": "CvuAct1Fqe7N"
   },
   "outputs": [],
   "source": [
    "clases = ['c001', 'c002', 'c003']"
   ]
  },
  {
   "cell_type": "code",
   "execution_count": 14,
   "metadata": {
    "colab": {
     "base_uri": "https://localhost:8080/",
     "height": 261
    },
    "colab_type": "code",
    "executionInfo": {
     "elapsed": 244749,
     "status": "ok",
     "timestamp": 1587303337718,
     "user": {
      "displayName": "hit code",
      "photoUrl": "",
      "userId": "09141943501924995910"
     },
     "user_tz": 300
    },
    "id": "ekbo-WFaoGYu",
    "outputId": "c28fb0b5-7cb1-4e40-9432-dc31a5c63cd7"
   },
   "outputs": [
    {
     "name": "stdout",
     "output_type": "stream",
     "text": [
      "Found 14 directories=videos with frames in data-set/chalearn_img/\n",
      "Video     0: Calc optical flow with tvl1-fast from (120, 224, 224, 3) frames to data-set/chalearn_img_flow_tvl1-fast//valid/c001/bd_nayeska\n",
      "Video     1: Calc optical flow with tvl1-fast from (120, 224, 224, 3) frames to data-set/chalearn_img_flow_tvl1-fast//valid/c001/bd_paul\n",
      "Video     2: Calc optical flow with tvl1-fast from (120, 224, 224, 3) frames to data-set/chalearn_img_flow_tvl1-fast//valid/c001/bd_rd1\n",
      "Video     3: Calc optical flow with tvl1-fast from (120, 224, 224, 3) frames to data-set/chalearn_img_flow_tvl1-fast//valid/c001/bd_val\n",
      "Video     4: Calc optical flow with tvl1-fast from (120, 224, 224, 3) frames to data-set/chalearn_img_flow_tvl1-fast//valid/c001/bd_yairy\n",
      "Video     5: optical flow already extracted to data-set/chalearn_img_flow_tvl1-fast//valid/c002/bt_rd1\n",
      "Video     6: optical flow already extracted to data-set/chalearn_img_flow_tvl1-fast//valid/c002/bt_val\n",
      "Video     7: optical flow already extracted to data-set/chalearn_img_flow_tvl1-fast//valid/c002/bt_yairy\n",
      "Video     8: optical flow already extracted to data-set/chalearn_img_flow_tvl1-fast//valid/c002/paul_buenastardes\n",
      "Video     9: optical flow already extracted to data-set/chalearn_img_flow_tvl1-fast//valid/c003/bn_nayeska\n",
      "Video    10: optical flow already extracted to data-set/chalearn_img_flow_tvl1-fast//valid/c003/bn_paul\n",
      "Video    11: optical flow already extracted to data-set/chalearn_img_flow_tvl1-fast//valid/c003/bn_rd1\n",
      "Video    12: optical flow already extracted to data-set/chalearn_img_flow_tvl1-fast//valid/c003/bn_val\n",
      "Video    13: optical flow already extracted to data-set/chalearn_img_flow_tvl1-fast//valid/c003/bn_yairy\n"
     ]
    }
   ],
   "source": [
    "sImageDir = 'data-set/chalearn_img/'\n",
    "sOflowDir = 'data-set/chalearn_img_flow_tvl1-fast/'\n",
    "framesDir2flowsDir(sImageDir, sOflowDir, nFramesNorm = 120, sAlgorithm= \"tvl1-fast\")"
   ]
  },
  {
   "cell_type": "code",
   "execution_count": 0,
   "metadata": {
    "colab": {},
    "colab_type": "code",
    "id": "xwWLkwwcqc-R"
   },
   "outputs": [],
   "source": [
    "for i in clases[:3]:\n",
    "    framesDir2flowsDir(sFrameBaseDir = 'data-set/chalearn_img/', \n",
    "                       sFlowBaseDir = 'data-set/chalearn_img_flow_tvl1-fast/valid/{}'.format(i),\n",
    "                       nFramesNorm = 120,\n",
    "                       sAlgorithm=\"tvl1-fast\")\n",
    "    print()"
   ]
  },
  {
   "cell_type": "code",
   "execution_count": 0,
   "metadata": {
    "colab": {},
    "colab_type": "code",
    "id": "HK_1BEaJoUeO"
   },
   "outputs": [],
   "source": [
    "#for i in range(4):\n",
    "#    os.mkdir(\"data-temp/karen4_{}\".format(i+1))\n",
    "#    os.mkdir(\"data-temp/karen4_{}_\".format(i+1))"
   ]
  },
  {
   "cell_type": "code",
   "execution_count": 0,
   "metadata": {
    "colab": {},
    "colab_type": "code",
    "id": "6-0BrMXuoUed",
    "outputId": "c0477ccd-45cc-4985-b41c-da5e093a48e2"
   },
   "outputs": [
    {
     "name": "stdout",
     "output_type": "stream",
     "text": [
      "Unittest opticalflow functions ...\n",
      "Video: 4.0 sec | (120, 224, 407, 3) | karen4.mp4\n",
      "Calculating optical flow ...\n",
      "Execution time: 2.98 sec\n",
      "Optical flow per frame: 0.025\n"
     ]
    }
   ],
   "source": [
    "print(\"Unittest opticalflow functions ...\")\n",
    "timer = Timer()\n",
    "\n",
    "# read test video and show it\n",
    "liVideosDebug = glob.glob(\"karen4.mp4\")\n",
    "sVideoFile = random.choice(liVideosDebug)\n",
    "fLength = video_length(sVideoFile)\n",
    "arFrames = video2tensor(sVideoFile, 224)\n",
    "\n",
    "print(\"Video: %.1f sec | %s | %s\" % (fLength, str(arFrames.shape), sVideoFile))\n",
    "frames_show(arFrames, int(fLength * 1000 / len(arFrames)))\n",
    "\n",
    "# calc flow and save to disc\n",
    "print(\"Calculating optical flow ...\")\n",
    "timer.start()\n",
    "arFlows = frames2flows(arFrames, sAlgorithm = algos[3])\n",
    "print(\"Optical flow per frame: %.3f\" % (timer.stop() / len(arFrames)))\n",
    "\n",
    "#flows2file(arFlows, \"data-temp/unittest\")\n",
    "\n",
    "# show color flows\n",
    "arFlowImages = flows2colorimages(arFlows)\n",
    "frames_show(arFlowImages, int(fLength * 1000 / len(arFrames))) "
   ]
  },
  {
   "cell_type": "code",
   "execution_count": 0,
   "metadata": {
    "colab": {},
    "colab_type": "code",
    "id": "ng3-pPO-oUes"
   },
   "outputs": [],
   "source": [
    "alg = '4'\n",
    "flows2file(arFlows, \"data-temp/karen4_{}\".format(alg))\n",
    "flows2file(arFlowImages, \"data-temp/karen4_{}_\".format(alg))"
   ]
  },
  {
   "cell_type": "code",
   "execution_count": 0,
   "metadata": {
    "colab": {},
    "colab_type": "code",
    "id": "9KanWYI2oUe8",
    "outputId": "34fe3570-7324-4f2b-826f-b41da1f03611"
   },
   "outputs": [
    {
     "name": "stdout",
     "output_type": "stream",
     "text": [
      "(120, 224, 407, 3) 0.0021525093\n",
      "(120, 224, 407, 3) 0.056749422\n"
     ]
    }
   ],
   "source": [
    "alg = '4'\n",
    "\n",
    "# read flows from directory and display\n",
    "arFlows2 = file2flows(\"data-temp/karen4_{}\".format(alg), b3channels=True)\n",
    "print(arFlows2.shape, np.mean(arFlows2[:,:,:,2]))\n",
    "\n",
    "arFlows2_ = file2flows(\"data-temp/karen4_{}_\".format(alg), b3channels=True)\n",
    "print(arFlows2_.shape, np.mean(arFlows2_[:,:,:,2]))"
   ]
  },
  {
   "cell_type": "code",
   "execution_count": 0,
   "metadata": {
    "colab": {},
    "colab_type": "code",
    "id": "NAi11WP5oUfA"
   },
   "outputs": [],
   "source": [
    "frames_show(arFlows2)"
   ]
  },
  {
   "cell_type": "code",
   "execution_count": 0,
   "metadata": {
    "colab": {},
    "colab_type": "code",
    "id": "E6aD_JoooUfE"
   },
   "outputs": [],
   "source": [
    "frames_show(arFlows2_)"
   ]
  },
  {
   "cell_type": "code",
   "execution_count": 0,
   "metadata": {
    "colab": {},
    "colab_type": "code",
    "id": "g38maYCioUfM"
   },
   "outputs": [],
   "source": []
  }
 ],
 "metadata": {
  "colab": {
   "collapsed_sections": [],
   "name": "opticalflow_.ipynb",
   "provenance": []
  },
  "kernelspec": {
   "display_name": "Python 3",
   "language": "python",
   "name": "python3"
  },
  "language_info": {
   "codemirror_mode": {
    "name": "ipython",
    "version": 3
   },
   "file_extension": ".py",
   "mimetype": "text/x-python",
   "name": "python",
   "nbconvert_exporter": "python",
   "pygments_lexer": "ipython3",
   "version": "3.8.5"
  }
 },
 "nbformat": 4,
 "nbformat_minor": 1
}
