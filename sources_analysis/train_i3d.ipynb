{
 "cells": [
  {
   "cell_type": "code",
   "execution_count": 1,
   "metadata": {
    "colab": {
     "base_uri": "https://localhost:8080/",
     "height": 118
    },
    "colab_type": "code",
    "executionInfo": {
     "elapsed": 59826,
     "status": "ok",
     "timestamp": 1587303538667,
     "user": {
      "displayName": "hit code",
      "photoUrl": "",
      "userId": "09141943501924995910"
     },
     "user_tz": 300
    },
    "id": "v5qSNqycRq8b",
    "outputId": "0b7396bc-d103-4d7f-d48d-7002a99a4b92"
   },
   "outputs": [
    {
     "name": "stdout",
     "output_type": "stream",
     "text": [
      "Go to this URL in a browser: https://accounts.google.com/o/oauth2/auth?client_id=947318989803-6bn6qk8qdgf4n4g3pfee6491hc0brc4i.apps.googleusercontent.com&redirect_uri=urn%3aietf%3awg%3aoauth%3a2.0%3aoob&response_type=code&scope=email%20https%3a%2f%2fwww.googleapis.com%2fauth%2fdocs.test%20https%3a%2f%2fwww.googleapis.com%2fauth%2fdrive%20https%3a%2f%2fwww.googleapis.com%2fauth%2fdrive.photos.readonly%20https%3a%2f%2fwww.googleapis.com%2fauth%2fpeopleapi.readonly\n",
      "\n",
      "Enter your authorization code:\n",
      "··········\n",
      "Mounted at /content/drive\n"
     ]
    }
   ],
   "source": [
    "from google.colab import drive\n",
    "drive.mount('/content/drive')"
   ]
  },
  {
   "cell_type": "code",
   "execution_count": 2,
   "metadata": {
    "colab": {
     "base_uri": "https://localhost:8080/",
     "height": 33
    },
    "colab_type": "code",
    "executionInfo": {
     "elapsed": 3351,
     "status": "ok",
     "timestamp": 1587303539056,
     "user": {
      "displayName": "hit code",
      "photoUrl": "",
      "userId": "09141943501924995910"
     },
     "user_tz": 300
    },
    "id": "P7MFmoMzRnZ0",
    "outputId": "49d1f271-2ff8-4f78-e952-ae77c1969fd7"
   },
   "outputs": [
    {
     "name": "stdout",
     "output_type": "stream",
     "text": [
      "/content/drive/My Drive/_main_/GoForward_/i3D_model/1c3d_2016\n"
     ]
    }
   ],
   "source": [
    "%cd /content/drive/My Drive/_main_/GoForward_/i3D_model/1c3d_2016"
   ]
  },
  {
   "cell_type": "code",
   "execution_count": 0,
   "metadata": {
    "colab": {},
    "colab_type": "code",
    "id": "PT0F6kKWRmdF"
   },
   "outputs": [],
   "source": [
    "# !pip install keras-gpu==2.2.0"
   ]
  },
  {
   "cell_type": "code",
   "execution_count": 0,
   "metadata": {
    "colab": {},
    "colab_type": "code",
    "id": "p3hojx4RRvm4"
   },
   "outputs": [],
   "source": [
    "# !pip install tensorflow-gpu==1.8.0"
   ]
  },
  {
   "cell_type": "code",
   "execution_count": 3,
   "metadata": {
    "colab": {
     "base_uri": "https://localhost:8080/",
     "height": 50
    },
    "colab_type": "code",
    "executionInfo": {
     "elapsed": 8526,
     "status": "ok",
     "timestamp": 1587303545774,
     "user": {
      "displayName": "hit code",
      "photoUrl": "",
      "userId": "09141943501924995910"
     },
     "user_tz": 300
    },
    "id": "3Ut5R-jhUscX",
    "outputId": "5378660d-6409-4ec5-c8c2-e150095f5ee8"
   },
   "outputs": [
    {
     "name": "stdout",
     "output_type": "stream",
     "text": [
      "TensorFlow 1.x selected.\n"
     ]
    },
    {
     "data": {
      "text/plain": [
       "'1.15.2'"
      ]
     },
     "execution_count": 3,
     "metadata": {
      "tags": []
     },
     "output_type": "execute_result"
    }
   ],
   "source": [
    "%tensorflow_version 1.x\n",
    "import tensorflow as tf\n",
    "tf.__version__"
   ]
  },
  {
   "cell_type": "code",
   "execution_count": 4,
   "metadata": {
    "colab": {
     "base_uri": "https://localhost:8080/",
     "height": 33
    },
    "colab_type": "code",
    "executionInfo": {
     "elapsed": 7221,
     "status": "ok",
     "timestamp": 1587303545777,
     "user": {
      "displayName": "hit code",
      "photoUrl": "",
      "userId": "09141943501924995910"
     },
     "user_tz": 300
    },
    "id": "GjyAXj34Susa",
    "outputId": "f537dc60-0515-4f59-c8dd-9b2729032424"
   },
   "outputs": [
    {
     "name": "stderr",
     "output_type": "stream",
     "text": [
      "Using TensorFlow backend.\n"
     ]
    }
   ],
   "source": [
    "import keras"
   ]
  },
  {
   "cell_type": "code",
   "execution_count": 5,
   "metadata": {
    "colab": {
     "base_uri": "https://localhost:8080/",
     "height": 33
    },
    "colab_type": "code",
    "executionInfo": {
     "elapsed": 7126,
     "status": "ok",
     "timestamp": 1587303546089,
     "user": {
      "displayName": "hit code",
      "photoUrl": "",
      "userId": "09141943501924995910"
     },
     "user_tz": 300
    },
    "id": "-1j2kGtHRkn7",
    "outputId": "a327cfb7-5d99-4049-e130-c65ee056c15d"
   },
   "outputs": [
    {
     "name": "stdout",
     "output_type": "stream",
     "text": [
      "Found GPU at: /device:GPU:0\n"
     ]
    }
   ],
   "source": [
    "device_name = tf.test.gpu_device_name()\n",
    "if device_name != '/device:GPU:0':\n",
    "  raise SystemError('GPU device not found')\n",
    "print('Found GPU at: {}'.format(device_name))"
   ]
  },
  {
   "cell_type": "code",
   "execution_count": 0,
   "metadata": {
    "colab": {},
    "colab_type": "code",
    "id": "Ft-UqfIXRmcO"
   },
   "outputs": [],
   "source": [
    "import os\n",
    "import glob\n",
    "import time\n",
    "import sys\n",
    "import warnings\n",
    "\n",
    "import numpy as np\n",
    "import pandas as pd\n",
    "\n",
    "import keras\n",
    "from keras import backend as K\n",
    "\n",
    "from datagenerator import VideoClasses, FramesGenerator\n",
    "from model_i3d import Inception_Inflated3d, add_i3d_top"
   ]
  },
  {
   "cell_type": "code",
   "execution_count": 0,
   "metadata": {
    "colab": {},
    "colab_type": "code",
    "id": "3RrbBcP0YpsY"
   },
   "outputs": [],
   "source": [
    "from keras.models import Model, load_model\n",
    "from keras import layers\n",
    "from keras.layers import Activation\n",
    "from keras.layers import Dense\n",
    "from keras.layers import Input\n",
    "from keras.layers import BatchNormalization\n",
    "from keras.layers import Conv3D\n",
    "from keras.layers import MaxPooling3D\n",
    "from keras.layers import AveragePooling3D\n",
    "from keras.layers import Dropout\n",
    "from keras.layers import Reshape\n",
    "from keras.layers import Lambda\n",
    "from keras.layers import GlobalAveragePooling3D"
   ]
  },
  {
   "cell_type": "code",
   "execution_count": 0,
   "metadata": {
    "colab": {},
    "colab_type": "code",
    "id": "JebhYv4KYr02"
   },
   "outputs": [],
   "source": [
    "from keras.engine.topology import get_source_inputs\n",
    "from keras.utils import layer_utils\n",
    "from keras.utils.data_utils import get_file\n",
    "from keras import backend as K"
   ]
  },
  {
   "cell_type": "code",
   "execution_count": 0,
   "metadata": {
    "colab": {},
    "colab_type": "code",
    "id": "NZ_98y5zRmcV"
   },
   "outputs": [],
   "source": [
    "def layers_freeze(keModel:keras.models.Model) -> keras.models.Model:\n",
    "    \n",
    "    print(\"Freeze all %d layers in Model %s\" % (len(keModel.layers), keModel.name))\n",
    "    for layer in keModel.layers:\n",
    "        layer.trainable = False\n",
    "\n",
    "    return keModel\n",
    "\n",
    "def layers_unfreeze(keModel:keras.models.Model) -> keras.models.Model:\n",
    "    \n",
    "    print(\"Unfreeze all %d layers in Model %s\" % (len(keModel.layers), keModel.name))\n",
    "    for layer in keModel.layers:\n",
    "        layer.trainable = True\n",
    "\n",
    "    return keModel"
   ]
  },
  {
   "cell_type": "code",
   "execution_count": 0,
   "metadata": {
    "colab": {},
    "colab_type": "code",
    "id": "J5CyNkDzRmcZ"
   },
   "outputs": [],
   "source": [
    "def count_params(keModel:keras.models.Model):\n",
    "\n",
    "    trainable_count = int(\n",
    "        np.sum([K.count_params(p) for p in set(keModel.trainable_weights)]))\n",
    "    non_trainable_count = int(\n",
    "        np.sum([K.count_params(p) for p in set(keModel.non_trainable_weights)]))\n",
    "\n",
    "    print('Total params: {:,}'.format(trainable_count + non_trainable_count))\n",
    "    print('Trainable params: {:,}'.format(trainable_count))\n",
    "    print('Non-trainable params: {:,}'.format(non_trainable_count))\n",
    "    \n",
    "    return"
   ]
  },
  {
   "cell_type": "code",
   "execution_count": 0,
   "metadata": {
    "colab": {},
    "colab_type": "code",
    "id": "aLO4dBKwRmcg"
   },
   "outputs": [],
   "source": [
    "def train_I3D_oflow_end2end(diVideoSet):\n",
    "    \"\"\" \n",
    "    * Loads pretrained I3D model, \n",
    "    * reads optical flow data generated from training videos,\n",
    "    * adjusts top-layers adequately for video data,\n",
    "    * trains only news top-layers,\n",
    "    * then fine-tunes entire neural network,\n",
    "    * saves logs and models to disc.\n",
    "    \"\"\"\n",
    "    \n",
    "    \"\"\"\n",
    "    diVideoSet = {\"sName\" : \"chalearn\",\n",
    "    \"nClasses\" : 249,   # number of classes\n",
    "    \"nFramesNorm\" : 40,    # number of frames per video\n",
    "    \"nMinDim\" : 240,   # smaller dimension of saved video-frames\n",
    "    \"tuShape\" : (240, 320), # height, width\n",
    "    \"nFpsAvg\" : 10,\n",
    "    \"nFramesAvg\" : 50, \n",
    "    \"fDurationAvG\" : 5.0} # seconds \n",
    "    \"\"\"\n",
    "   \n",
    "    # directories\n",
    "    sFolder = \"%03d-%d\"%(diVideoSet[\"nClasses\"], diVideoSet[\"nFramesNorm\"])\n",
    "    sClassFile       = \"data-set/{}/{}/class.csv\".format(diVideoSet[\"sName\"], diVideoSet[\"nClasses\"]) #, diVideoSet[\"nClasses\"])\n",
    "    #sClassFile       = \"data-set/%s/%03d/class.csv\"%(diVideoSet[\"sName\"], diVideoSet[\"nClasses\"])\n",
    "    #sVideoDir        = \"data-set/%s/%03d\"%(diVideoSet[\"sName\"], diVideoSet[\"nClasses\"])\n",
    "    #sImageDir        = \"data-temp/%s/%s/image\"%(diVideoSet[\"sName\"], sFolder)\n",
    "    #sImageFeatureDir = \"data-temp/%s/%s/image-i3d\"%(diVideoSet[\"sName\"], sFolder)\n",
    "    #sOflowDir        = \"data-temp/%s/%s/oflow\"%(diVideoSet[\"sName\"], sFolder)\n",
    "    sOflowDir        = \"data-set/{}\".format(diVideoSet[\"sName\"], sFolder)\n",
    "    #print(sOflowDir)\n",
    "    #sOflowFeatureDir = \"data-temp/%s/%s/oflow-i3d\"%(diVideoSet[\"sName\"], sFolder)\n",
    "    \n",
    "    sModelDir        = \"model\"\n",
    "\n",
    "    diTrainTop = {\n",
    "        \"fLearn\" : 1e-3,\n",
    "        \"nEpochs\" : 3}\n",
    "\n",
    "    diTrainAll = {\n",
    "        \"fLearn\" : 1e-4,\n",
    "        \"nEpochs\" : 17}\n",
    "\n",
    "    nBatchSize = 4\n",
    "\n",
    "    print(\"\\nStarting I3D end2end training ...\")\n",
    "    print(os.getcwd())\n",
    "\n",
    "    # read the ChaLearn classes\n",
    "    oClasses = VideoClasses(sClassFile)\n",
    "    #print(oClasses.liClasses)\n",
    "\n",
    "    # Load training data\n",
    "    genFramesTrain = FramesGenerator(sPath=sOflowDir + \"/train\", \n",
    "                                     nBatchSize=nBatchSize, \n",
    "                                     nFrames=diVideoSet[\"nFramesNorm\"], \n",
    "                                     nHeight=224, \n",
    "                                     nWidth=224, \n",
    "                                     nChannels=3, \n",
    "                                     liClassesFull=oClasses.liClasses)\n",
    "    \n",
    "    genFramesVal = FramesGenerator(sPath=sOflowDir + \"/valid\", \n",
    "                                   nBatchSize=nBatchSize, \n",
    "                                   nFrames=diVideoSet[\"nFramesNorm\"], \n",
    "                                   nHeight=224, \n",
    "                                   nWidth=224, \n",
    "                                   nChannels=3, \n",
    "                                   liClassesFull=oClasses.liClasses)\n",
    "\n",
    "    # Load pretrained i3d model and adjust top layer \n",
    "    print(\"Load pretrained I3D flow model ...\")\n",
    "    keI3DOflow = Inception_Inflated3d(include_top=False,\n",
    "                                      weights='flow_imagenet_and_kinetics',\n",
    "                                      input_shape=(diVideoSet[\"nFramesNorm\"], \n",
    "                                                   224, \n",
    "                                                   224, \n",
    "                                                   3)\n",
    "                                      )\n",
    "    \n",
    "    print(\"Add top layers with %d output classes ...\" % oClasses.nClasses)\n",
    "    keI3DOflow = layers_freeze(keI3DOflow)\n",
    "    keI3DOflow = add_i3d_top(keI3DOflow, oClasses.nClasses, dropout_prob=0.5)\n",
    "        \n",
    "    # Prep logging\n",
    "    sLog = time.strftime(\"%Y%m%d-%H%M\", time.gmtime()) + \\\n",
    "        \"-%s%03d-oflow-i3d\"%(diVideoSet[\"sName\"], diVideoSet[\"nClasses\"])\n",
    "    \n",
    "    # Helper: Save results\n",
    "    csv_logger = keras.callbacks.CSVLogger(\"log/\" + sLog + \"-acc.csv\", append = True)\n",
    "\n",
    "    # Helper: Save the model\n",
    "    os.makedirs(sModelDir, exist_ok=True)\n",
    "    cpTopLast = keras.callbacks.ModelCheckpoint(filepath = sModelDir + \"/\" + sLog + \"-above-last.h5\", \n",
    "                                                verbose = 0)\n",
    "    \n",
    "    cpTopBest = keras.callbacks.ModelCheckpoint(filepath = sModelDir + \"/\" + sLog + \"-above-best.h5\",\n",
    "                                                verbose = 1, save_best_only = True)\n",
    "    \n",
    "    cpAllLast = keras.callbacks.ModelCheckpoint(filepath = sModelDir + \"/\" + sLog + \"-entire-last.h5\", \n",
    "                                                verbose = 0)\n",
    "    \n",
    "    cpAllBest = keras.callbacks.ModelCheckpoint(filepath = sModelDir + \"/\" + sLog + \"-entire-best.h5\",\n",
    "                                                verbose = 1, save_best_only = True)\n",
    "\n",
    "    # Fit top layers\n",
    "    print(\"Fit I3D top layers with generator: %s\" % (diTrainTop))\n",
    "    optimizer = keras.optimizers.Adam(lr = diTrainTop[\"fLearn\"])\n",
    "    keI3DOflow.compile(loss='categorical_crossentropy', optimizer=optimizer, metrics=['accuracy'])\n",
    "    count_params(keI3DOflow)    \n",
    "\n",
    "    keI3DOflow.fit_generator(generator = genFramesTrain,\n",
    "                             validation_data = genFramesVal,\n",
    "                             epochs = diTrainTop[\"nEpochs\"],\n",
    "                             workers = 4,\n",
    "                             use_multiprocessing = True,\n",
    "                             max_queue_size = 8,\n",
    "                             verbose = 1,\n",
    "                             callbacks=[csv_logger, \n",
    "                                        cpTopLast, \n",
    "                                        cpTopBest])\n",
    "    \n",
    "    # Fit entire I3D model\n",
    "    print(\"Finetune all I3D layers with generator: %s\" % (diTrainAll))\n",
    "    keI3DOflow = layers_unfreeze(keI3DOflow)\n",
    "    optimizer = keras.optimizers.Adam(lr = diTrainAll[\"fLearn\"])\n",
    "    keI3DOflow.compile(loss='categorical_crossentropy', optimizer=optimizer, metrics=['accuracy'])\n",
    "    count_params(keI3DOflow)    \n",
    "\n",
    "    keI3DOflow.fit_generator(generator = genFramesTrain, \n",
    "                             validation_data = genFramesVal,\n",
    "                             epochs = diTrainAll[\"nEpochs\"],\n",
    "                             workers = 4,                 \n",
    "                             use_multiprocessing = True,\n",
    "                             max_queue_size = 8, \n",
    "                             verbose = 1,\n",
    "                             callbacks=[csv_logger, \n",
    "                                        cpAllLast, \n",
    "                                        cpAllBest])"
   ]
  },
  {
   "cell_type": "code",
   "execution_count": 0,
   "metadata": {
    "colab": {},
    "colab_type": "code",
    "id": "XEPMYzO2Rmcm"
   },
   "outputs": [],
   "source": [
    "diVideoSet = {'sName': 'chalearn_img_flow_tvl1-fast',\n",
    " 'nClasses': 3,\n",
    " 'nFramesNorm': 120,\n",
    " 'nMinDim': 224,\n",
    " 'tuShape': (224, 224),\n",
    " 'nFpsAvg': 30,\n",
    " 'nFramesAvg': 120,\n",
    " 'fDurationAvg': 4.0}"
   ]
  },
  {
   "cell_type": "code",
   "execution_count": 19,
   "metadata": {
    "colab": {
     "base_uri": "https://localhost:8080/",
     "height": 66
    },
    "colab_type": "code",
    "executionInfo": {
     "elapsed": 1693,
     "status": "ok",
     "timestamp": 1587303657762,
     "user": {
      "displayName": "hit code",
      "photoUrl": "",
      "userId": "09141943501924995910"
     },
     "user_tz": 300
    },
    "id": "PwguFKX5Rmcq",
    "outputId": "04b6463f-969e-43ae-adc2-5eceb4bf7e43"
   },
   "outputs": [
    {
     "name": "stdout",
     "output_type": "stream",
     "text": [
      "sFolder: 003-120\n",
      "sClassFile: data-set/chalearn_img_flow_tvl1-fast/3/class.csv\n",
      "sOflowDir: data-set/chalearn_img_flow_tvl1-fast\n"
     ]
    }
   ],
   "source": [
    "# directories\n",
    "sFolder = \"%03d-%d\"%(diVideoSet[\"nClasses\"], diVideoSet[\"nFramesNorm\"])\n",
    "print('sFolder:', sFolder)\n",
    "sClassFile       = \"data-set/{}/{}/class.csv\".format(diVideoSet[\"sName\"], diVideoSet[\"nClasses\"]) #, diVideoSet[\"nClasses\"])\n",
    "print(\"sClassFile:\", sClassFile)\n",
    "#sClassFile       = \"data-set/%s/%03d/class.csv\"%(diVideoSet[\"sName\"], diVideoSet[\"nClasses\"])\n",
    "#sVideoDir        = \"data-set/%s/%03d\"%(diVideoSet[\"sName\"], diVideoSet[\"nClasses\"])\n",
    "#sImageDir        = \"data-temp/%s/%s/image\"%(diVideoSet[\"sName\"], sFolder)\n",
    "#sImageFeatureDir = \"data-temp/%s/%s/image-i3d\"%(diVideoSet[\"sName\"], sFolder)\n",
    "#sOflowDir        = \"data-temp/%s/%s/oflow\"%(diVideoSet[\"sName\"], sFolder)\n",
    "sOflowDir        = \"data-set/{}\".format(diVideoSet[\"sName\"], sFolder)\n",
    "print(\"sOflowDir:\", sOflowDir)\n",
    "#print(sOflowDir)\n",
    "#sOflowFeatureDir = \"data-temp/%s/%s/oflow-i3d\"%(diVideoSet[\"sName\"], sFolder)\n",
    "\n",
    "sModelDir        = \"model\""
   ]
  },
  {
   "cell_type": "code",
   "execution_count": 20,
   "metadata": {
    "colab": {
     "base_uri": "https://localhost:8080/",
     "height": 66
    },
    "colab_type": "code",
    "executionInfo": {
     "elapsed": 1928,
     "status": "ok",
     "timestamp": 1587303658526,
     "user": {
      "displayName": "hit code",
      "photoUrl": "",
      "userId": "09141943501924995910"
     },
     "user_tz": 300
    },
    "id": "lARqjZSJRmct",
    "outputId": "8ee3bf87-54d0-4a5c-cd20-3c5bfb248647"
   },
   "outputs": [
    {
     "name": "stdout",
     "output_type": "stream",
     "text": [
      "\n",
      "Starting I3D end2end training ...\n",
      "/content/drive/My Drive/_main_/GoForward_/i3D_model/1c3d_2016\n"
     ]
    }
   ],
   "source": [
    "import os\n",
    "sModelDir        = \"model\"\n",
    "\n",
    "diTrainTop = {\n",
    "    \"fLearn\" : 1e-3,\n",
    "    \"nEpochs\" : 3}\n",
    "\n",
    "diTrainAll = {\n",
    "    \"fLearn\" : 1e-4,\n",
    "    \"nEpochs\" : 17}\n",
    "\n",
    "nBatchSize = 4\n",
    "\n",
    "print(\"\\nStarting I3D end2end training ...\")\n",
    "print(os.getcwd())"
   ]
  },
  {
   "cell_type": "code",
   "execution_count": 26,
   "metadata": {
    "colab": {
     "base_uri": "https://localhost:8080/",
     "height": 50
    },
    "colab_type": "code",
    "executionInfo": {
     "elapsed": 1342,
     "status": "ok",
     "timestamp": 1587303908247,
     "user": {
      "displayName": "hit code",
      "photoUrl": "",
      "userId": "09141943501924995910"
     },
     "user_tz": 300
    },
    "id": "q1KI1LowRmcx",
    "outputId": "2a7f56f4-0c7b-43ba-bc7e-95c87b426b34"
   },
   "outputs": [
    {
     "name": "stdout",
     "output_type": "stream",
     "text": [
      "Loaded 3 classes from data-set/chalearn_img_flow_tvl1-fast/3/class.csv\n",
      "['c001', 'c002', 'c003']\n"
     ]
    }
   ],
   "source": [
    "# read the ChaLearn classes\n",
    "oClasses = VideoClasses(sClassFile)\n",
    "print(oClasses.liClasses)"
   ]
  },
  {
   "cell_type": "code",
   "execution_count": 27,
   "metadata": {
    "colab": {
     "base_uri": "https://localhost:8080/",
     "height": 33
    },
    "colab_type": "code",
    "executionInfo": {
     "elapsed": 606,
     "status": "ok",
     "timestamp": 1587303910639,
     "user": {
      "displayName": "hit code",
      "photoUrl": "",
      "userId": "09141943501924995910"
     },
     "user_tz": 300
    },
    "id": "q1jLMxTkSW0D",
    "outputId": "c7142362-0798-440b-95bd-0c5e4c4b296f"
   },
   "outputs": [
    {
     "data": {
      "text/plain": [
       "['c001', 'c002', 'c003']"
      ]
     },
     "execution_count": 27,
     "metadata": {
      "tags": []
     },
     "output_type": "execute_result"
    }
   ],
   "source": [
    "os.listdir(\"data-set/chalearn_img_flow_tvl1-fast/train\")"
   ]
  },
  {
   "cell_type": "code",
   "execution_count": 28,
   "metadata": {
    "colab": {
     "base_uri": "https://localhost:8080/",
     "height": 1000
    },
    "colab_type": "code",
    "executionInfo": {
     "elapsed": 441,
     "status": "ok",
     "timestamp": 1587303911785,
     "user": {
      "displayName": "hit code",
      "photoUrl": "",
      "userId": "09141943501924995910"
     },
     "user_tz": 300
    },
    "id": "cMyfTIuuRmc1",
    "outputId": "7a09e702-1c52-4bdd-aca2-4aaa75d2005b"
   },
   "outputs": [
    {
     "name": "stdout",
     "output_type": "stream",
     "text": [
      "self.dfVideos:                                             sFrameDir\n",
      "0   data-set/chalearn_img_flow_tvl1-fast/train/c00...\n",
      "1   data-set/chalearn_img_flow_tvl1-fast/train/c00...\n",
      "2   data-set/chalearn_img_flow_tvl1-fast/train/c00...\n",
      "3   data-set/chalearn_img_flow_tvl1-fast/train/c00...\n",
      "4   data-set/chalearn_img_flow_tvl1-fast/train/c00...\n",
      "5   data-set/chalearn_img_flow_tvl1-fast/train/c00...\n",
      "6   data-set/chalearn_img_flow_tvl1-fast/train/c00...\n",
      "7   data-set/chalearn_img_flow_tvl1-fast/train/c00...\n",
      "8   data-set/chalearn_img_flow_tvl1-fast/train/c00...\n",
      "9   data-set/chalearn_img_flow_tvl1-fast/train/c00...\n",
      "10  data-set/chalearn_img_flow_tvl1-fast/train/c00...\n",
      "11  data-set/chalearn_img_flow_tvl1-fast/train/c00...\n",
      "12  data-set/chalearn_img_flow_tvl1-fast/train/c00...\n",
      "13  data-set/chalearn_img_flow_tvl1-fast/train/c00...\n",
      "14  data-set/chalearn_img_flow_tvl1-fast/train/c00...\n",
      "15  data-set/chalearn_img_flow_tvl1-fast/train/c00...\n",
      "16  data-set/chalearn_img_flow_tvl1-fast/train/c00...\n",
      "17  data-set/chalearn_img_flow_tvl1-fast/train/c00...\n",
      "18  data-set/chalearn_img_flow_tvl1-fast/train/c00...\n",
      "19  data-set/chalearn_img_flow_tvl1-fast/train/c00...\n",
      "20  data-set/chalearn_img_flow_tvl1-fast/train/c00...\n",
      "21  data-set/chalearn_img_flow_tvl1-fast/train/c00...\n",
      "22  data-set/chalearn_img_flow_tvl1-fast/train/c00...\n",
      "23  data-set/chalearn_img_flow_tvl1-fast/train/c00...\n",
      "24  data-set/chalearn_img_flow_tvl1-fast/train/c00...\n",
      "25  data-set/chalearn_img_flow_tvl1-fast/train/c00...\n",
      "26  data-set/chalearn_img_flow_tvl1-fast/train/c00...\n",
      "27  data-set/chalearn_img_flow_tvl1-fast/train/c00...\n",
      "28  data-set/chalearn_img_flow_tvl1-fast/train/c00...\n",
      "29  data-set/chalearn_img_flow_tvl1-fast/train/c00...\n",
      "30  data-set/chalearn_img_flow_tvl1-fast/train/c00...\n",
      "31  data-set/chalearn_img_flow_tvl1-fast/train/c00...\n",
      "32  data-set/chalearn_img_flow_tvl1-fast/train/c00...\n",
      "33  data-set/chalearn_img_flow_tvl1-fast/train/c00...\n",
      "34  data-set/chalearn_img_flow_tvl1-fast/train/c00...\n",
      "35  data-set/chalearn_img_flow_tvl1-fast/train/c00...\n",
      "36  data-set/chalearn_img_flow_tvl1-fast/train/c00...\n",
      "37  data-set/chalearn_img_flow_tvl1-fast/train/c00...\n",
      "38  data-set/chalearn_img_flow_tvl1-fast/train/c00...\n",
      "39  data-set/chalearn_img_flow_tvl1-fast/train/c00...\n",
      "40  data-set/chalearn_img_flow_tvl1-fast/train/c00...\n",
      "41  data-set/chalearn_img_flow_tvl1-fast/train/c00...\n",
      "42  data-set/chalearn_img_flow_tvl1-fast/train/c00...\n",
      "43  data-set/chalearn_img_flow_tvl1-fast/train/c00...\n",
      "44  data-set/chalearn_img_flow_tvl1-fast/train/c00...\n",
      "45  data-set/chalearn_img_flow_tvl1-fast/train/c00...\n",
      "46  data-set/chalearn_img_flow_tvl1-fast/train/c00...\n",
      "47  data-set/chalearn_img_flow_tvl1-fast/train/c00...\n",
      "48  data-set/chalearn_img_flow_tvl1-fast/train/c00...\n",
      "49  data-set/chalearn_img_flow_tvl1-fast/train/c00...\n",
      "50  data-set/chalearn_img_flow_tvl1-fast/train/c00...\n",
      "51  data-set/chalearn_img_flow_tvl1-fast/train/c00...\n",
      "52  data-set/chalearn_img_flow_tvl1-fast/train/c00...\n",
      "53  data-set/chalearn_img_flow_tvl1-fast/train/c00...\n",
      "54  data-set/chalearn_img_flow_tvl1-fast/train/c00...\n",
      "55  data-set/chalearn_img_flow_tvl1-fast/train/c00...\n",
      "56  data-set/chalearn_img_flow_tvl1-fast/train/c00...\n",
      "57  data-set/chalearn_img_flow_tvl1-fast/train/c00...\n",
      "58  data-set/chalearn_img_flow_tvl1-fast/train/c00...\n",
      "self.nSamples: 59\n",
      "Detected 59 samples in data-set/chalearn_img_flow_tvl1-fast/train ...\n",
      "0     c001\n",
      "1     c001\n",
      "2     c001\n",
      "3     c001\n",
      "4     c001\n",
      "5     c001\n",
      "6     c001\n",
      "7     c001\n",
      "8     c001\n",
      "9     c001\n",
      "10    c001\n",
      "11    c001\n",
      "12    c001\n",
      "13    c001\n",
      "14    c001\n",
      "15    c001\n",
      "16    c001\n",
      "17    c001\n",
      "18    c001\n",
      "19    c001\n",
      "20    c002\n",
      "21    c002\n",
      "22    c002\n",
      "23    c002\n",
      "24    c002\n",
      "25    c002\n",
      "26    c002\n",
      "27    c002\n",
      "28    c002\n",
      "29    c002\n",
      "30    c002\n",
      "31    c002\n",
      "32    c002\n",
      "33    c002\n",
      "34    c002\n",
      "35    c002\n",
      "36    c002\n",
      "37    c002\n",
      "38    c002\n",
      "39    c002\n",
      "40    c003\n",
      "41    c003\n",
      "42    c003\n",
      "43    c003\n",
      "44    c003\n",
      "45    c003\n",
      "46    c003\n",
      "47    c003\n",
      "48    c003\n",
      "49    c003\n",
      "50    c003\n",
      "51    c003\n",
      "52    c003\n",
      "53    c003\n",
      "54    c003\n",
      "55    c003\n",
      "56    c003\n",
      "57    c003\n",
      "58    c003\n",
      "Name: sFrameDir, dtype: object\n"
     ]
    }
   ],
   "source": [
    "# Load training data\n",
    "genFramesTrain = FramesGenerator(sPath=sOflowDir + \"/train\", \n",
    "                                  nBatchSize=nBatchSize, \n",
    "                                  nFrames=diVideoSet[\"nFramesNorm\"], \n",
    "                                  nHeight=224, \n",
    "                                  nWidth=224, \n",
    "                                  nChannels=3, \n",
    "                                  liClassesFull=oClasses.liClasses)"
   ]
  },
  {
   "cell_type": "code",
   "execution_count": 29,
   "metadata": {
    "colab": {
     "base_uri": "https://localhost:8080/",
     "height": 537
    },
    "colab_type": "code",
    "executionInfo": {
     "elapsed": 1418,
     "status": "ok",
     "timestamp": 1587303916578,
     "user": {
      "displayName": "hit code",
      "photoUrl": "",
      "userId": "09141943501924995910"
     },
     "user_tz": 300
    },
    "id": "oJEbyUl-YYNe",
    "outputId": "4ea98b0d-efe3-4ec4-a4ed-579c5e3498de"
   },
   "outputs": [
    {
     "name": "stdout",
     "output_type": "stream",
     "text": [
      "self.dfVideos:                                             sFrameDir\n",
      "0   data-set/chalearn_img_flow_tvl1-fast/valid/c00...\n",
      "1   data-set/chalearn_img_flow_tvl1-fast/valid/c00...\n",
      "2   data-set/chalearn_img_flow_tvl1-fast/valid/c00...\n",
      "3   data-set/chalearn_img_flow_tvl1-fast/valid/c00...\n",
      "4   data-set/chalearn_img_flow_tvl1-fast/valid/c00...\n",
      "5   data-set/chalearn_img_flow_tvl1-fast/valid/c00...\n",
      "6   data-set/chalearn_img_flow_tvl1-fast/valid/c00...\n",
      "7   data-set/chalearn_img_flow_tvl1-fast/valid/c00...\n",
      "8   data-set/chalearn_img_flow_tvl1-fast/valid/c00...\n",
      "9   data-set/chalearn_img_flow_tvl1-fast/valid/c00...\n",
      "10  data-set/chalearn_img_flow_tvl1-fast/valid/c00...\n",
      "11  data-set/chalearn_img_flow_tvl1-fast/valid/c00...\n",
      "12  data-set/chalearn_img_flow_tvl1-fast/valid/c00...\n",
      "13  data-set/chalearn_img_flow_tvl1-fast/valid/c00...\n",
      "self.nSamples: 14\n",
      "Detected 14 samples in data-set/chalearn_img_flow_tvl1-fast/valid ...\n",
      "0     c001\n",
      "1     c001\n",
      "2     c001\n",
      "3     c001\n",
      "4     c001\n",
      "5     c002\n",
      "6     c002\n",
      "7     c002\n",
      "8     c002\n",
      "9     c003\n",
      "10    c003\n",
      "11    c003\n",
      "12    c003\n",
      "13    c003\n",
      "Name: sFrameDir, dtype: object\n"
     ]
    }
   ],
   "source": [
    "genFramesVal = FramesGenerator(sPath=sOflowDir + \"/valid\", \n",
    "                                nBatchSize=nBatchSize, \n",
    "                                nFrames=diVideoSet[\"nFramesNorm\"], \n",
    "                                nHeight=224, \n",
    "                                nWidth=224, \n",
    "                                nChannels=3, \n",
    "                                liClassesFull=oClasses.liClasses)"
   ]
  },
  {
   "cell_type": "code",
   "execution_count": 30,
   "metadata": {
    "colab": {
     "base_uri": "https://localhost:8080/",
     "height": 33
    },
    "colab_type": "code",
    "executionInfo": {
     "elapsed": 951,
     "status": "ok",
     "timestamp": 1587303920348,
     "user": {
      "displayName": "hit code",
      "photoUrl": "",
      "userId": "09141943501924995910"
     },
     "user_tz": 300
    },
    "id": "tQR_jOT9T00F",
    "outputId": "d007e5ec-7879-4276-b3f8-e7cecdfd6b00"
   },
   "outputs": [
    {
     "data": {
      "text/plain": [
       "120"
      ]
     },
     "execution_count": 30,
     "metadata": {
      "tags": []
     },
     "output_type": "execute_result"
    }
   ],
   "source": [
    "frames_ = diVideoSet[\"nFramesNorm\"]\n",
    "frames_"
   ]
  },
  {
   "cell_type": "code",
   "execution_count": 0,
   "metadata": {
    "colab": {},
    "colab_type": "code",
    "id": "o9Ch5dVNOnha"
   },
   "outputs": [],
   "source": [
    "# path to pretrained models with top (classification layer)\n",
    "WEIGHTS_PATH = {\n",
    "    'rgb_kinetics_only' : 'https://github.com/dlpbc/keras-kinetics-i3d/releases/download/v0.2/rgb_inception_i3d_kinetics_only_tf_dim_ordering_tf_kernels.h5',\n",
    "    'flow_kinetics_only' : 'https://github.com/dlpbc/keras-kinetics-i3d/releases/download/v0.2/flow_inception_i3d_kinetics_only_tf_dim_ordering_tf_kernels.h5',\n",
    "    'rgb_imagenet_and_kinetics' : 'https://github.com/dlpbc/keras-kinetics-i3d/releases/download/v0.2/rgb_inception_i3d_imagenet_and_kinetics_tf_dim_ordering_tf_kernels.h5',\n",
    "    'flow_imagenet_and_kinetics' : 'https://github.com/dlpbc/keras-kinetics-i3d/releases/download/v0.2/flow_inception_i3d_imagenet_and_kinetics_tf_dim_ordering_tf_kernels.h5'\n",
    "}\n",
    "\n",
    "# path to pretrained models with no top (no classification layer)\n",
    "WEIGHTS_PATH_NO_TOP = {\n",
    "    'rgb_kinetics_only' : 'https://github.com/dlpbc/keras-kinetics-i3d/releases/download/v0.2/rgb_inception_i3d_kinetics_only_tf_dim_ordering_tf_kernels_no_top.h5',\n",
    "    'flow_kinetics_only' : 'https://github.com/dlpbc/keras-kinetics-i3d/releases/download/v0.2/flow_inception_i3d_kinetics_only_tf_dim_ordering_tf_kernels_no_top.h5',\n",
    "    'rgb_imagenet_and_kinetics' : 'https://github.com/dlpbc/keras-kinetics-i3d/releases/download/v0.2/rgb_inception_i3d_imagenet_and_kinetics_tf_dim_ordering_tf_kernels_no_top.h5',\n",
    "    'flow_imagenet_and_kinetics' : 'https://github.com/dlpbc/keras-kinetics-i3d/releases/download/v0.2/flow_inception_i3d_imagenet_and_kinetics_tf_dim_ordering_tf_kernels_no_top.h5'\n",
    "}"
   ]
  },
  {
   "cell_type": "code",
   "execution_count": 0,
   "metadata": {
    "colab": {},
    "colab_type": "code",
    "id": "W61OaxQ1ONVp"
   },
   "outputs": [],
   "source": [
    "include_top=False\n",
    "weights='flow_imagenet_and_kinetics'\n",
    "input_shape=(frames_, 224, 224, 3)\n",
    "input_tensor = None"
   ]
  },
  {
   "cell_type": "code",
   "execution_count": 0,
   "metadata": {
    "colab": {},
    "colab_type": "code",
    "id": "z2FLnFOTOh82"
   },
   "outputs": [],
   "source": [
    "WEIGHTS_NAME = ['rgb_kinetics_only', 'flow_kinetics_only', 'rgb_imagenet_and_kinetics', 'flow_imagenet_and_kinetics']"
   ]
  },
  {
   "cell_type": "code",
   "execution_count": 0,
   "metadata": {
    "colab": {},
    "colab_type": "code",
    "id": "3H6kLrKmONvf"
   },
   "outputs": [],
   "source": [
    "if not (weights in WEIGHTS_NAME or weights is None or os.path.exists(weights)):\n",
    "    raise ValueError('The `weights` argument should be either '\n",
    "                      '`None` (random initialization) or %s' % \n",
    "                      str(WEIGHTS_NAME) + ' ' \n",
    "                      'or a valid path to a file containing `weights` values')\n",
    "\n",
    "if weights in WEIGHTS_NAME and include_top and classes != 400:\n",
    "    raise ValueError('If using `weights` as one of these %s, with `include_top`'\n",
    "                      ' as true, `classes` should be 400' % str(WEIGHTS_NAME))"
   ]
  },
  {
   "cell_type": "code",
   "execution_count": 0,
   "metadata": {
    "colab": {},
    "colab_type": "code",
    "id": "zJYH1GCjYieF"
   },
   "outputs": [],
   "source": []
  },
  {
   "cell_type": "code",
   "execution_count": 0,
   "metadata": {
    "colab": {},
    "colab_type": "code",
    "id": "0mMfWWj8OloI"
   },
   "outputs": [],
   "source": [
    "def conv3d_bn(x,\n",
    "              filters,\n",
    "              num_frames,\n",
    "              num_row,\n",
    "              num_col,\n",
    "              padding='same',\n",
    "              strides=(1, 1, 1),\n",
    "              use_bias = False,\n",
    "              use_activation_fn = True,\n",
    "              use_bn = True,\n",
    "              name=None):\n",
    "    \"\"\"Utility function to apply conv3d + BN.\n",
    "\n",
    "    # Arguments\n",
    "        x: input tensor.\n",
    "        filters: filters in `Conv3D`.\n",
    "        num_frames: frames (time depth) of the convolution kernel.\n",
    "        num_row: height of the convolution kernel.\n",
    "        num_col: width of the convolution kernel.\n",
    "        padding: padding mode in `Conv3D`.\n",
    "        strides: strides in `Conv3D`.\n",
    "        use_bias: use bias or not  \n",
    "        use_activation_fn: use an activation function or not.\n",
    "        use_bn: use batch normalization or not.\n",
    "        name: name of the ops; will become `name + '_conv'`\n",
    "            for the convolution and `name + '_bn'` for the\n",
    "            batch norm layer.\n",
    "\n",
    "    # Returns\n",
    "        Output tensor after applying `Conv3D` and `BatchNormalization`.\n",
    "    \"\"\"\n",
    "    if name is not None:\n",
    "        bn_name = name + '_bn'\n",
    "        conv_name = name + '_conv'\n",
    "    else:\n",
    "        bn_name = None\n",
    "        conv_name = None\n",
    "\n",
    "    x = Conv3D(\n",
    "        filters, (num_frames, num_row, num_col),\n",
    "        strides=strides,\n",
    "        padding=padding,\n",
    "        use_bias=use_bias,\n",
    "        name=conv_name)(x)\n",
    "\n",
    "    if use_bn:\n",
    "        if K.image_data_format() == 'channels_first':\n",
    "            bn_axis = 1\n",
    "        else:\n",
    "            bn_axis = 4\n",
    "        x = BatchNormalization(axis=bn_axis, scale=False, name=bn_name)(x)\n",
    "\n",
    "    if use_activation_fn:\n",
    "        x = Activation('relu', name=name)(x)\n",
    "\n",
    "    return x"
   ]
  },
  {
   "cell_type": "code",
   "execution_count": 0,
   "metadata": {
    "colab": {},
    "colab_type": "code",
    "id": "Ie4h6I0EOlv2"
   },
   "outputs": [],
   "source": [
    "def _obtain_input_shape(input_shape,\n",
    "                        default_frame_size,\n",
    "                        min_frame_size,\n",
    "                        default_num_frames,\n",
    "                        min_num_frames,\n",
    "                        data_format,\n",
    "                        require_flatten,\n",
    "                        weights=None):\n",
    "    \"\"\"Internal utility to compute/validate the model's input shape.\n",
    "    (Adapted from `keras/applications/imagenet_utils.py`)\n",
    "\n",
    "    # Arguments\n",
    "        input_shape: either None (will return the default network input shape),\n",
    "            or a user-provided shape to be validated.\n",
    "        default_frame_size: default input frames(images) width/height for the model.\n",
    "        min_frame_size: minimum input frames(images) width/height accepted by the model.\n",
    "        default_num_frames: default input number of frames(images) for the model.\n",
    "        min_num_frames: minimum input number of frames accepted by the model.\n",
    "        data_format: image data format to use.\n",
    "        require_flatten: whether the model is expected to\n",
    "            be linked to a classifier via a Flatten layer.\n",
    "        weights: one of `None` (random initialization)\n",
    "            or 'kinetics_only' (pre-training on Kinetics dataset).\n",
    "            or 'imagenet_and_kinetics' (pre-training on ImageNet and Kinetics datasets).\n",
    "            If weights='kinetics_only' or weights=='imagenet_and_kinetics' then\n",
    "            input channels must be equal to 3.\n",
    "\n",
    "    # Returns\n",
    "        An integer shape tuple (may include None entries).\n",
    "\n",
    "    # Raises\n",
    "        ValueError: in case of invalid argument values.\n",
    "    \"\"\"\n",
    "    if weights != 'kinetics_only' and weights != 'imagenet_and_kinetics' and input_shape and len(input_shape) == 4:\n",
    "        if data_format == 'channels_first':\n",
    "            if input_shape[0] not in {1, 3}:\n",
    "                warnings.warn(\n",
    "                    'This model usually expects 1 or 3 input channels. '\n",
    "                    'However, it was passed an input_shape with ' +\n",
    "                    str(input_shape[0]) + ' input channels.')\n",
    "            default_shape = (input_shape[0], default_num_frames, default_frame_size, default_frame_size)\n",
    "        else:\n",
    "            if input_shape[-1] not in {1, 3}:\n",
    "                warnings.warn(\n",
    "                    'This model usually expects 1 or 3 input channels. '\n",
    "                    'However, it was passed an input_shape with ' +\n",
    "                    str(input_shape[-1]) + ' input channels.')\n",
    "            default_shape = (default_num_frames, default_frame_size, default_frame_size, input_shape[-1])\n",
    "    else:\n",
    "        if data_format == 'channels_first':\n",
    "            default_shape = (3, default_num_frames, default_frame_size, default_frame_size)\n",
    "        else:\n",
    "            default_shape = (default_num_frames, default_frame_size, default_frame_size, 3)\n",
    "    if (weights == 'kinetics_only' or weights == 'imagenet_and_kinetics') and require_flatten:\n",
    "        if input_shape is not None:\n",
    "            if input_shape != default_shape:\n",
    "                raise ValueError('When setting`include_top=True` '\n",
    "                                 'and loading `imagenet` weights, '\n",
    "                                 '`input_shape` should be ' +\n",
    "                                 str(default_shape) + '.')\n",
    "        return default_shape\n",
    "\n",
    "    if input_shape:\n",
    "        if data_format == 'channels_first':\n",
    "            if input_shape is not None:\n",
    "                if len(input_shape) != 4:\n",
    "                    raise ValueError(\n",
    "                        '`input_shape` must be a tuple of four integers.')\n",
    "                if input_shape[0] != 3 and (weights == 'kinetics_only' or weights == 'imagenet_and_kinetics'):\n",
    "                    raise ValueError('The input must have 3 channels; got '\n",
    "                                     '`input_shape=' + str(input_shape) + '`')\n",
    "\n",
    "                if input_shape[1] is not None and input_shape[1] < min_num_frames:\n",
    "                    raise ValueError('Input number of frames must be at least ' +\n",
    "                                     str(min_num_frames) + '; got '\n",
    "                                     '`input_shape=' + str(input_shape) + '`')\n",
    "\n",
    "                if ((input_shape[2] is not None and input_shape[2] < min_frame_size) or\n",
    "                   (input_shape[3] is not None and input_shape[3] < min_frame_size)):\n",
    "                    raise ValueError('Input size must be at least ' +\n",
    "                                     str(min_frame_size) + 'x' + str(min_frame_size) + '; got '\n",
    "                                     '`input_shape=' + str(input_shape) + '`')\n",
    "        else:\n",
    "            if input_shape is not None:\n",
    "                if len(input_shape) != 4:\n",
    "                    raise ValueError(\n",
    "                        '`input_shape` must be a tuple of four integers.')\n",
    "                if input_shape[-1] != 3 and (weights == 'kinetics_only' or weights == 'imagenet_and_kinetics'):\n",
    "                    raise ValueError('The input must have 3 channels; got '\n",
    "                                     '`input_shape=' + str(input_shape) + '`')\n",
    "\n",
    "                if input_shape[0] is not None and input_shape[0] < min_num_frames:\n",
    "                    raise ValueError('Input number of frames must be at least ' +\n",
    "                                     str(min_num_frames) + '; got '\n",
    "                                     '`input_shape=' + str(input_shape) + '`')\n",
    "\n",
    "                if ((input_shape[1] is not None and input_shape[1] < min_frame_size) or\n",
    "                   (input_shape[2] is not None and input_shape[2] < min_frame_size)):\n",
    "                    raise ValueError('Input size must be at least ' +\n",
    "                                     str(min_frame_size) + 'x' + str(min_frame_size) + '; got '\n",
    "                                     '`input_shape=' + str(input_shape) + '`')\n",
    "    else:\n",
    "        if require_flatten:\n",
    "            input_shape = default_shape\n",
    "        else:\n",
    "            if data_format == 'channels_first':\n",
    "                input_shape = (3, None, None, None)\n",
    "            else:\n",
    "                input_shape = (None, None, None, 3)\n",
    "    if require_flatten:\n",
    "        if None in input_shape:\n",
    "            raise ValueError('If `include_top` is True, '\n",
    "                             'you should specify a static `input_shape`. '\n",
    "                             'Got `input_shape=' + str(input_shape) + '`')\n",
    "    return input_shape"
   ]
  },
  {
   "cell_type": "code",
   "execution_count": 37,
   "metadata": {
    "colab": {
     "base_uri": "https://localhost:8080/",
     "height": 33
    },
    "colab_type": "code",
    "executionInfo": {
     "elapsed": 893,
     "status": "ok",
     "timestamp": 1587303936887,
     "user": {
      "displayName": "hit code",
      "photoUrl": "",
      "userId": "09141943501924995910"
     },
     "user_tz": 300
    },
    "id": "W06S6oghOy5B",
    "outputId": "b4d1adc6-ed95-415d-9423-59af3765ee50"
   },
   "outputs": [
    {
     "data": {
      "text/plain": [
       "(120, 224, 224, 3)"
      ]
     },
     "execution_count": 37,
     "metadata": {
      "tags": []
     },
     "output_type": "execute_result"
    }
   ],
   "source": [
    "input_shape = _obtain_input_shape(\n",
    "    input_shape,\n",
    "    default_frame_size=224, \n",
    "    min_frame_size=32, \n",
    "    default_num_frames=64,\n",
    "    min_num_frames=8,\n",
    "    data_format=K.image_data_format(),\n",
    "    require_flatten=include_top,\n",
    "    weights=weights)\n",
    "input_shape"
   ]
  },
  {
   "cell_type": "code",
   "execution_count": 38,
   "metadata": {
    "colab": {
     "base_uri": "https://localhost:8080/",
     "height": 33
    },
    "colab_type": "code",
    "executionInfo": {
     "elapsed": 972,
     "status": "ok",
     "timestamp": 1587303939425,
     "user": {
      "displayName": "hit code",
      "photoUrl": "",
      "userId": "09141943501924995910"
     },
     "user_tz": 300
    },
    "id": "2ktg8LznPGs9",
    "outputId": "8b064acc-3db5-41cd-e50b-6d789970fa7e"
   },
   "outputs": [
    {
     "data": {
      "text/plain": [
       "<tf.Tensor 'input_1:0' shape=(?, 120, 224, 224, 3) dtype=float32>"
      ]
     },
     "execution_count": 38,
     "metadata": {
      "tags": []
     },
     "output_type": "execute_result"
    }
   ],
   "source": [
    "if input_tensor is None:\n",
    "    img_input = Input(shape=input_shape)\n",
    "else:\n",
    "    if not K.is_keras_tensor(input_tensor):\n",
    "        img_input = Input(tensor=input_tensor, shape=input_shape)\n",
    "    else:\n",
    "        img_input = input_tensor\n",
    "\n",
    "img_input"
   ]
  },
  {
   "cell_type": "code",
   "execution_count": 0,
   "metadata": {
    "colab": {},
    "colab_type": "code",
    "id": "waq8RztNPGyn"
   },
   "outputs": [],
   "source": [
    "if K.image_data_format() == 'channels_first':\n",
    "    channel_axis = 1\n",
    "else:\n",
    "    channel_axis = 4"
   ]
  },
  {
   "cell_type": "code",
   "execution_count": 40,
   "metadata": {
    "colab": {
     "base_uri": "https://localhost:8080/",
     "height": 86
    },
    "colab_type": "code",
    "executionInfo": {
     "elapsed": 6521,
     "status": "ok",
     "timestamp": 1587303952160,
     "user": {
      "displayName": "hit code",
      "photoUrl": "",
      "userId": "09141943501924995910"
     },
     "user_tz": 300
    },
    "id": "NB9T8F22PGwo",
    "outputId": "4865aefd-07fa-499c-dec0-747df63ab053"
   },
   "outputs": [
    {
     "name": "stdout",
     "output_type": "stream",
     "text": [
      "WARNING:tensorflow:From /tensorflow-1.15.2/python3.6/tensorflow_core/python/ops/resource_variable_ops.py:1630: calling BaseResourceVariable.__init__ (from tensorflow.python.ops.resource_variable_ops) with constraint is deprecated and will be removed in a future version.\n",
      "Instructions for updating:\n",
      "If using Keras pass *_constraint arguments to layers.\n"
     ]
    }
   ],
   "source": [
    "# Downsampling via convolution (spatial and temporal)\n",
    "x = conv3d_bn(img_input, 64, 7, 7, 7, strides=(2, 2, 2), padding='same', name='Conv3d_1a_7x7')\n",
    "\n",
    "# Downsampling (spatial only)\n",
    "x = MaxPooling3D((1, 3, 3), strides=(1, 2, 2), padding='same', name='MaxPool2d_2a_3x3')(x)\n",
    "x = conv3d_bn(x, 64, 1, 1, 1, strides=(1, 1, 1), padding='same', name='Conv3d_2b_1x1')\n",
    "x = conv3d_bn(x, 192, 3, 3, 3, strides=(1, 1, 1), padding='same', name='Conv3d_2c_3x3')\n",
    "\n",
    "# Downsampling (spatial only)\n",
    "x = MaxPooling3D((1, 3, 3), strides=(1, 2, 2), padding='same', name='MaxPool2d_3a_3x3')(x)\n",
    "\n",
    "# Mixed 3b\n",
    "branch_0 = conv3d_bn(x, 64, 1, 1, 1, padding='same', name='Conv3d_3b_0a_1x1')\n",
    "\n",
    "branch_1 = conv3d_bn(x, 96, 1, 1, 1, padding='same', name='Conv3d_3b_1a_1x1')\n",
    "branch_1 = conv3d_bn(branch_1, 128, 3, 3, 3, padding='same', name='Conv3d_3b_1b_3x3')\n",
    "\n",
    "branch_2 = conv3d_bn(x, 16, 1, 1, 1, padding='same', name='Conv3d_3b_2a_1x1')\n",
    "branch_2 = conv3d_bn(branch_2, 32, 3, 3, 3, padding='same', name='Conv3d_3b_2b_3x3')\n",
    "\n",
    "branch_3 = MaxPooling3D((3, 3, 3), strides=(1, 1, 1), padding='same', name='MaxPool2d_3b_3a_3x3')(x)\n",
    "branch_3 = conv3d_bn(branch_3, 32, 1, 1, 1, padding='same', name='Conv3d_3b_3b_1x1')\n",
    "\n",
    "x = layers.concatenate(\n",
    "    [branch_0, branch_1, branch_2, branch_3],\n",
    "    axis=channel_axis,\n",
    "    name='Mixed_3b')\n",
    "\n",
    "# Mixed 3c\n",
    "branch_0 = conv3d_bn(x, 128, 1, 1, 1, padding='same', name='Conv3d_3c_0a_1x1')\n",
    "\n",
    "branch_1 = conv3d_bn(x, 128, 1, 1, 1, padding='same', name='Conv3d_3c_1a_1x1')\n",
    "branch_1 = conv3d_bn(branch_1, 192, 3, 3, 3, padding='same', name='Conv3d_3c_1b_3x3')\n",
    "\n",
    "branch_2 = conv3d_bn(x, 32, 1, 1, 1, padding='same', name='Conv3d_3c_2a_1x1')\n",
    "branch_2 = conv3d_bn(branch_2, 96, 3, 3, 3, padding='same', name='Conv3d_3c_2b_3x3')\n",
    "\n",
    "branch_3 = MaxPooling3D((3, 3, 3), strides=(1, 1, 1), padding='same', name='MaxPool2d_3c_3a_3x3')(x)\n",
    "branch_3 = conv3d_bn(branch_3, 64, 1, 1, 1, padding='same', name='Conv3d_3c_3b_1x1')\n",
    "\n",
    "x = layers.concatenate(\n",
    "    [branch_0, branch_1, branch_2, branch_3],\n",
    "    axis=channel_axis,\n",
    "    name='Mixed_3c')\n",
    "\n",
    "\n",
    "# Downsampling (spatial and temporal)\n",
    "x = MaxPooling3D((3, 3, 3), strides=(2, 2, 2), padding='same', name='MaxPool2d_4a_3x3')(x)\n",
    "\n",
    "# Mixed 4b\n",
    "branch_0 = conv3d_bn(x, 192, 1, 1, 1, padding='same', name='Conv3d_4b_0a_1x1')\n",
    "\n",
    "branch_1 = conv3d_bn(x, 96, 1, 1, 1, padding='same', name='Conv3d_4b_1a_1x1')\n",
    "branch_1 = conv3d_bn(branch_1, 208, 3, 3, 3, padding='same', name='Conv3d_4b_1b_3x3')\n",
    "\n",
    "branch_2 = conv3d_bn(x, 16, 1, 1, 1, padding='same', name='Conv3d_4b_2a_1x1')\n",
    "branch_2 = conv3d_bn(branch_2, 48, 3, 3, 3, padding='same', name='Conv3d_4b_2b_3x3')\n",
    "\n",
    "branch_3 = MaxPooling3D((3, 3, 3), strides=(1, 1, 1), padding='same', name='MaxPool2d_4b_3a_3x3')(x)\n",
    "branch_3 = conv3d_bn(branch_3, 64, 1, 1, 1, padding='same', name='Conv3d_4b_3b_1x1')\n",
    "\n",
    "x = layers.concatenate(\n",
    "    [branch_0, branch_1, branch_2, branch_3],\n",
    "    axis=channel_axis,\n",
    "    name='Mixed_4b')\n",
    "\n",
    "# Mixed 4c\n",
    "branch_0 = conv3d_bn(x, 160, 1, 1, 1, padding='same', name='Conv3d_4c_0a_1x1')\n",
    "\n",
    "branch_1 = conv3d_bn(x, 112, 1, 1, 1, padding='same', name='Conv3d_4c_1a_1x1')\n",
    "branch_1 = conv3d_bn(branch_1, 224, 3, 3, 3, padding='same', name='Conv3d_4c_1b_3x3')\n",
    "\n",
    "branch_2 = conv3d_bn(x, 24, 1, 1, 1, padding='same', name='Conv3d_4c_2a_1x1')\n",
    "branch_2 = conv3d_bn(branch_2, 64, 3, 3, 3, padding='same', name='Conv3d_4c_2b_3x3')\n",
    "\n",
    "branch_3 = MaxPooling3D((3, 3, 3), strides=(1, 1, 1), padding='same', name='MaxPool2d_4c_3a_3x3')(x)\n",
    "branch_3 = conv3d_bn(branch_3, 64, 1, 1, 1, padding='same', name='Conv3d_4c_3b_1x1')\n",
    "\n",
    "x = layers.concatenate(\n",
    "    [branch_0, branch_1, branch_2, branch_3],\n",
    "    axis=channel_axis,\n",
    "    name='Mixed_4c')\n",
    "\n",
    "# Mixed 4d\n",
    "branch_0 = conv3d_bn(x, 128, 1, 1, 1, padding='same', name='Conv3d_4d_0a_1x1')\n",
    "\n",
    "branch_1 = conv3d_bn(x, 128, 1, 1, 1, padding='same', name='Conv3d_4d_1a_1x1')\n",
    "branch_1 = conv3d_bn(branch_1, 256, 3, 3, 3, padding='same', name='Conv3d_4d_1b_3x3')\n",
    "\n",
    "branch_2 = conv3d_bn(x, 24, 1, 1, 1, padding='same', name='Conv3d_4d_2a_1x1')\n",
    "branch_2 = conv3d_bn(branch_2, 64, 3, 3, 3, padding='same', name='Conv3d_4d_2b_3x3')\n",
    "\n",
    "branch_3 = MaxPooling3D((3, 3, 3), strides=(1, 1, 1), padding='same', name='MaxPool2d_4d_3a_3x3')(x)\n",
    "branch_3 = conv3d_bn(branch_3, 64, 1, 1, 1, padding='same', name='Conv3d_4d_3b_1x1')\n",
    "\n",
    "x = layers.concatenate(\n",
    "    [branch_0, branch_1, branch_2, branch_3],\n",
    "    axis=channel_axis,\n",
    "    name='Mixed_4d')\n",
    "\n",
    "# Mixed 4e\n",
    "branch_0 = conv3d_bn(x, 112, 1, 1, 1, padding='same', name='Conv3d_4e_0a_1x1')\n",
    "\n",
    "branch_1 = conv3d_bn(x, 144, 1, 1, 1, padding='same', name='Conv3d_4e_1a_1x1')\n",
    "branch_1 = conv3d_bn(branch_1, 288, 3, 3, 3, padding='same', name='Conv3d_4e_1b_3x3')\n",
    "\n",
    "branch_2 = conv3d_bn(x, 32, 1, 1, 1, padding='same', name='Conv3d_4e_2a_1x1')\n",
    "branch_2 = conv3d_bn(branch_2, 64, 3, 3, 3, padding='same', name='Conv3d_4e_2b_3x3')\n",
    "\n",
    "branch_3 = MaxPooling3D((3, 3, 3), strides=(1, 1, 1), padding='same', name='MaxPool2d_4e_3a_3x3')(x)\n",
    "branch_3 = conv3d_bn(branch_3, 64, 1, 1, 1, padding='same', name='Conv3d_4e_3b_1x1')\n",
    "\n",
    "x = layers.concatenate(\n",
    "    [branch_0, branch_1, branch_2, branch_3],\n",
    "    axis=channel_axis,\n",
    "    name='Mixed_4e')\n",
    "\n",
    "# Mixed 4f\n",
    "branch_0 = conv3d_bn(x, 256, 1, 1, 1, padding='same', name='Conv3d_4f_0a_1x1')\n",
    "\n",
    "branch_1 = conv3d_bn(x, 160, 1, 1, 1, padding='same', name='Conv3d_4f_1a_1x1')\n",
    "branch_1 = conv3d_bn(branch_1, 320, 3, 3, 3, padding='same', name='Conv3d_4f_1b_3x3')\n",
    "\n",
    "branch_2 = conv3d_bn(x, 32, 1, 1, 1, padding='same', name='Conv3d_4f_2a_1x1')\n",
    "branch_2 = conv3d_bn(branch_2, 128, 3, 3, 3, padding='same', name='Conv3d_4f_2b_3x3')\n",
    "\n",
    "branch_3 = MaxPooling3D((3, 3, 3), strides=(1, 1, 1), padding='same', name='MaxPool2d_4f_3a_3x3')(x)\n",
    "branch_3 = conv3d_bn(branch_3, 128, 1, 1, 1, padding='same', name='Conv3d_4f_3b_1x1')\n",
    "\n",
    "x = layers.concatenate(\n",
    "    [branch_0, branch_1, branch_2, branch_3],\n",
    "    axis=channel_axis,\n",
    "    name='Mixed_4f')\n",
    "\n",
    "\n",
    "# Downsampling (spatial and temporal)\n",
    "x = MaxPooling3D((2, 2, 2), strides=(2, 2, 2), padding='same', name='MaxPool2d_5a_2x2')(x)\n",
    "\n",
    "# Mixed 5b\n",
    "branch_0 = conv3d_bn(x, 256, 1, 1, 1, padding='same', name='Conv3d_5b_0a_1x1')\n",
    "\n",
    "branch_1 = conv3d_bn(x, 160, 1, 1, 1, padding='same', name='Conv3d_5b_1a_1x1')\n",
    "branch_1 = conv3d_bn(branch_1, 320, 3, 3, 3, padding='same', name='Conv3d_5b_1b_3x3')\n",
    "\n",
    "branch_2 = conv3d_bn(x, 32, 1, 1, 1, padding='same', name='Conv3d_5b_2a_1x1')\n",
    "branch_2 = conv3d_bn(branch_2, 128, 3, 3, 3, padding='same', name='Conv3d_5b_2b_3x3')\n",
    "\n",
    "branch_3 = MaxPooling3D((3, 3, 3), strides=(1, 1, 1), padding='same', name='MaxPool2d_5b_3a_3x3')(x)\n",
    "branch_3 = conv3d_bn(branch_3, 128, 1, 1, 1, padding='same', name='Conv3d_5b_3b_1x1')\n",
    "\n",
    "x = layers.concatenate(\n",
    "    [branch_0, branch_1, branch_2, branch_3],\n",
    "    axis=channel_axis,\n",
    "    name='Mixed_5b')\n",
    "\n",
    "# Mixed 5c\n",
    "branch_0 = conv3d_bn(x, 384, 1, 1, 1, padding='same', name='Conv3d_5c_0a_1x1')\n",
    "\n",
    "branch_1 = conv3d_bn(x, 192, 1, 1, 1, padding='same', name='Conv3d_5c_1a_1x1')\n",
    "branch_1 = conv3d_bn(branch_1, 384, 3, 3, 3, padding='same', name='Conv3d_5c_1b_3x3')\n",
    "\n",
    "branch_2 = conv3d_bn(x, 48, 1, 1, 1, padding='same', name='Conv3d_5c_2a_1x1')\n",
    "branch_2 = conv3d_bn(branch_2, 128, 3, 3, 3, padding='same', name='Conv3d_5c_2b_3x3')\n",
    "\n",
    "branch_3 = MaxPooling3D((3, 3, 3), strides=(1, 1, 1), padding='same', name='MaxPool2d_5c_3a_3x3')(x)\n",
    "branch_3 = conv3d_bn(branch_3, 128, 1, 1, 1, padding='same', name='Conv3d_5c_3b_1x1')\n",
    "\n",
    "x = layers.concatenate(\n",
    "    [branch_0, branch_1, branch_2, branch_3],\n",
    "    axis=channel_axis,\n",
    "    name='Mixed_5c')"
   ]
  },
  {
   "cell_type": "code",
   "execution_count": 0,
   "metadata": {
    "colab": {},
    "colab_type": "code",
    "id": "yggrsHxoYWX2"
   },
   "outputs": [],
   "source": [
    "if include_top:\n",
    "    # Classification block\n",
    "    x = AveragePooling3D((2, 7, 7), strides=(1, 1, 1), padding='valid', name='global_avg_pool')(x)\n",
    "    x = Dropout(dropout_prob)(x)\n",
    "\n",
    "    x = conv3d_bn(x, classes, 1, 1, 1, padding='same', \n",
    "            use_bias=True, use_activation_fn=False, use_bn=False, name='Conv3d_6a_1x1')\n",
    "\n",
    "    num_frames_remaining = int(x.shape[1])\n",
    "    x = Reshape((num_frames_remaining, classes))(x)\n",
    "\n",
    "    # logits (raw scores for each class)\n",
    "    x = Lambda(lambda x: K.mean(x, axis=1, keepdims=False),\n",
    "                output_shape=lambda s: (s[0], s[2]))(x)\n",
    "\n",
    "    if not endpoint_logit:\n",
    "        x = Activation('softmax', name='prediction')(x)\n",
    "else:\n",
    "    h = int(x.shape[2])\n",
    "    w = int(x.shape[3])\n",
    "    x = AveragePooling3D((2, h, w), strides=(1, 1, 1), padding='valid', name='global_avg_pool')(x)"
   ]
  },
  {
   "cell_type": "code",
   "execution_count": 0,
   "metadata": {
    "colab": {},
    "colab_type": "code",
    "id": "Tbv6Bqq4YWcO"
   },
   "outputs": [],
   "source": [
    "inputs = img_input\n",
    "# create model\n",
    "model = Model(inputs, x, name='i3d_inception')\n",
    "\n",
    "# load weights\n",
    "if weights in WEIGHTS_NAME:\n",
    "    if weights == WEIGHTS_NAME[0]:   # rgb_kinetics_only\n",
    "        if include_top:\n",
    "            weights_url = WEIGHTS_PATH['rgb_kinetics_only']\n",
    "            model_name = 'i3d_inception_rgb_kinetics_only.h5'\n",
    "        else:\n",
    "            weights_url = WEIGHTS_PATH_NO_TOP['rgb_kinetics_only']\n",
    "            model_name = 'i3d_inception_rgb_kinetics_only_no_top.h5'\n",
    "\n",
    "    elif weights == WEIGHTS_NAME[1]: # flow_kinetics_only\n",
    "        if include_top:\n",
    "            weights_url = WEIGHTS_PATH['flow_kinetics_only']\n",
    "            model_name = 'i3d_inception_flow_kinetics_only.h5'\n",
    "        else:\n",
    "            weights_url = WEIGHTS_PATH_NO_TOP['flow_kinetics_only']\n",
    "            model_name = 'i3d_inception_flow_kinetics_only_no_top.h5'\n",
    "\n",
    "    elif weights == WEIGHTS_NAME[2]: # rgb_imagenet_and_kinetics\n",
    "        if include_top:\n",
    "            weights_url = WEIGHTS_PATH['rgb_imagenet_and_kinetics']\n",
    "            model_name = 'i3d_inception_rgb_imagenet_and_kinetics.h5'\n",
    "        else:\n",
    "            weights_url = WEIGHTS_PATH_NO_TOP['rgb_imagenet_and_kinetics']\n",
    "            model_name = 'i3d_inception_rgb_imagenet_and_kinetics_no_top.h5'\n",
    "\n",
    "    elif weights == WEIGHTS_NAME[3]: # flow_imagenet_and_kinetics\n",
    "        if include_top:\n",
    "            weights_url = WEIGHTS_PATH['flow_imagenet_and_kinetics']\n",
    "            model_name = 'i3d_inception_flow_imagenet_and_kinetics.h5'\n",
    "        else:\n",
    "            weights_url = WEIGHTS_PATH_NO_TOP['flow_imagenet_and_kinetics']\n",
    "            model_name = 'i3d_inception_flow_imagenet_and_kinetics_no_top.h5'"
   ]
  },
  {
   "cell_type": "code",
   "execution_count": 0,
   "metadata": {
    "colab": {},
    "colab_type": "code",
    "id": "TOy6REjZYWVX"
   },
   "outputs": [],
   "source": [
    "# #model.summary()"
   ]
  },
  {
   "cell_type": "code",
   "execution_count": 44,
   "metadata": {
    "colab": {
     "base_uri": "https://localhost:8080/",
     "height": 70
    },
    "colab_type": "code",
    "executionInfo": {
     "elapsed": 3797,
     "status": "ok",
     "timestamp": 1587303968024,
     "user": {
      "displayName": "hit code",
      "photoUrl": "",
      "userId": "09141943501924995910"
     },
     "user_tz": 300
    },
    "id": "yNJQ2bYQOy8O",
    "outputId": "148c6742-8d43-4e02-dd69-b949a8989b00"
   },
   "outputs": [
    {
     "name": "stdout",
     "output_type": "stream",
     "text": [
      "Downloading data from https://github.com/dlpbc/keras-kinetics-i3d/releases/download/v0.2/flow_inception_i3d_imagenet_and_kinetics_tf_dim_ordering_tf_kernels_no_top.h5\n",
      "49512448/49507528 [==============================] - 2s 0us/step\n"
     ]
    }
   ],
   "source": [
    "# load weights\n",
    "if weights in WEIGHTS_NAME:\n",
    "    if weights == WEIGHTS_NAME[0]:   # rgb_kinetics_only\n",
    "        if include_top:\n",
    "            weights_url = WEIGHTS_PATH['rgb_kinetics_only']\n",
    "            model_name = 'i3d_inception_rgb_kinetics_only.h5'\n",
    "        else:\n",
    "            weights_url = WEIGHTS_PATH_NO_TOP['rgb_kinetics_only']\n",
    "            model_name = 'i3d_inception_rgb_kinetics_only_no_top.h5'\n",
    "\n",
    "    elif weights == WEIGHTS_NAME[1]: # flow_kinetics_only\n",
    "        if include_top:\n",
    "            weights_url = WEIGHTS_PATH['flow_kinetics_only']\n",
    "            model_name = 'i3d_inception_flow_kinetics_only.h5'\n",
    "        else:\n",
    "            weights_url = WEIGHTS_PATH_NO_TOP['flow_kinetics_only']\n",
    "            model_name = 'i3d_inception_flow_kinetics_only_no_top.h5'\n",
    "\n",
    "    elif weights == WEIGHTS_NAME[2]: # rgb_imagenet_and_kinetics\n",
    "        if include_top:\n",
    "            weights_url = WEIGHTS_PATH['rgb_imagenet_and_kinetics']\n",
    "            model_name = 'i3d_inception_rgb_imagenet_and_kinetics.h5'\n",
    "        else:\n",
    "            weights_url = WEIGHTS_PATH_NO_TOP['rgb_imagenet_and_kinetics']\n",
    "            model_name = 'i3d_inception_rgb_imagenet_and_kinetics_no_top.h5'\n",
    "\n",
    "    elif weights == WEIGHTS_NAME[3]: # flow_imagenet_and_kinetics\n",
    "        if include_top:\n",
    "            weights_url = WEIGHTS_PATH['flow_imagenet_and_kinetics']\n",
    "            model_name = 'i3d_inception_flow_imagenet_and_kinetics.h5'\n",
    "        else:\n",
    "            weights_url = WEIGHTS_PATH_NO_TOP['flow_imagenet_and_kinetics']\n",
    "            model_name = 'i3d_inception_flow_imagenet_and_kinetics_no_top.h5'\n",
    "\n",
    "    downloaded_weights_path = get_file(model_name, weights_url, cache_subdir='models')\n",
    "    #model.load_weights(downloaded_weights_path)\n",
    "\n",
    "    if K.backend() == 'theano':\n",
    "        layer_utils.convert_all_kernels_in_model(model)\n",
    "\n",
    "    if K.image_data_format() == 'channels_first' and K.backend() == 'tensorflow':\n",
    "        warnings.warn('You are using the TensorFlow backend, yet you '\n",
    "                      'are using the Theano '\n",
    "                      'image data format convention '\n",
    "                      '(`image_data_format=\"channels_first\"`). '\n",
    "                      'For best performance, set '\n",
    "                      '`image_data_format=\"channels_last\"` in '\n",
    "                      'your keras config '\n",
    "                      'at ~/.keras/keras.json.')\n",
    "\n",
    "elif weights is not None:\n",
    "    model.load_weights(weights)"
   ]
  },
  {
   "cell_type": "code",
   "execution_count": 0,
   "metadata": {
    "colab": {},
    "colab_type": "code",
    "id": "YGL9s7XgZT2A"
   },
   "outputs": [],
   "source": [
    "# #model.summary()"
   ]
  },
  {
   "cell_type": "code",
   "execution_count": 47,
   "metadata": {
    "colab": {
     "base_uri": "https://localhost:8080/",
     "height": 50
    },
    "colab_type": "code",
    "executionInfo": {
     "elapsed": 869,
     "status": "ok",
     "timestamp": 1587303993019,
     "user": {
      "displayName": "hit code",
      "photoUrl": "",
      "userId": "09141943501924995910"
     },
     "user_tz": 300
    },
    "id": "tsZ5GYl5aFly",
    "outputId": "0366d61a-2d3d-4aa7-997e-207ce942b425"
   },
   "outputs": [
    {
     "name": "stdout",
     "output_type": "stream",
     "text": [
      "Add top layers with 3 output classes ...\n",
      "Freeze all 195 layers in Model i3d_inception\n"
     ]
    }
   ],
   "source": [
    "print(\"Add top layers with %d output classes ...\" % oClasses.nClasses)\n",
    "keI3DOflow = layers_freeze(model)\n",
    "#keI3DOflow.summary()"
   ]
  },
  {
   "cell_type": "code",
   "execution_count": 49,
   "metadata": {
    "colab": {
     "base_uri": "https://localhost:8080/",
     "height": 1000
    },
    "colab_type": "code",
    "executionInfo": {
     "elapsed": 1154,
     "status": "ok",
     "timestamp": 1587304008798,
     "user": {
      "displayName": "hit code",
      "photoUrl": "",
      "userId": "09141943501924995910"
     },
     "user_tz": 300
    },
    "id": "9XfGDUildMCz",
    "outputId": "c6ca1214-be13-4795-b5a9-91d08be0d867"
   },
   "outputs": [
    {
     "name": "stdout",
     "output_type": "stream",
     "text": [
      "Model: \"i3d_with_top\"\n",
      "__________________________________________________________________________________________________\n",
      "Layer (type)                    Output Shape         Param #     Connected to                     \n",
      "==================================================================================================\n",
      "input_1 (InputLayer)            (None, 120, 224, 224 0                                            \n",
      "__________________________________________________________________________________________________\n",
      "Conv3d_1a_7x7_conv (Conv3D)     (None, 60, 112, 112, 65856       input_1[0][0]                    \n",
      "__________________________________________________________________________________________________\n",
      "Conv3d_1a_7x7_bn (BatchNormaliz (None, 60, 112, 112, 192         Conv3d_1a_7x7_conv[0][0]         \n",
      "__________________________________________________________________________________________________\n",
      "Conv3d_1a_7x7 (Activation)      (None, 60, 112, 112, 0           Conv3d_1a_7x7_bn[0][0]           \n",
      "__________________________________________________________________________________________________\n",
      "MaxPool2d_2a_3x3 (MaxPooling3D) (None, 60, 56, 56, 6 0           Conv3d_1a_7x7[0][0]              \n",
      "__________________________________________________________________________________________________\n",
      "Conv3d_2b_1x1_conv (Conv3D)     (None, 60, 56, 56, 6 4096        MaxPool2d_2a_3x3[0][0]           \n",
      "__________________________________________________________________________________________________\n",
      "Conv3d_2b_1x1_bn (BatchNormaliz (None, 60, 56, 56, 6 192         Conv3d_2b_1x1_conv[0][0]         \n",
      "__________________________________________________________________________________________________\n",
      "Conv3d_2b_1x1 (Activation)      (None, 60, 56, 56, 6 0           Conv3d_2b_1x1_bn[0][0]           \n",
      "__________________________________________________________________________________________________\n",
      "Conv3d_2c_3x3_conv (Conv3D)     (None, 60, 56, 56, 1 331776      Conv3d_2b_1x1[0][0]              \n",
      "__________________________________________________________________________________________________\n",
      "Conv3d_2c_3x3_bn (BatchNormaliz (None, 60, 56, 56, 1 576         Conv3d_2c_3x3_conv[0][0]         \n",
      "__________________________________________________________________________________________________\n",
      "Conv3d_2c_3x3 (Activation)      (None, 60, 56, 56, 1 0           Conv3d_2c_3x3_bn[0][0]           \n",
      "__________________________________________________________________________________________________\n",
      "MaxPool2d_3a_3x3 (MaxPooling3D) (None, 60, 28, 28, 1 0           Conv3d_2c_3x3[0][0]              \n",
      "__________________________________________________________________________________________________\n",
      "Conv3d_3b_1a_1x1_conv (Conv3D)  (None, 60, 28, 28, 9 18432       MaxPool2d_3a_3x3[0][0]           \n",
      "__________________________________________________________________________________________________\n",
      "Conv3d_3b_2a_1x1_conv (Conv3D)  (None, 60, 28, 28, 1 3072        MaxPool2d_3a_3x3[0][0]           \n",
      "__________________________________________________________________________________________________\n",
      "Conv3d_3b_1a_1x1_bn (BatchNorma (None, 60, 28, 28, 9 288         Conv3d_3b_1a_1x1_conv[0][0]      \n",
      "__________________________________________________________________________________________________\n",
      "Conv3d_3b_2a_1x1_bn (BatchNorma (None, 60, 28, 28, 1 48          Conv3d_3b_2a_1x1_conv[0][0]      \n",
      "__________________________________________________________________________________________________\n",
      "Conv3d_3b_1a_1x1 (Activation)   (None, 60, 28, 28, 9 0           Conv3d_3b_1a_1x1_bn[0][0]        \n",
      "__________________________________________________________________________________________________\n",
      "Conv3d_3b_2a_1x1 (Activation)   (None, 60, 28, 28, 1 0           Conv3d_3b_2a_1x1_bn[0][0]        \n",
      "__________________________________________________________________________________________________\n",
      "MaxPool2d_3b_3a_3x3 (MaxPooling (None, 60, 28, 28, 1 0           MaxPool2d_3a_3x3[0][0]           \n",
      "__________________________________________________________________________________________________\n",
      "Conv3d_3b_0a_1x1_conv (Conv3D)  (None, 60, 28, 28, 6 12288       MaxPool2d_3a_3x3[0][0]           \n",
      "__________________________________________________________________________________________________\n",
      "Conv3d_3b_1b_3x3_conv (Conv3D)  (None, 60, 28, 28, 1 331776      Conv3d_3b_1a_1x1[0][0]           \n",
      "__________________________________________________________________________________________________\n",
      "Conv3d_3b_2b_3x3_conv (Conv3D)  (None, 60, 28, 28, 3 13824       Conv3d_3b_2a_1x1[0][0]           \n",
      "__________________________________________________________________________________________________\n",
      "Conv3d_3b_3b_1x1_conv (Conv3D)  (None, 60, 28, 28, 3 6144        MaxPool2d_3b_3a_3x3[0][0]        \n",
      "__________________________________________________________________________________________________\n",
      "Conv3d_3b_0a_1x1_bn (BatchNorma (None, 60, 28, 28, 6 192         Conv3d_3b_0a_1x1_conv[0][0]      \n",
      "__________________________________________________________________________________________________\n",
      "Conv3d_3b_1b_3x3_bn (BatchNorma (None, 60, 28, 28, 1 384         Conv3d_3b_1b_3x3_conv[0][0]      \n",
      "__________________________________________________________________________________________________\n",
      "Conv3d_3b_2b_3x3_bn (BatchNorma (None, 60, 28, 28, 3 96          Conv3d_3b_2b_3x3_conv[0][0]      \n",
      "__________________________________________________________________________________________________\n",
      "Conv3d_3b_3b_1x1_bn (BatchNorma (None, 60, 28, 28, 3 96          Conv3d_3b_3b_1x1_conv[0][0]      \n",
      "__________________________________________________________________________________________________\n",
      "Conv3d_3b_0a_1x1 (Activation)   (None, 60, 28, 28, 6 0           Conv3d_3b_0a_1x1_bn[0][0]        \n",
      "__________________________________________________________________________________________________\n",
      "Conv3d_3b_1b_3x3 (Activation)   (None, 60, 28, 28, 1 0           Conv3d_3b_1b_3x3_bn[0][0]        \n",
      "__________________________________________________________________________________________________\n",
      "Conv3d_3b_2b_3x3 (Activation)   (None, 60, 28, 28, 3 0           Conv3d_3b_2b_3x3_bn[0][0]        \n",
      "__________________________________________________________________________________________________\n",
      "Conv3d_3b_3b_1x1 (Activation)   (None, 60, 28, 28, 3 0           Conv3d_3b_3b_1x1_bn[0][0]        \n",
      "__________________________________________________________________________________________________\n",
      "Mixed_3b (Concatenate)          (None, 60, 28, 28, 2 0           Conv3d_3b_0a_1x1[0][0]           \n",
      "                                                                 Conv3d_3b_1b_3x3[0][0]           \n",
      "                                                                 Conv3d_3b_2b_3x3[0][0]           \n",
      "                                                                 Conv3d_3b_3b_1x1[0][0]           \n",
      "__________________________________________________________________________________________________\n",
      "Conv3d_3c_1a_1x1_conv (Conv3D)  (None, 60, 28, 28, 1 32768       Mixed_3b[0][0]                   \n",
      "__________________________________________________________________________________________________\n",
      "Conv3d_3c_2a_1x1_conv (Conv3D)  (None, 60, 28, 28, 3 8192        Mixed_3b[0][0]                   \n",
      "__________________________________________________________________________________________________\n",
      "Conv3d_3c_1a_1x1_bn (BatchNorma (None, 60, 28, 28, 1 384         Conv3d_3c_1a_1x1_conv[0][0]      \n",
      "__________________________________________________________________________________________________\n",
      "Conv3d_3c_2a_1x1_bn (BatchNorma (None, 60, 28, 28, 3 96          Conv3d_3c_2a_1x1_conv[0][0]      \n",
      "__________________________________________________________________________________________________\n",
      "Conv3d_3c_1a_1x1 (Activation)   (None, 60, 28, 28, 1 0           Conv3d_3c_1a_1x1_bn[0][0]        \n",
      "__________________________________________________________________________________________________\n",
      "Conv3d_3c_2a_1x1 (Activation)   (None, 60, 28, 28, 3 0           Conv3d_3c_2a_1x1_bn[0][0]        \n",
      "__________________________________________________________________________________________________\n",
      "MaxPool2d_3c_3a_3x3 (MaxPooling (None, 60, 28, 28, 2 0           Mixed_3b[0][0]                   \n",
      "__________________________________________________________________________________________________\n",
      "Conv3d_3c_0a_1x1_conv (Conv3D)  (None, 60, 28, 28, 1 32768       Mixed_3b[0][0]                   \n",
      "__________________________________________________________________________________________________\n",
      "Conv3d_3c_1b_3x3_conv (Conv3D)  (None, 60, 28, 28, 1 663552      Conv3d_3c_1a_1x1[0][0]           \n",
      "__________________________________________________________________________________________________\n",
      "Conv3d_3c_2b_3x3_conv (Conv3D)  (None, 60, 28, 28, 9 82944       Conv3d_3c_2a_1x1[0][0]           \n",
      "__________________________________________________________________________________________________\n",
      "Conv3d_3c_3b_1x1_conv (Conv3D)  (None, 60, 28, 28, 6 16384       MaxPool2d_3c_3a_3x3[0][0]        \n",
      "__________________________________________________________________________________________________\n",
      "Conv3d_3c_0a_1x1_bn (BatchNorma (None, 60, 28, 28, 1 384         Conv3d_3c_0a_1x1_conv[0][0]      \n",
      "__________________________________________________________________________________________________\n",
      "Conv3d_3c_1b_3x3_bn (BatchNorma (None, 60, 28, 28, 1 576         Conv3d_3c_1b_3x3_conv[0][0]      \n",
      "__________________________________________________________________________________________________\n",
      "Conv3d_3c_2b_3x3_bn (BatchNorma (None, 60, 28, 28, 9 288         Conv3d_3c_2b_3x3_conv[0][0]      \n",
      "__________________________________________________________________________________________________\n",
      "Conv3d_3c_3b_1x1_bn (BatchNorma (None, 60, 28, 28, 6 192         Conv3d_3c_3b_1x1_conv[0][0]      \n",
      "__________________________________________________________________________________________________\n",
      "Conv3d_3c_0a_1x1 (Activation)   (None, 60, 28, 28, 1 0           Conv3d_3c_0a_1x1_bn[0][0]        \n",
      "__________________________________________________________________________________________________\n",
      "Conv3d_3c_1b_3x3 (Activation)   (None, 60, 28, 28, 1 0           Conv3d_3c_1b_3x3_bn[0][0]        \n",
      "__________________________________________________________________________________________________\n",
      "Conv3d_3c_2b_3x3 (Activation)   (None, 60, 28, 28, 9 0           Conv3d_3c_2b_3x3_bn[0][0]        \n",
      "__________________________________________________________________________________________________\n",
      "Conv3d_3c_3b_1x1 (Activation)   (None, 60, 28, 28, 6 0           Conv3d_3c_3b_1x1_bn[0][0]        \n",
      "__________________________________________________________________________________________________\n",
      "Mixed_3c (Concatenate)          (None, 60, 28, 28, 4 0           Conv3d_3c_0a_1x1[0][0]           \n",
      "                                                                 Conv3d_3c_1b_3x3[0][0]           \n",
      "                                                                 Conv3d_3c_2b_3x3[0][0]           \n",
      "                                                                 Conv3d_3c_3b_1x1[0][0]           \n",
      "__________________________________________________________________________________________________\n",
      "MaxPool2d_4a_3x3 (MaxPooling3D) (None, 30, 14, 14, 4 0           Mixed_3c[0][0]                   \n",
      "__________________________________________________________________________________________________\n",
      "Conv3d_4b_1a_1x1_conv (Conv3D)  (None, 30, 14, 14, 9 46080       MaxPool2d_4a_3x3[0][0]           \n",
      "__________________________________________________________________________________________________\n",
      "Conv3d_4b_2a_1x1_conv (Conv3D)  (None, 30, 14, 14, 1 7680        MaxPool2d_4a_3x3[0][0]           \n",
      "__________________________________________________________________________________________________\n",
      "Conv3d_4b_1a_1x1_bn (BatchNorma (None, 30, 14, 14, 9 288         Conv3d_4b_1a_1x1_conv[0][0]      \n",
      "__________________________________________________________________________________________________\n",
      "Conv3d_4b_2a_1x1_bn (BatchNorma (None, 30, 14, 14, 1 48          Conv3d_4b_2a_1x1_conv[0][0]      \n",
      "__________________________________________________________________________________________________\n",
      "Conv3d_4b_1a_1x1 (Activation)   (None, 30, 14, 14, 9 0           Conv3d_4b_1a_1x1_bn[0][0]        \n",
      "__________________________________________________________________________________________________\n",
      "Conv3d_4b_2a_1x1 (Activation)   (None, 30, 14, 14, 1 0           Conv3d_4b_2a_1x1_bn[0][0]        \n",
      "__________________________________________________________________________________________________\n",
      "MaxPool2d_4b_3a_3x3 (MaxPooling (None, 30, 14, 14, 4 0           MaxPool2d_4a_3x3[0][0]           \n",
      "__________________________________________________________________________________________________\n",
      "Conv3d_4b_0a_1x1_conv (Conv3D)  (None, 30, 14, 14, 1 92160       MaxPool2d_4a_3x3[0][0]           \n",
      "__________________________________________________________________________________________________\n",
      "Conv3d_4b_1b_3x3_conv (Conv3D)  (None, 30, 14, 14, 2 539136      Conv3d_4b_1a_1x1[0][0]           \n",
      "__________________________________________________________________________________________________\n",
      "Conv3d_4b_2b_3x3_conv (Conv3D)  (None, 30, 14, 14, 4 20736       Conv3d_4b_2a_1x1[0][0]           \n",
      "__________________________________________________________________________________________________\n",
      "Conv3d_4b_3b_1x1_conv (Conv3D)  (None, 30, 14, 14, 6 30720       MaxPool2d_4b_3a_3x3[0][0]        \n",
      "__________________________________________________________________________________________________\n",
      "Conv3d_4b_0a_1x1_bn (BatchNorma (None, 30, 14, 14, 1 576         Conv3d_4b_0a_1x1_conv[0][0]      \n",
      "__________________________________________________________________________________________________\n",
      "Conv3d_4b_1b_3x3_bn (BatchNorma (None, 30, 14, 14, 2 624         Conv3d_4b_1b_3x3_conv[0][0]      \n",
      "__________________________________________________________________________________________________\n",
      "Conv3d_4b_2b_3x3_bn (BatchNorma (None, 30, 14, 14, 4 144         Conv3d_4b_2b_3x3_conv[0][0]      \n",
      "__________________________________________________________________________________________________\n",
      "Conv3d_4b_3b_1x1_bn (BatchNorma (None, 30, 14, 14, 6 192         Conv3d_4b_3b_1x1_conv[0][0]      \n",
      "__________________________________________________________________________________________________\n",
      "Conv3d_4b_0a_1x1 (Activation)   (None, 30, 14, 14, 1 0           Conv3d_4b_0a_1x1_bn[0][0]        \n",
      "__________________________________________________________________________________________________\n",
      "Conv3d_4b_1b_3x3 (Activation)   (None, 30, 14, 14, 2 0           Conv3d_4b_1b_3x3_bn[0][0]        \n",
      "__________________________________________________________________________________________________\n",
      "Conv3d_4b_2b_3x3 (Activation)   (None, 30, 14, 14, 4 0           Conv3d_4b_2b_3x3_bn[0][0]        \n",
      "__________________________________________________________________________________________________\n",
      "Conv3d_4b_3b_1x1 (Activation)   (None, 30, 14, 14, 6 0           Conv3d_4b_3b_1x1_bn[0][0]        \n",
      "__________________________________________________________________________________________________\n",
      "Mixed_4b (Concatenate)          (None, 30, 14, 14, 5 0           Conv3d_4b_0a_1x1[0][0]           \n",
      "                                                                 Conv3d_4b_1b_3x3[0][0]           \n",
      "                                                                 Conv3d_4b_2b_3x3[0][0]           \n",
      "                                                                 Conv3d_4b_3b_1x1[0][0]           \n",
      "__________________________________________________________________________________________________\n",
      "Conv3d_4c_1a_1x1_conv (Conv3D)  (None, 30, 14, 14, 1 57344       Mixed_4b[0][0]                   \n",
      "__________________________________________________________________________________________________\n",
      "Conv3d_4c_2a_1x1_conv (Conv3D)  (None, 30, 14, 14, 2 12288       Mixed_4b[0][0]                   \n",
      "__________________________________________________________________________________________________\n",
      "Conv3d_4c_1a_1x1_bn (BatchNorma (None, 30, 14, 14, 1 336         Conv3d_4c_1a_1x1_conv[0][0]      \n",
      "__________________________________________________________________________________________________\n",
      "Conv3d_4c_2a_1x1_bn (BatchNorma (None, 30, 14, 14, 2 72          Conv3d_4c_2a_1x1_conv[0][0]      \n",
      "__________________________________________________________________________________________________\n",
      "Conv3d_4c_1a_1x1 (Activation)   (None, 30, 14, 14, 1 0           Conv3d_4c_1a_1x1_bn[0][0]        \n",
      "__________________________________________________________________________________________________\n",
      "Conv3d_4c_2a_1x1 (Activation)   (None, 30, 14, 14, 2 0           Conv3d_4c_2a_1x1_bn[0][0]        \n",
      "__________________________________________________________________________________________________\n",
      "MaxPool2d_4c_3a_3x3 (MaxPooling (None, 30, 14, 14, 5 0           Mixed_4b[0][0]                   \n",
      "__________________________________________________________________________________________________\n",
      "Conv3d_4c_0a_1x1_conv (Conv3D)  (None, 30, 14, 14, 1 81920       Mixed_4b[0][0]                   \n",
      "__________________________________________________________________________________________________\n",
      "Conv3d_4c_1b_3x3_conv (Conv3D)  (None, 30, 14, 14, 2 677376      Conv3d_4c_1a_1x1[0][0]           \n",
      "__________________________________________________________________________________________________\n",
      "Conv3d_4c_2b_3x3_conv (Conv3D)  (None, 30, 14, 14, 6 41472       Conv3d_4c_2a_1x1[0][0]           \n",
      "__________________________________________________________________________________________________\n",
      "Conv3d_4c_3b_1x1_conv (Conv3D)  (None, 30, 14, 14, 6 32768       MaxPool2d_4c_3a_3x3[0][0]        \n",
      "__________________________________________________________________________________________________\n",
      "Conv3d_4c_0a_1x1_bn (BatchNorma (None, 30, 14, 14, 1 480         Conv3d_4c_0a_1x1_conv[0][0]      \n",
      "__________________________________________________________________________________________________\n",
      "Conv3d_4c_1b_3x3_bn (BatchNorma (None, 30, 14, 14, 2 672         Conv3d_4c_1b_3x3_conv[0][0]      \n",
      "__________________________________________________________________________________________________\n",
      "Conv3d_4c_2b_3x3_bn (BatchNorma (None, 30, 14, 14, 6 192         Conv3d_4c_2b_3x3_conv[0][0]      \n",
      "__________________________________________________________________________________________________\n",
      "Conv3d_4c_3b_1x1_bn (BatchNorma (None, 30, 14, 14, 6 192         Conv3d_4c_3b_1x1_conv[0][0]      \n",
      "__________________________________________________________________________________________________\n",
      "Conv3d_4c_0a_1x1 (Activation)   (None, 30, 14, 14, 1 0           Conv3d_4c_0a_1x1_bn[0][0]        \n",
      "__________________________________________________________________________________________________\n",
      "Conv3d_4c_1b_3x3 (Activation)   (None, 30, 14, 14, 2 0           Conv3d_4c_1b_3x3_bn[0][0]        \n",
      "__________________________________________________________________________________________________\n",
      "Conv3d_4c_2b_3x3 (Activation)   (None, 30, 14, 14, 6 0           Conv3d_4c_2b_3x3_bn[0][0]        \n",
      "__________________________________________________________________________________________________\n",
      "Conv3d_4c_3b_1x1 (Activation)   (None, 30, 14, 14, 6 0           Conv3d_4c_3b_1x1_bn[0][0]        \n",
      "__________________________________________________________________________________________________\n",
      "Mixed_4c (Concatenate)          (None, 30, 14, 14, 5 0           Conv3d_4c_0a_1x1[0][0]           \n",
      "                                                                 Conv3d_4c_1b_3x3[0][0]           \n",
      "                                                                 Conv3d_4c_2b_3x3[0][0]           \n",
      "                                                                 Conv3d_4c_3b_1x1[0][0]           \n",
      "__________________________________________________________________________________________________\n",
      "Conv3d_4d_1a_1x1_conv (Conv3D)  (None, 30, 14, 14, 1 65536       Mixed_4c[0][0]                   \n",
      "__________________________________________________________________________________________________\n",
      "Conv3d_4d_2a_1x1_conv (Conv3D)  (None, 30, 14, 14, 2 12288       Mixed_4c[0][0]                   \n",
      "__________________________________________________________________________________________________\n",
      "Conv3d_4d_1a_1x1_bn (BatchNorma (None, 30, 14, 14, 1 384         Conv3d_4d_1a_1x1_conv[0][0]      \n",
      "__________________________________________________________________________________________________\n",
      "Conv3d_4d_2a_1x1_bn (BatchNorma (None, 30, 14, 14, 2 72          Conv3d_4d_2a_1x1_conv[0][0]      \n",
      "__________________________________________________________________________________________________\n",
      "Conv3d_4d_1a_1x1 (Activation)   (None, 30, 14, 14, 1 0           Conv3d_4d_1a_1x1_bn[0][0]        \n",
      "__________________________________________________________________________________________________\n",
      "Conv3d_4d_2a_1x1 (Activation)   (None, 30, 14, 14, 2 0           Conv3d_4d_2a_1x1_bn[0][0]        \n",
      "__________________________________________________________________________________________________\n",
      "MaxPool2d_4d_3a_3x3 (MaxPooling (None, 30, 14, 14, 5 0           Mixed_4c[0][0]                   \n",
      "__________________________________________________________________________________________________\n",
      "Conv3d_4d_0a_1x1_conv (Conv3D)  (None, 30, 14, 14, 1 65536       Mixed_4c[0][0]                   \n",
      "__________________________________________________________________________________________________\n",
      "Conv3d_4d_1b_3x3_conv (Conv3D)  (None, 30, 14, 14, 2 884736      Conv3d_4d_1a_1x1[0][0]           \n",
      "__________________________________________________________________________________________________\n",
      "Conv3d_4d_2b_3x3_conv (Conv3D)  (None, 30, 14, 14, 6 41472       Conv3d_4d_2a_1x1[0][0]           \n",
      "__________________________________________________________________________________________________\n",
      "Conv3d_4d_3b_1x1_conv (Conv3D)  (None, 30, 14, 14, 6 32768       MaxPool2d_4d_3a_3x3[0][0]        \n",
      "__________________________________________________________________________________________________\n",
      "Conv3d_4d_0a_1x1_bn (BatchNorma (None, 30, 14, 14, 1 384         Conv3d_4d_0a_1x1_conv[0][0]      \n",
      "__________________________________________________________________________________________________\n",
      "Conv3d_4d_1b_3x3_bn (BatchNorma (None, 30, 14, 14, 2 768         Conv3d_4d_1b_3x3_conv[0][0]      \n",
      "__________________________________________________________________________________________________\n",
      "Conv3d_4d_2b_3x3_bn (BatchNorma (None, 30, 14, 14, 6 192         Conv3d_4d_2b_3x3_conv[0][0]      \n",
      "__________________________________________________________________________________________________\n",
      "Conv3d_4d_3b_1x1_bn (BatchNorma (None, 30, 14, 14, 6 192         Conv3d_4d_3b_1x1_conv[0][0]      \n",
      "__________________________________________________________________________________________________\n",
      "Conv3d_4d_0a_1x1 (Activation)   (None, 30, 14, 14, 1 0           Conv3d_4d_0a_1x1_bn[0][0]        \n",
      "__________________________________________________________________________________________________\n",
      "Conv3d_4d_1b_3x3 (Activation)   (None, 30, 14, 14, 2 0           Conv3d_4d_1b_3x3_bn[0][0]        \n",
      "__________________________________________________________________________________________________\n",
      "Conv3d_4d_2b_3x3 (Activation)   (None, 30, 14, 14, 6 0           Conv3d_4d_2b_3x3_bn[0][0]        \n",
      "__________________________________________________________________________________________________\n",
      "Conv3d_4d_3b_1x1 (Activation)   (None, 30, 14, 14, 6 0           Conv3d_4d_3b_1x1_bn[0][0]        \n",
      "__________________________________________________________________________________________________\n",
      "Mixed_4d (Concatenate)          (None, 30, 14, 14, 5 0           Conv3d_4d_0a_1x1[0][0]           \n",
      "                                                                 Conv3d_4d_1b_3x3[0][0]           \n",
      "                                                                 Conv3d_4d_2b_3x3[0][0]           \n",
      "                                                                 Conv3d_4d_3b_1x1[0][0]           \n",
      "__________________________________________________________________________________________________\n",
      "Conv3d_4e_1a_1x1_conv (Conv3D)  (None, 30, 14, 14, 1 73728       Mixed_4d[0][0]                   \n",
      "__________________________________________________________________________________________________\n",
      "Conv3d_4e_2a_1x1_conv (Conv3D)  (None, 30, 14, 14, 3 16384       Mixed_4d[0][0]                   \n",
      "__________________________________________________________________________________________________\n",
      "Conv3d_4e_1a_1x1_bn (BatchNorma (None, 30, 14, 14, 1 432         Conv3d_4e_1a_1x1_conv[0][0]      \n",
      "__________________________________________________________________________________________________\n",
      "Conv3d_4e_2a_1x1_bn (BatchNorma (None, 30, 14, 14, 3 96          Conv3d_4e_2a_1x1_conv[0][0]      \n",
      "__________________________________________________________________________________________________\n",
      "Conv3d_4e_1a_1x1 (Activation)   (None, 30, 14, 14, 1 0           Conv3d_4e_1a_1x1_bn[0][0]        \n",
      "__________________________________________________________________________________________________\n",
      "Conv3d_4e_2a_1x1 (Activation)   (None, 30, 14, 14, 3 0           Conv3d_4e_2a_1x1_bn[0][0]        \n",
      "__________________________________________________________________________________________________\n",
      "MaxPool2d_4e_3a_3x3 (MaxPooling (None, 30, 14, 14, 5 0           Mixed_4d[0][0]                   \n",
      "__________________________________________________________________________________________________\n",
      "Conv3d_4e_0a_1x1_conv (Conv3D)  (None, 30, 14, 14, 1 57344       Mixed_4d[0][0]                   \n",
      "__________________________________________________________________________________________________\n",
      "Conv3d_4e_1b_3x3_conv (Conv3D)  (None, 30, 14, 14, 2 1119744     Conv3d_4e_1a_1x1[0][0]           \n",
      "__________________________________________________________________________________________________\n",
      "Conv3d_4e_2b_3x3_conv (Conv3D)  (None, 30, 14, 14, 6 55296       Conv3d_4e_2a_1x1[0][0]           \n",
      "__________________________________________________________________________________________________\n",
      "Conv3d_4e_3b_1x1_conv (Conv3D)  (None, 30, 14, 14, 6 32768       MaxPool2d_4e_3a_3x3[0][0]        \n",
      "__________________________________________________________________________________________________\n",
      "Conv3d_4e_0a_1x1_bn (BatchNorma (None, 30, 14, 14, 1 336         Conv3d_4e_0a_1x1_conv[0][0]      \n",
      "__________________________________________________________________________________________________\n",
      "Conv3d_4e_1b_3x3_bn (BatchNorma (None, 30, 14, 14, 2 864         Conv3d_4e_1b_3x3_conv[0][0]      \n",
      "__________________________________________________________________________________________________\n",
      "Conv3d_4e_2b_3x3_bn (BatchNorma (None, 30, 14, 14, 6 192         Conv3d_4e_2b_3x3_conv[0][0]      \n",
      "__________________________________________________________________________________________________\n",
      "Conv3d_4e_3b_1x1_bn (BatchNorma (None, 30, 14, 14, 6 192         Conv3d_4e_3b_1x1_conv[0][0]      \n",
      "__________________________________________________________________________________________________\n",
      "Conv3d_4e_0a_1x1 (Activation)   (None, 30, 14, 14, 1 0           Conv3d_4e_0a_1x1_bn[0][0]        \n",
      "__________________________________________________________________________________________________\n",
      "Conv3d_4e_1b_3x3 (Activation)   (None, 30, 14, 14, 2 0           Conv3d_4e_1b_3x3_bn[0][0]        \n",
      "__________________________________________________________________________________________________\n",
      "Conv3d_4e_2b_3x3 (Activation)   (None, 30, 14, 14, 6 0           Conv3d_4e_2b_3x3_bn[0][0]        \n",
      "__________________________________________________________________________________________________\n",
      "Conv3d_4e_3b_1x1 (Activation)   (None, 30, 14, 14, 6 0           Conv3d_4e_3b_1x1_bn[0][0]        \n",
      "__________________________________________________________________________________________________\n",
      "Mixed_4e (Concatenate)          (None, 30, 14, 14, 5 0           Conv3d_4e_0a_1x1[0][0]           \n",
      "                                                                 Conv3d_4e_1b_3x3[0][0]           \n",
      "                                                                 Conv3d_4e_2b_3x3[0][0]           \n",
      "                                                                 Conv3d_4e_3b_1x1[0][0]           \n",
      "__________________________________________________________________________________________________\n",
      "Conv3d_4f_1a_1x1_conv (Conv3D)  (None, 30, 14, 14, 1 84480       Mixed_4e[0][0]                   \n",
      "__________________________________________________________________________________________________\n",
      "Conv3d_4f_2a_1x1_conv (Conv3D)  (None, 30, 14, 14, 3 16896       Mixed_4e[0][0]                   \n",
      "__________________________________________________________________________________________________\n",
      "Conv3d_4f_1a_1x1_bn (BatchNorma (None, 30, 14, 14, 1 480         Conv3d_4f_1a_1x1_conv[0][0]      \n",
      "__________________________________________________________________________________________________\n",
      "Conv3d_4f_2a_1x1_bn (BatchNorma (None, 30, 14, 14, 3 96          Conv3d_4f_2a_1x1_conv[0][0]      \n",
      "__________________________________________________________________________________________________\n",
      "Conv3d_4f_1a_1x1 (Activation)   (None, 30, 14, 14, 1 0           Conv3d_4f_1a_1x1_bn[0][0]        \n",
      "__________________________________________________________________________________________________\n",
      "Conv3d_4f_2a_1x1 (Activation)   (None, 30, 14, 14, 3 0           Conv3d_4f_2a_1x1_bn[0][0]        \n",
      "__________________________________________________________________________________________________\n",
      "MaxPool2d_4f_3a_3x3 (MaxPooling (None, 30, 14, 14, 5 0           Mixed_4e[0][0]                   \n",
      "__________________________________________________________________________________________________\n",
      "Conv3d_4f_0a_1x1_conv (Conv3D)  (None, 30, 14, 14, 2 135168      Mixed_4e[0][0]                   \n",
      "__________________________________________________________________________________________________\n",
      "Conv3d_4f_1b_3x3_conv (Conv3D)  (None, 30, 14, 14, 3 1382400     Conv3d_4f_1a_1x1[0][0]           \n",
      "__________________________________________________________________________________________________\n",
      "Conv3d_4f_2b_3x3_conv (Conv3D)  (None, 30, 14, 14, 1 110592      Conv3d_4f_2a_1x1[0][0]           \n",
      "__________________________________________________________________________________________________\n",
      "Conv3d_4f_3b_1x1_conv (Conv3D)  (None, 30, 14, 14, 1 67584       MaxPool2d_4f_3a_3x3[0][0]        \n",
      "__________________________________________________________________________________________________\n",
      "Conv3d_4f_0a_1x1_bn (BatchNorma (None, 30, 14, 14, 2 768         Conv3d_4f_0a_1x1_conv[0][0]      \n",
      "__________________________________________________________________________________________________\n",
      "Conv3d_4f_1b_3x3_bn (BatchNorma (None, 30, 14, 14, 3 960         Conv3d_4f_1b_3x3_conv[0][0]      \n",
      "__________________________________________________________________________________________________\n",
      "Conv3d_4f_2b_3x3_bn (BatchNorma (None, 30, 14, 14, 1 384         Conv3d_4f_2b_3x3_conv[0][0]      \n",
      "__________________________________________________________________________________________________\n",
      "Conv3d_4f_3b_1x1_bn (BatchNorma (None, 30, 14, 14, 1 384         Conv3d_4f_3b_1x1_conv[0][0]      \n",
      "__________________________________________________________________________________________________\n",
      "Conv3d_4f_0a_1x1 (Activation)   (None, 30, 14, 14, 2 0           Conv3d_4f_0a_1x1_bn[0][0]        \n",
      "__________________________________________________________________________________________________\n",
      "Conv3d_4f_1b_3x3 (Activation)   (None, 30, 14, 14, 3 0           Conv3d_4f_1b_3x3_bn[0][0]        \n",
      "__________________________________________________________________________________________________\n",
      "Conv3d_4f_2b_3x3 (Activation)   (None, 30, 14, 14, 1 0           Conv3d_4f_2b_3x3_bn[0][0]        \n",
      "__________________________________________________________________________________________________\n",
      "Conv3d_4f_3b_1x1 (Activation)   (None, 30, 14, 14, 1 0           Conv3d_4f_3b_1x1_bn[0][0]        \n",
      "__________________________________________________________________________________________________\n",
      "Mixed_4f (Concatenate)          (None, 30, 14, 14, 8 0           Conv3d_4f_0a_1x1[0][0]           \n",
      "                                                                 Conv3d_4f_1b_3x3[0][0]           \n",
      "                                                                 Conv3d_4f_2b_3x3[0][0]           \n",
      "                                                                 Conv3d_4f_3b_1x1[0][0]           \n",
      "__________________________________________________________________________________________________\n",
      "MaxPool2d_5a_2x2 (MaxPooling3D) (None, 15, 7, 7, 832 0           Mixed_4f[0][0]                   \n",
      "__________________________________________________________________________________________________\n",
      "Conv3d_5b_1a_1x1_conv (Conv3D)  (None, 15, 7, 7, 160 133120      MaxPool2d_5a_2x2[0][0]           \n",
      "__________________________________________________________________________________________________\n",
      "Conv3d_5b_2a_1x1_conv (Conv3D)  (None, 15, 7, 7, 32) 26624       MaxPool2d_5a_2x2[0][0]           \n",
      "__________________________________________________________________________________________________\n",
      "Conv3d_5b_1a_1x1_bn (BatchNorma (None, 15, 7, 7, 160 480         Conv3d_5b_1a_1x1_conv[0][0]      \n",
      "__________________________________________________________________________________________________\n",
      "Conv3d_5b_2a_1x1_bn (BatchNorma (None, 15, 7, 7, 32) 96          Conv3d_5b_2a_1x1_conv[0][0]      \n",
      "__________________________________________________________________________________________________\n",
      "Conv3d_5b_1a_1x1 (Activation)   (None, 15, 7, 7, 160 0           Conv3d_5b_1a_1x1_bn[0][0]        \n",
      "__________________________________________________________________________________________________\n",
      "Conv3d_5b_2a_1x1 (Activation)   (None, 15, 7, 7, 32) 0           Conv3d_5b_2a_1x1_bn[0][0]        \n",
      "__________________________________________________________________________________________________\n",
      "MaxPool2d_5b_3a_3x3 (MaxPooling (None, 15, 7, 7, 832 0           MaxPool2d_5a_2x2[0][0]           \n",
      "__________________________________________________________________________________________________\n",
      "Conv3d_5b_0a_1x1_conv (Conv3D)  (None, 15, 7, 7, 256 212992      MaxPool2d_5a_2x2[0][0]           \n",
      "__________________________________________________________________________________________________\n",
      "Conv3d_5b_1b_3x3_conv (Conv3D)  (None, 15, 7, 7, 320 1382400     Conv3d_5b_1a_1x1[0][0]           \n",
      "__________________________________________________________________________________________________\n",
      "Conv3d_5b_2b_3x3_conv (Conv3D)  (None, 15, 7, 7, 128 110592      Conv3d_5b_2a_1x1[0][0]           \n",
      "__________________________________________________________________________________________________\n",
      "Conv3d_5b_3b_1x1_conv (Conv3D)  (None, 15, 7, 7, 128 106496      MaxPool2d_5b_3a_3x3[0][0]        \n",
      "__________________________________________________________________________________________________\n",
      "Conv3d_5b_0a_1x1_bn (BatchNorma (None, 15, 7, 7, 256 768         Conv3d_5b_0a_1x1_conv[0][0]      \n",
      "__________________________________________________________________________________________________\n",
      "Conv3d_5b_1b_3x3_bn (BatchNorma (None, 15, 7, 7, 320 960         Conv3d_5b_1b_3x3_conv[0][0]      \n",
      "__________________________________________________________________________________________________\n",
      "Conv3d_5b_2b_3x3_bn (BatchNorma (None, 15, 7, 7, 128 384         Conv3d_5b_2b_3x3_conv[0][0]      \n",
      "__________________________________________________________________________________________________\n",
      "Conv3d_5b_3b_1x1_bn (BatchNorma (None, 15, 7, 7, 128 384         Conv3d_5b_3b_1x1_conv[0][0]      \n",
      "__________________________________________________________________________________________________\n",
      "Conv3d_5b_0a_1x1 (Activation)   (None, 15, 7, 7, 256 0           Conv3d_5b_0a_1x1_bn[0][0]        \n",
      "__________________________________________________________________________________________________\n",
      "Conv3d_5b_1b_3x3 (Activation)   (None, 15, 7, 7, 320 0           Conv3d_5b_1b_3x3_bn[0][0]        \n",
      "__________________________________________________________________________________________________\n",
      "Conv3d_5b_2b_3x3 (Activation)   (None, 15, 7, 7, 128 0           Conv3d_5b_2b_3x3_bn[0][0]        \n",
      "__________________________________________________________________________________________________\n",
      "Conv3d_5b_3b_1x1 (Activation)   (None, 15, 7, 7, 128 0           Conv3d_5b_3b_1x1_bn[0][0]        \n",
      "__________________________________________________________________________________________________\n",
      "Mixed_5b (Concatenate)          (None, 15, 7, 7, 832 0           Conv3d_5b_0a_1x1[0][0]           \n",
      "                                                                 Conv3d_5b_1b_3x3[0][0]           \n",
      "                                                                 Conv3d_5b_2b_3x3[0][0]           \n",
      "                                                                 Conv3d_5b_3b_1x1[0][0]           \n",
      "__________________________________________________________________________________________________\n",
      "Conv3d_5c_1a_1x1_conv (Conv3D)  (None, 15, 7, 7, 192 159744      Mixed_5b[0][0]                   \n",
      "__________________________________________________________________________________________________\n",
      "Conv3d_5c_2a_1x1_conv (Conv3D)  (None, 15, 7, 7, 48) 39936       Mixed_5b[0][0]                   \n",
      "__________________________________________________________________________________________________\n",
      "Conv3d_5c_1a_1x1_bn (BatchNorma (None, 15, 7, 7, 192 576         Conv3d_5c_1a_1x1_conv[0][0]      \n",
      "__________________________________________________________________________________________________\n",
      "Conv3d_5c_2a_1x1_bn (BatchNorma (None, 15, 7, 7, 48) 144         Conv3d_5c_2a_1x1_conv[0][0]      \n",
      "__________________________________________________________________________________________________\n",
      "Conv3d_5c_1a_1x1 (Activation)   (None, 15, 7, 7, 192 0           Conv3d_5c_1a_1x1_bn[0][0]        \n",
      "__________________________________________________________________________________________________\n",
      "Conv3d_5c_2a_1x1 (Activation)   (None, 15, 7, 7, 48) 0           Conv3d_5c_2a_1x1_bn[0][0]        \n",
      "__________________________________________________________________________________________________\n",
      "MaxPool2d_5c_3a_3x3 (MaxPooling (None, 15, 7, 7, 832 0           Mixed_5b[0][0]                   \n",
      "__________________________________________________________________________________________________\n",
      "Conv3d_5c_0a_1x1_conv (Conv3D)  (None, 15, 7, 7, 384 319488      Mixed_5b[0][0]                   \n",
      "__________________________________________________________________________________________________\n",
      "Conv3d_5c_1b_3x3_conv (Conv3D)  (None, 15, 7, 7, 384 1990656     Conv3d_5c_1a_1x1[0][0]           \n",
      "__________________________________________________________________________________________________\n",
      "Conv3d_5c_2b_3x3_conv (Conv3D)  (None, 15, 7, 7, 128 165888      Conv3d_5c_2a_1x1[0][0]           \n",
      "__________________________________________________________________________________________________\n",
      "Conv3d_5c_3b_1x1_conv (Conv3D)  (None, 15, 7, 7, 128 106496      MaxPool2d_5c_3a_3x3[0][0]        \n",
      "__________________________________________________________________________________________________\n",
      "Conv3d_5c_0a_1x1_bn (BatchNorma (None, 15, 7, 7, 384 1152        Conv3d_5c_0a_1x1_conv[0][0]      \n",
      "__________________________________________________________________________________________________\n",
      "Conv3d_5c_1b_3x3_bn (BatchNorma (None, 15, 7, 7, 384 1152        Conv3d_5c_1b_3x3_conv[0][0]      \n",
      "__________________________________________________________________________________________________\n",
      "Conv3d_5c_2b_3x3_bn (BatchNorma (None, 15, 7, 7, 128 384         Conv3d_5c_2b_3x3_conv[0][0]      \n",
      "__________________________________________________________________________________________________\n",
      "Conv3d_5c_3b_1x1_bn (BatchNorma (None, 15, 7, 7, 128 384         Conv3d_5c_3b_1x1_conv[0][0]      \n",
      "__________________________________________________________________________________________________\n",
      "Conv3d_5c_0a_1x1 (Activation)   (None, 15, 7, 7, 384 0           Conv3d_5c_0a_1x1_bn[0][0]        \n",
      "__________________________________________________________________________________________________\n",
      "Conv3d_5c_1b_3x3 (Activation)   (None, 15, 7, 7, 384 0           Conv3d_5c_1b_3x3_bn[0][0]        \n",
      "__________________________________________________________________________________________________\n",
      "Conv3d_5c_2b_3x3 (Activation)   (None, 15, 7, 7, 128 0           Conv3d_5c_2b_3x3_bn[0][0]        \n",
      "__________________________________________________________________________________________________\n",
      "Conv3d_5c_3b_1x1 (Activation)   (None, 15, 7, 7, 128 0           Conv3d_5c_3b_1x1_bn[0][0]        \n",
      "__________________________________________________________________________________________________\n",
      "Mixed_5c (Concatenate)          (None, 15, 7, 7, 102 0           Conv3d_5c_0a_1x1[0][0]           \n",
      "                                                                 Conv3d_5c_1b_3x3[0][0]           \n",
      "                                                                 Conv3d_5c_2b_3x3[0][0]           \n",
      "                                                                 Conv3d_5c_3b_1x1[0][0]           \n",
      "__________________________________________________________________________________________________\n",
      "global_avg_pool (AveragePooling (None, 14, 1, 1, 102 0           Mixed_5c[0][0]                   \n",
      "__________________________________________________________________________________________________\n",
      "i3d_top (Model)                 (None, 3)            3075        global_avg_pool[0][0]            \n",
      "==================================================================================================\n",
      "Total params: 12,297,619\n",
      "Trainable params: 3,075\n",
      "Non-trainable params: 12,294,544\n",
      "__________________________________________________________________________________________________\n"
     ]
    },
    {
     "name": "stderr",
     "output_type": "stream",
     "text": [
      "/content/drive/My Drive/_main_/GoForward_/i3D_model/1c3d_2016/model_i3d.py:625: UserWarning: Update your `Model` call to the Keras 2 API: `Model(inputs=Tensor(\"in..., name=\"i3d_with_top\", outputs=Tensor(\"i3...)`\n",
      "  new_model = Model(inputs = base_model.input, output = predictions, name = \"i3d_with_top\")\n"
     ]
    }
   ],
   "source": [
    "keI3DOflow = add_i3d_top(keI3DOflow, oClasses.nClasses, dropout_prob=0.5)\n",
    "keI3DOflow.summary()"
   ]
  },
  {
   "cell_type": "code",
   "execution_count": 50,
   "metadata": {
    "colab": {
     "base_uri": "https://localhost:8080/",
     "height": 33
    },
    "colab_type": "code",
    "executionInfo": {
     "elapsed": 902,
     "status": "ok",
     "timestamp": 1587304018007,
     "user": {
      "displayName": "hit code",
      "photoUrl": "",
      "userId": "09141943501924995910"
     },
     "user_tz": 300
    },
    "id": "-TZ3iIcsaUca",
    "outputId": "0f1aa4a8-dc6a-4c97-b42b-054fc59132a2"
   },
   "outputs": [
    {
     "data": {
      "text/plain": [
       "'20200419-1346-chalearn_img_flow_tvl1-fast003-oflow-i3d'"
      ]
     },
     "execution_count": 50,
     "metadata": {
      "tags": []
     },
     "output_type": "execute_result"
    }
   ],
   "source": [
    "# Prep logging\n",
    "sLog = time.strftime(\"%Y%m%d-%H%M\", time.gmtime()) + \\\n",
    "    \"-%s%03d-oflow-i3d\"%(diVideoSet[\"sName\"], diVideoSet[\"nClasses\"])\n",
    "sLog"
   ]
  },
  {
   "cell_type": "code",
   "execution_count": 0,
   "metadata": {
    "colab": {},
    "colab_type": "code",
    "id": "dhWlDnrHduIf"
   },
   "outputs": [],
   "source": [
    "# Helper: Save results\n",
    "csv_logger = keras.callbacks.CSVLogger(\"log/\" + sLog + \"-acc.csv\", append = True)\n",
    "\n",
    "# Helper: Save the model\n",
    "os.makedirs(sModelDir, exist_ok=True)\n",
    "cpTopLast = keras.callbacks.ModelCheckpoint(filepath = sModelDir + \"/\" + sLog + \"-above-last.h5\", \n",
    "                                            verbose = 0)\n",
    "\n",
    "cpTopBest = keras.callbacks.ModelCheckpoint(filepath = sModelDir + \"/\" + sLog + \"-above-best.h5\",\n",
    "                                            verbose = 1, save_best_only = True)\n",
    "\n",
    "cpAllLast = keras.callbacks.ModelCheckpoint(filepath = sModelDir + \"/\" + sLog + \"-entire-last.h5\", \n",
    "                                            verbose = 0)\n",
    "\n",
    "cpAllBest = keras.callbacks.ModelCheckpoint(filepath = sModelDir + \"/\" + sLog + \"-entire-best.h5\",\n",
    "                                            verbose = 1, save_best_only = True)"
   ]
  },
  {
   "cell_type": "code",
   "execution_count": 52,
   "metadata": {
    "colab": {
     "base_uri": "https://localhost:8080/",
     "height": 33
    },
    "colab_type": "code",
    "executionInfo": {
     "elapsed": 955,
     "status": "ok",
     "timestamp": 1587304024350,
     "user": {
      "displayName": "hit code",
      "photoUrl": "",
      "userId": "09141943501924995910"
     },
     "user_tz": 300
    },
    "id": "tLhXFKnSiPLw",
    "outputId": "a09b4832-d15d-47c8-a4e3-23ac7eddce01"
   },
   "outputs": [
    {
     "data": {
      "text/plain": [
       "<keras.callbacks.callbacks.ModelCheckpoint at 0x7f60d2169e48>"
      ]
     },
     "execution_count": 52,
     "metadata": {
      "tags": []
     },
     "output_type": "execute_result"
    }
   ],
   "source": [
    "cpAllBest"
   ]
  },
  {
   "cell_type": "code",
   "execution_count": 53,
   "metadata": {
    "colab": {
     "base_uri": "https://localhost:8080/",
     "height": 82
    },
    "colab_type": "code",
    "executionInfo": {
     "elapsed": 861,
     "status": "ok",
     "timestamp": 1587304025873,
     "user": {
      "displayName": "hit code",
      "photoUrl": "",
      "userId": "09141943501924995910"
     },
     "user_tz": 300
    },
    "id": "8tmwV-Y5d_pC",
    "outputId": "2fba6330-9c8a-4a52-e68e-12f0106cdfbf"
   },
   "outputs": [
    {
     "name": "stdout",
     "output_type": "stream",
     "text": [
      "Fit I3D top layers with generator: {'fLearn': 0.001, 'nEpochs': 3}\n",
      "Total params: 12,297,619\n",
      "Trainable params: 3,075\n",
      "Non-trainable params: 12,294,544\n"
     ]
    }
   ],
   "source": [
    "# Fit top layers\n",
    "print(\"Fit I3D top layers with generator: %s\" % (diTrainTop))\n",
    "optimizer = keras.optimizers.Adam(lr = diTrainTop[\"fLearn\"])\n",
    "keI3DOflow.compile(loss='categorical_crossentropy', optimizer=optimizer, metrics=['accuracy'])\n",
    "count_params(keI3DOflow) "
   ]
  },
  {
   "cell_type": "code",
   "execution_count": 54,
   "metadata": {
    "colab": {
     "base_uri": "https://localhost:8080/",
     "height": 998
    },
    "colab_type": "code",
    "executionInfo": {
     "elapsed": 1897418,
     "status": "error",
     "timestamp": 1587305941678,
     "user": {
      "displayName": "hit code",
      "photoUrl": "",
      "userId": "09141943501924995910"
     },
     "user_tz": 300
    },
    "id": "oVpaf0WJd_ug",
    "outputId": "58c00443-fb71-45e7-f4c4-892a36c2a70f"
   },
   "outputs": [
    {
     "name": "stdout",
     "output_type": "stream",
     "text": [
      "WARNING:tensorflow:From /usr/local/lib/python3.6/dist-packages/keras/backend/tensorflow_backend.py:422: The name tf.global_variables is deprecated. Please use tf.compat.v1.global_variables instead.\n",
      "\n",
      "Epoch 1/3\n"
     ]
    },
    {
     "name": "stderr",
     "output_type": "stream",
     "text": [
      "/usr/local/lib/python3.6/dist-packages/keras/utils/data_utils.py:616: UserWarning: The input 6 could not be retrieved. It could be because a worker has died.\n",
      "  UserWarning)\n"
     ]
    },
    {
     "name": "stdout",
     "output_type": "stream",
     "text": [
      " 2/15 [===>..........................] - ETA: 21:24 - loss: 0.9491 - accuracy: 0.6250"
     ]
    },
    {
     "name": "stderr",
     "output_type": "stream",
     "text": [
      "/usr/local/lib/python3.6/dist-packages/keras/utils/data_utils.py:616: UserWarning: The input 3 could not be retrieved. It could be because a worker has died.\n",
      "  UserWarning)\n"
     ]
    },
    {
     "name": "stdout",
     "output_type": "stream",
     "text": [
      " 4/15 [=======>......................] - ETA: 17:11 - loss: 1.1478 - accuracy: 0.5000"
     ]
    },
    {
     "name": "stderr",
     "output_type": "stream",
     "text": [
      "/usr/local/lib/python3.6/dist-packages/keras/utils/data_utils.py:616: UserWarning: The input 7 could not be retrieved. It could be because a worker has died.\n",
      "  UserWarning)\n"
     ]
    },
    {
     "name": "stdout",
     "output_type": "stream",
     "text": [
      " 6/15 [===========>..................] - ETA: 14:03 - loss: 1.3250 - accuracy: 0.3750"
     ]
    },
    {
     "name": "stderr",
     "output_type": "stream",
     "text": [
      "/usr/local/lib/python3.6/dist-packages/keras/utils/data_utils.py:616: UserWarning: The input 5 could not be retrieved. It could be because a worker has died.\n",
      "  UserWarning)\n"
     ]
    },
    {
     "name": "stdout",
     "output_type": "stream",
     "text": [
      " 8/15 [===============>..............] - ETA: 10:56 - loss: 1.2911 - accuracy: 0.3438"
     ]
    },
    {
     "name": "stderr",
     "output_type": "stream",
     "text": [
      "/usr/local/lib/python3.6/dist-packages/keras/utils/data_utils.py:616: UserWarning: The input 1 could not be retrieved. It could be because a worker has died.\n",
      "  UserWarning)\n"
     ]
    },
    {
     "name": "stdout",
     "output_type": "stream",
     "text": [
      "10/15 [===================>..........] - ETA: 7:45 - loss: 1.2522 - accuracy: 0.3500 "
     ]
    },
    {
     "name": "stderr",
     "output_type": "stream",
     "text": [
      "/usr/local/lib/python3.6/dist-packages/keras/utils/data_utils.py:616: UserWarning: The input 14 could not be retrieved. It could be because a worker has died.\n",
      "  UserWarning)\n"
     ]
    },
    {
     "name": "stdout",
     "output_type": "stream",
     "text": [
      "\b\b\b\b\b\b\b\b\b\b\b\b\b\b\b\b\b\b\b\b\b\b\b\b\b\b\b\b\b\b\b\b\b\b\b\b\b\b\b\b\b\b\b\b\b\b\b\b\b\b\b\b\b\b\b\b\b\b\b\b\b\b\b\b\b\b\b\b\b\b\b\b\b\b\b\b\b\b\b\b\b\b\b\b\r",
      "11/15 [=====================>........] - ETA: 6:29 - loss: 1.2328 - accuracy: 0.3488"
     ]
    },
    {
     "name": "stderr",
     "output_type": "stream",
     "text": [
      "/usr/local/lib/python3.6/dist-packages/keras/utils/data_utils.py:616: UserWarning: The input 0 could not be retrieved. It could be because a worker has died.\n",
      "  UserWarning)\n"
     ]
    },
    {
     "name": "stdout",
     "output_type": "stream",
     "text": [
      "\b\b\b\b\b\b\b\b\b\b\b\b\b\b\b\b\b\b\b\b\b\b\b\b\b\b\b\b\b\b\b\b\b\b\b\b\b\b\b\b\b\b\b\b\b\b\b\b\b\b\b\b\b\b\b\b\b\b\b\b\b\b\b\b\b\b\b\b\b\b\b\b\b\b\b\b\b\b\b\b\b\b\b\b\r",
      "12/15 [=======================>......] - ETA: 4:37 - loss: 1.2251 - accuracy: 0.3404"
     ]
    },
    {
     "name": "stderr",
     "output_type": "stream",
     "text": [
      "/usr/local/lib/python3.6/dist-packages/keras/utils/data_utils.py:616: UserWarning: The input 9 could not be retrieved. It could be because a worker has died.\n",
      "  UserWarning)\n"
     ]
    },
    {
     "name": "stdout",
     "output_type": "stream",
     "text": [
      "\b\b\b\b\b\b\b\b\b\b\b\b\b\b\b\b\b\b\b\b\b\b\b\b\b\b\b\b\b\b\b\b\b\b\b\b\b\b\b\b\b\b\b\b\b\b\b\b\b\b\b\b\b\b\b\b\b\b\b\b\b\b\b\b\b\b\b\b\b\b\b\b\b\b\b\b\b\b\b\b\b\b\b\b\r",
      "13/15 [=========================>....] - ETA: 3:12 - loss: 1.2131 - accuracy: 0.3529"
     ]
    },
    {
     "name": "stderr",
     "output_type": "stream",
     "text": [
      "/usr/local/lib/python3.6/dist-packages/keras/utils/data_utils.py:616: UserWarning: The input 10 could not be retrieved. It could be because a worker has died.\n",
      "  UserWarning)\n"
     ]
    },
    {
     "name": "stdout",
     "output_type": "stream",
     "text": [
      "\b\b\b\b\b\b\b\b\b\b\b\b\b\b\b\b\b\b\b\b\b\b\b\b\b\b\b\b\b\b\b\b\b\b\b\b\b\b\b\b\b\b\b\b\b\b\b\b\b\b\b\b\b\b\b\b\b\b\b\b\b\b\b\b\b\b\b\b\b\b\b\b\b\b\b\b\b\b\b\b\b\b\b\b\r",
      "14/15 [===========================>..] - ETA: 1:32 - loss: 1.2218 - accuracy: 0.3273"
     ]
    },
    {
     "name": "stderr",
     "output_type": "stream",
     "text": [
      "/usr/local/lib/python3.6/dist-packages/keras/utils/data_utils.py:616: UserWarning: The input 4 could not be retrieved. It could be because a worker has died.\n",
      "  UserWarning)\n"
     ]
    },
    {
     "name": "stdout",
     "output_type": "stream",
     "text": [
      "\b\b\b\b\b\b\b\b\b\b\b\b\b\b\b\b\b\b\b\b\b\b\b\b\b\b\b\b\b\b\b\b\b\b\b\b\b\b\b\b\b\b\b\b\b\b\b\b\b\b\b\b\b\b\b\b\b\b\b\b\b\b\b\b\b\b\b\b\b\b\b\b\b\b\b\b\b\b\b\b\b\b\b\b\r",
      "15/15 [==============================] - 1450s 97s/step - loss: 1.2506 - accuracy: 0.3220 - val_loss: 1.0957 - val_accuracy: 0.3571\n",
      "\n",
      "Epoch 00001: val_loss improved from inf to 1.09566, saving model to model/20200419-1346-chalearn_img_flow_tvl1-fast003-oflow-i3d-above-best.h5\n",
      "Epoch 2/3\n"
     ]
    },
    {
     "name": "stderr",
     "output_type": "stream",
     "text": [
      "/usr/local/lib/python3.6/dist-packages/keras/utils/data_utils.py:616: UserWarning: The input 11 could not be retrieved. It could be because a worker has died.\n",
      "  UserWarning)\n"
     ]
    },
    {
     "name": "stdout",
     "output_type": "stream",
     "text": [
      " 6/15 [===========>..................] - ETA: 4:30 - loss: 1.3081 - accuracy: 0.4167"
     ]
    },
    {
     "name": "stderr",
     "output_type": "stream",
     "text": [
      "/usr/local/lib/python3.6/dist-packages/keras/utils/data_utils.py:616: UserWarning: The input 2 could not be retrieved. It could be because a worker has died.\n",
      "  UserWarning)\n"
     ]
    },
    {
     "name": "stdout",
     "output_type": "stream",
     "text": [
      "14/15 [===========================>..] - ETA: 18s - loss: 1.2130 - accuracy: 0.3818"
     ]
    },
    {
     "name": "stderr",
     "output_type": "stream",
     "text": [
      "/usr/local/lib/python3.6/dist-packages/keras/utils/data_utils.py:616: UserWarning: The input 13 could not be retrieved. It could be because a worker has died.\n",
      "  UserWarning)\n"
     ]
    },
    {
     "name": "stdout",
     "output_type": "stream",
     "text": [
      "\b\b\b\b\b\b\b\b\b\b\b\b\b\b\b\b\b\b\b\b\b\b\b\b\b\b\b\b\b\b\b\b\b\b\b\b\b\b\b\b\b\b\b\b\b\b\b\b\b\b\b\b\b\b\b\b\b\b\b\b\b\b\b\b\b\b\b\b\b\b\b\b\b\b\b\b\b\b\b\b\b\b\b\r",
      "15/15 [==============================] - 407s 27s/step - loss: 1.1988 - accuracy: 0.3729 - val_loss: 1.0979 - val_accuracy: 0.3571\n"
     ]
    },
    {
     "ename": "OSError",
     "evalue": "ignored",
     "output_type": "error",
     "traceback": [
      "\u001b[0;31m---------------------------------------------------------------------------\u001b[0m",
      "\u001b[0;31mOSError\u001b[0m                                   Traceback (most recent call last)",
      "\u001b[0;32m<ipython-input-54-12d85535a897>\u001b[0m in \u001b[0;36m<module>\u001b[0;34m()\u001b[0m\n\u001b[1;32m      8\u001b[0m                           callbacks=[csv_logger, \n\u001b[1;32m      9\u001b[0m                                     \u001b[0mcpTopLast\u001b[0m\u001b[0;34m,\u001b[0m\u001b[0;34m\u001b[0m\u001b[0;34m\u001b[0m\u001b[0m\n\u001b[0;32m---> 10\u001b[0;31m                                     cpTopBest])\n\u001b[0m",
      "\u001b[0;32m/usr/local/lib/python3.6/dist-packages/keras/legacy/interfaces.py\u001b[0m in \u001b[0;36mwrapper\u001b[0;34m(*args, **kwargs)\u001b[0m\n\u001b[1;32m     89\u001b[0m                 warnings.warn('Update your `' + object_name + '` call to the ' +\n\u001b[1;32m     90\u001b[0m                               'Keras 2 API: ' + signature, stacklevel=2)\n\u001b[0;32m---> 91\u001b[0;31m             \u001b[0;32mreturn\u001b[0m \u001b[0mfunc\u001b[0m\u001b[0;34m(\u001b[0m\u001b[0;34m*\u001b[0m\u001b[0margs\u001b[0m\u001b[0;34m,\u001b[0m \u001b[0;34m**\u001b[0m\u001b[0mkwargs\u001b[0m\u001b[0;34m)\u001b[0m\u001b[0;34m\u001b[0m\u001b[0;34m\u001b[0m\u001b[0m\n\u001b[0m\u001b[1;32m     92\u001b[0m         \u001b[0mwrapper\u001b[0m\u001b[0;34m.\u001b[0m\u001b[0m_original_function\u001b[0m \u001b[0;34m=\u001b[0m \u001b[0mfunc\u001b[0m\u001b[0;34m\u001b[0m\u001b[0;34m\u001b[0m\u001b[0m\n\u001b[1;32m     93\u001b[0m         \u001b[0;32mreturn\u001b[0m \u001b[0mwrapper\u001b[0m\u001b[0;34m\u001b[0m\u001b[0;34m\u001b[0m\u001b[0m\n",
      "\u001b[0;32m/usr/local/lib/python3.6/dist-packages/keras/engine/training.py\u001b[0m in \u001b[0;36mfit_generator\u001b[0;34m(self, generator, steps_per_epoch, epochs, verbose, callbacks, validation_data, validation_steps, validation_freq, class_weight, max_queue_size, workers, use_multiprocessing, shuffle, initial_epoch)\u001b[0m\n\u001b[1;32m   1730\u001b[0m             \u001b[0muse_multiprocessing\u001b[0m\u001b[0;34m=\u001b[0m\u001b[0muse_multiprocessing\u001b[0m\u001b[0;34m,\u001b[0m\u001b[0;34m\u001b[0m\u001b[0;34m\u001b[0m\u001b[0m\n\u001b[1;32m   1731\u001b[0m             \u001b[0mshuffle\u001b[0m\u001b[0;34m=\u001b[0m\u001b[0mshuffle\u001b[0m\u001b[0;34m,\u001b[0m\u001b[0;34m\u001b[0m\u001b[0;34m\u001b[0m\u001b[0m\n\u001b[0;32m-> 1732\u001b[0;31m             initial_epoch=initial_epoch)\n\u001b[0m\u001b[1;32m   1733\u001b[0m \u001b[0;34m\u001b[0m\u001b[0m\n\u001b[1;32m   1734\u001b[0m     \u001b[0;34m@\u001b[0m\u001b[0minterfaces\u001b[0m\u001b[0;34m.\u001b[0m\u001b[0mlegacy_generator_methods_support\u001b[0m\u001b[0;34m\u001b[0m\u001b[0;34m\u001b[0m\u001b[0m\n",
      "\u001b[0;32m/usr/local/lib/python3.6/dist-packages/keras/engine/training_generator.py\u001b[0m in \u001b[0;36mfit_generator\u001b[0;34m(model, generator, steps_per_epoch, epochs, verbose, callbacks, validation_data, validation_steps, validation_freq, class_weight, max_queue_size, workers, use_multiprocessing, shuffle, initial_epoch)\u001b[0m\n\u001b[1;32m    258\u001b[0m                     \u001b[0;32mbreak\u001b[0m\u001b[0;34m\u001b[0m\u001b[0;34m\u001b[0m\u001b[0m\n\u001b[1;32m    259\u001b[0m \u001b[0;34m\u001b[0m\u001b[0m\n\u001b[0;32m--> 260\u001b[0;31m             \u001b[0mcallbacks\u001b[0m\u001b[0;34m.\u001b[0m\u001b[0mon_epoch_end\u001b[0m\u001b[0;34m(\u001b[0m\u001b[0mepoch\u001b[0m\u001b[0;34m,\u001b[0m \u001b[0mepoch_logs\u001b[0m\u001b[0;34m)\u001b[0m\u001b[0;34m\u001b[0m\u001b[0;34m\u001b[0m\u001b[0m\n\u001b[0m\u001b[1;32m    261\u001b[0m             \u001b[0mepoch\u001b[0m \u001b[0;34m+=\u001b[0m \u001b[0;36m1\u001b[0m\u001b[0;34m\u001b[0m\u001b[0;34m\u001b[0m\u001b[0m\n\u001b[1;32m    262\u001b[0m             \u001b[0;32mif\u001b[0m \u001b[0mcallbacks\u001b[0m\u001b[0;34m.\u001b[0m\u001b[0mmodel\u001b[0m\u001b[0;34m.\u001b[0m\u001b[0mstop_training\u001b[0m\u001b[0;34m:\u001b[0m\u001b[0;34m\u001b[0m\u001b[0;34m\u001b[0m\u001b[0m\n",
      "\u001b[0;32m/usr/local/lib/python3.6/dist-packages/keras/callbacks/callbacks.py\u001b[0m in \u001b[0;36mon_epoch_end\u001b[0;34m(self, epoch, logs)\u001b[0m\n\u001b[1;32m    150\u001b[0m         \u001b[0mlogs\u001b[0m \u001b[0;34m=\u001b[0m \u001b[0mlogs\u001b[0m \u001b[0;32mor\u001b[0m \u001b[0;34m{\u001b[0m\u001b[0;34m}\u001b[0m\u001b[0;34m\u001b[0m\u001b[0;34m\u001b[0m\u001b[0m\n\u001b[1;32m    151\u001b[0m         \u001b[0;32mfor\u001b[0m \u001b[0mcallback\u001b[0m \u001b[0;32min\u001b[0m \u001b[0mself\u001b[0m\u001b[0;34m.\u001b[0m\u001b[0mcallbacks\u001b[0m\u001b[0;34m:\u001b[0m\u001b[0;34m\u001b[0m\u001b[0;34m\u001b[0m\u001b[0m\n\u001b[0;32m--> 152\u001b[0;31m             \u001b[0mcallback\u001b[0m\u001b[0;34m.\u001b[0m\u001b[0mon_epoch_end\u001b[0m\u001b[0;34m(\u001b[0m\u001b[0mepoch\u001b[0m\u001b[0;34m,\u001b[0m \u001b[0mlogs\u001b[0m\u001b[0;34m)\u001b[0m\u001b[0;34m\u001b[0m\u001b[0;34m\u001b[0m\u001b[0m\n\u001b[0m\u001b[1;32m    153\u001b[0m \u001b[0;34m\u001b[0m\u001b[0m\n\u001b[1;32m    154\u001b[0m     \u001b[0;32mdef\u001b[0m \u001b[0mon_train_batch_begin\u001b[0m\u001b[0;34m(\u001b[0m\u001b[0mself\u001b[0m\u001b[0;34m,\u001b[0m \u001b[0mbatch\u001b[0m\u001b[0;34m,\u001b[0m \u001b[0mlogs\u001b[0m\u001b[0;34m=\u001b[0m\u001b[0;32mNone\u001b[0m\u001b[0;34m)\u001b[0m\u001b[0;34m:\u001b[0m\u001b[0;34m\u001b[0m\u001b[0;34m\u001b[0m\u001b[0m\n",
      "\u001b[0;32m/usr/local/lib/python3.6/dist-packages/keras/callbacks/callbacks.py\u001b[0m in \u001b[0;36mon_epoch_end\u001b[0;34m(self, epoch, logs)\u001b[0m\n\u001b[1;32m    728\u001b[0m                     \u001b[0mself\u001b[0m\u001b[0;34m.\u001b[0m\u001b[0mmodel\u001b[0m\u001b[0;34m.\u001b[0m\u001b[0msave_weights\u001b[0m\u001b[0;34m(\u001b[0m\u001b[0mfilepath\u001b[0m\u001b[0;34m,\u001b[0m \u001b[0moverwrite\u001b[0m\u001b[0;34m=\u001b[0m\u001b[0;32mTrue\u001b[0m\u001b[0;34m)\u001b[0m\u001b[0;34m\u001b[0m\u001b[0;34m\u001b[0m\u001b[0m\n\u001b[1;32m    729\u001b[0m                 \u001b[0;32melse\u001b[0m\u001b[0;34m:\u001b[0m\u001b[0;34m\u001b[0m\u001b[0;34m\u001b[0m\u001b[0m\n\u001b[0;32m--> 730\u001b[0;31m                     \u001b[0mself\u001b[0m\u001b[0;34m.\u001b[0m\u001b[0mmodel\u001b[0m\u001b[0;34m.\u001b[0m\u001b[0msave\u001b[0m\u001b[0;34m(\u001b[0m\u001b[0mfilepath\u001b[0m\u001b[0;34m,\u001b[0m \u001b[0moverwrite\u001b[0m\u001b[0;34m=\u001b[0m\u001b[0;32mTrue\u001b[0m\u001b[0;34m)\u001b[0m\u001b[0;34m\u001b[0m\u001b[0;34m\u001b[0m\u001b[0m\n\u001b[0m\u001b[1;32m    731\u001b[0m \u001b[0;34m\u001b[0m\u001b[0m\n\u001b[1;32m    732\u001b[0m \u001b[0;34m\u001b[0m\u001b[0m\n",
      "\u001b[0;32m/usr/local/lib/python3.6/dist-packages/keras/engine/network.py\u001b[0m in \u001b[0;36msave\u001b[0;34m(self, filepath, overwrite, include_optimizer)\u001b[0m\n\u001b[1;32m   1150\u001b[0m             \u001b[0;32mraise\u001b[0m \u001b[0mNotImplementedError\u001b[0m\u001b[0;34m\u001b[0m\u001b[0;34m\u001b[0m\u001b[0m\n\u001b[1;32m   1151\u001b[0m         \u001b[0;32mfrom\u001b[0m \u001b[0;34m.\u001b[0m\u001b[0;34m.\u001b[0m\u001b[0mmodels\u001b[0m \u001b[0;32mimport\u001b[0m \u001b[0msave_model\u001b[0m\u001b[0;34m\u001b[0m\u001b[0;34m\u001b[0m\u001b[0m\n\u001b[0;32m-> 1152\u001b[0;31m         \u001b[0msave_model\u001b[0m\u001b[0;34m(\u001b[0m\u001b[0mself\u001b[0m\u001b[0;34m,\u001b[0m \u001b[0mfilepath\u001b[0m\u001b[0;34m,\u001b[0m \u001b[0moverwrite\u001b[0m\u001b[0;34m,\u001b[0m \u001b[0minclude_optimizer\u001b[0m\u001b[0;34m)\u001b[0m\u001b[0;34m\u001b[0m\u001b[0;34m\u001b[0m\u001b[0m\n\u001b[0m\u001b[1;32m   1153\u001b[0m \u001b[0;34m\u001b[0m\u001b[0m\n\u001b[1;32m   1154\u001b[0m     \u001b[0;34m@\u001b[0m\u001b[0msaving\u001b[0m\u001b[0;34m.\u001b[0m\u001b[0mallow_write_to_gcs\u001b[0m\u001b[0;34m\u001b[0m\u001b[0;34m\u001b[0m\u001b[0m\n",
      "\u001b[0;32m/usr/local/lib/python3.6/dist-packages/keras/engine/saving.py\u001b[0m in \u001b[0;36msave_wrapper\u001b[0;34m(obj, filepath, overwrite, *args, **kwargs)\u001b[0m\n\u001b[1;32m    447\u001b[0m                 \u001b[0mos\u001b[0m\u001b[0;34m.\u001b[0m\u001b[0mremove\u001b[0m\u001b[0;34m(\u001b[0m\u001b[0mtmp_filepath\u001b[0m\u001b[0;34m)\u001b[0m\u001b[0;34m\u001b[0m\u001b[0;34m\u001b[0m\u001b[0m\n\u001b[1;32m    448\u001b[0m         \u001b[0;32melse\u001b[0m\u001b[0;34m:\u001b[0m\u001b[0;34m\u001b[0m\u001b[0;34m\u001b[0m\u001b[0m\n\u001b[0;32m--> 449\u001b[0;31m             \u001b[0msave_function\u001b[0m\u001b[0;34m(\u001b[0m\u001b[0mobj\u001b[0m\u001b[0;34m,\u001b[0m \u001b[0mfilepath\u001b[0m\u001b[0;34m,\u001b[0m \u001b[0moverwrite\u001b[0m\u001b[0;34m,\u001b[0m \u001b[0;34m*\u001b[0m\u001b[0margs\u001b[0m\u001b[0;34m,\u001b[0m \u001b[0;34m**\u001b[0m\u001b[0mkwargs\u001b[0m\u001b[0;34m)\u001b[0m\u001b[0;34m\u001b[0m\u001b[0;34m\u001b[0m\u001b[0m\n\u001b[0m\u001b[1;32m    450\u001b[0m \u001b[0;34m\u001b[0m\u001b[0m\n\u001b[1;32m    451\u001b[0m     \u001b[0;32mreturn\u001b[0m \u001b[0msave_wrapper\u001b[0m\u001b[0;34m\u001b[0m\u001b[0;34m\u001b[0m\u001b[0m\n",
      "\u001b[0;32m/usr/local/lib/python3.6/dist-packages/keras/engine/saving.py\u001b[0m in \u001b[0;36msave_model\u001b[0;34m(model, filepath, overwrite, include_optimizer)\u001b[0m\n\u001b[1;32m    538\u001b[0m             \u001b[0;32mif\u001b[0m \u001b[0;32mnot\u001b[0m \u001b[0mproceed\u001b[0m\u001b[0;34m:\u001b[0m\u001b[0;34m\u001b[0m\u001b[0;34m\u001b[0m\u001b[0m\n\u001b[1;32m    539\u001b[0m                 \u001b[0;32mreturn\u001b[0m\u001b[0;34m\u001b[0m\u001b[0;34m\u001b[0m\u001b[0m\n\u001b[0;32m--> 540\u001b[0;31m         \u001b[0;32mwith\u001b[0m \u001b[0mH5Dict\u001b[0m\u001b[0;34m(\u001b[0m\u001b[0mfilepath\u001b[0m\u001b[0;34m,\u001b[0m \u001b[0mmode\u001b[0m\u001b[0;34m=\u001b[0m\u001b[0;34m'w'\u001b[0m\u001b[0;34m)\u001b[0m \u001b[0;32mas\u001b[0m \u001b[0mh5dict\u001b[0m\u001b[0;34m:\u001b[0m\u001b[0;34m\u001b[0m\u001b[0;34m\u001b[0m\u001b[0m\n\u001b[0m\u001b[1;32m    541\u001b[0m             \u001b[0m_serialize_model\u001b[0m\u001b[0;34m(\u001b[0m\u001b[0mmodel\u001b[0m\u001b[0;34m,\u001b[0m \u001b[0mh5dict\u001b[0m\u001b[0;34m,\u001b[0m \u001b[0minclude_optimizer\u001b[0m\u001b[0;34m)\u001b[0m\u001b[0;34m\u001b[0m\u001b[0;34m\u001b[0m\u001b[0m\n\u001b[1;32m    542\u001b[0m     \u001b[0;32melif\u001b[0m \u001b[0mhasattr\u001b[0m\u001b[0;34m(\u001b[0m\u001b[0mfilepath\u001b[0m\u001b[0;34m,\u001b[0m \u001b[0;34m'write'\u001b[0m\u001b[0;34m)\u001b[0m \u001b[0;32mand\u001b[0m \u001b[0mcallable\u001b[0m\u001b[0;34m(\u001b[0m\u001b[0mfilepath\u001b[0m\u001b[0;34m.\u001b[0m\u001b[0mwrite\u001b[0m\u001b[0;34m)\u001b[0m\u001b[0;34m:\u001b[0m\u001b[0;34m\u001b[0m\u001b[0;34m\u001b[0m\u001b[0m\n",
      "\u001b[0;32m/usr/local/lib/python3.6/dist-packages/keras/utils/io_utils.py\u001b[0m in \u001b[0;36m__init__\u001b[0;34m(self, path, mode)\u001b[0m\n\u001b[1;32m    189\u001b[0m             \u001b[0mself\u001b[0m\u001b[0;34m.\u001b[0m\u001b[0m_is_file\u001b[0m \u001b[0;34m=\u001b[0m \u001b[0;32mFalse\u001b[0m\u001b[0;34m\u001b[0m\u001b[0;34m\u001b[0m\u001b[0m\n\u001b[1;32m    190\u001b[0m         \u001b[0;32melif\u001b[0m \u001b[0misinstance\u001b[0m\u001b[0;34m(\u001b[0m\u001b[0mpath\u001b[0m\u001b[0;34m,\u001b[0m \u001b[0msix\u001b[0m\u001b[0;34m.\u001b[0m\u001b[0mstring_types\u001b[0m\u001b[0;34m)\u001b[0m \u001b[0;32mor\u001b[0m \u001b[0m_is_path_instance\u001b[0m\u001b[0;34m(\u001b[0m\u001b[0mpath\u001b[0m\u001b[0;34m)\u001b[0m\u001b[0;34m:\u001b[0m\u001b[0;34m\u001b[0m\u001b[0;34m\u001b[0m\u001b[0m\n\u001b[0;32m--> 191\u001b[0;31m             \u001b[0mself\u001b[0m\u001b[0;34m.\u001b[0m\u001b[0mdata\u001b[0m \u001b[0;34m=\u001b[0m \u001b[0mh5py\u001b[0m\u001b[0;34m.\u001b[0m\u001b[0mFile\u001b[0m\u001b[0;34m(\u001b[0m\u001b[0mpath\u001b[0m\u001b[0;34m,\u001b[0m \u001b[0mmode\u001b[0m\u001b[0;34m=\u001b[0m\u001b[0mmode\u001b[0m\u001b[0;34m)\u001b[0m\u001b[0;34m\u001b[0m\u001b[0;34m\u001b[0m\u001b[0m\n\u001b[0m\u001b[1;32m    192\u001b[0m             \u001b[0mself\u001b[0m\u001b[0;34m.\u001b[0m\u001b[0m_is_file\u001b[0m \u001b[0;34m=\u001b[0m \u001b[0;32mTrue\u001b[0m\u001b[0;34m\u001b[0m\u001b[0;34m\u001b[0m\u001b[0m\n\u001b[1;32m    193\u001b[0m         \u001b[0;32melif\u001b[0m \u001b[0misinstance\u001b[0m\u001b[0;34m(\u001b[0m\u001b[0mpath\u001b[0m\u001b[0;34m,\u001b[0m \u001b[0mdict\u001b[0m\u001b[0;34m)\u001b[0m\u001b[0;34m:\u001b[0m\u001b[0;34m\u001b[0m\u001b[0;34m\u001b[0m\u001b[0m\n",
      "\u001b[0;32m/usr/local/lib/python3.6/dist-packages/h5py/_hl/files.py\u001b[0m in \u001b[0;36m__init__\u001b[0;34m(self, name, mode, driver, libver, userblock_size, swmr, rdcc_nslots, rdcc_nbytes, rdcc_w0, track_order, **kwds)\u001b[0m\n\u001b[1;32m    406\u001b[0m                 fid = make_fid(name, mode, userblock_size,\n\u001b[1;32m    407\u001b[0m                                \u001b[0mfapl\u001b[0m\u001b[0;34m,\u001b[0m \u001b[0mfcpl\u001b[0m\u001b[0;34m=\u001b[0m\u001b[0mmake_fcpl\u001b[0m\u001b[0;34m(\u001b[0m\u001b[0mtrack_order\u001b[0m\u001b[0;34m=\u001b[0m\u001b[0mtrack_order\u001b[0m\u001b[0;34m)\u001b[0m\u001b[0;34m,\u001b[0m\u001b[0;34m\u001b[0m\u001b[0;34m\u001b[0m\u001b[0m\n\u001b[0;32m--> 408\u001b[0;31m                                swmr=swmr)\n\u001b[0m\u001b[1;32m    409\u001b[0m \u001b[0;34m\u001b[0m\u001b[0m\n\u001b[1;32m    410\u001b[0m             \u001b[0;32mif\u001b[0m \u001b[0misinstance\u001b[0m\u001b[0;34m(\u001b[0m\u001b[0mlibver\u001b[0m\u001b[0;34m,\u001b[0m \u001b[0mtuple\u001b[0m\u001b[0;34m)\u001b[0m\u001b[0;34m:\u001b[0m\u001b[0;34m\u001b[0m\u001b[0;34m\u001b[0m\u001b[0m\n",
      "\u001b[0;32m/usr/local/lib/python3.6/dist-packages/h5py/_hl/files.py\u001b[0m in \u001b[0;36mmake_fid\u001b[0;34m(name, mode, userblock_size, fapl, fcpl, swmr)\u001b[0m\n\u001b[1;32m    177\u001b[0m         \u001b[0mfid\u001b[0m \u001b[0;34m=\u001b[0m \u001b[0mh5f\u001b[0m\u001b[0;34m.\u001b[0m\u001b[0mcreate\u001b[0m\u001b[0;34m(\u001b[0m\u001b[0mname\u001b[0m\u001b[0;34m,\u001b[0m \u001b[0mh5f\u001b[0m\u001b[0;34m.\u001b[0m\u001b[0mACC_EXCL\u001b[0m\u001b[0;34m,\u001b[0m \u001b[0mfapl\u001b[0m\u001b[0;34m=\u001b[0m\u001b[0mfapl\u001b[0m\u001b[0;34m,\u001b[0m \u001b[0mfcpl\u001b[0m\u001b[0;34m=\u001b[0m\u001b[0mfcpl\u001b[0m\u001b[0;34m)\u001b[0m\u001b[0;34m\u001b[0m\u001b[0;34m\u001b[0m\u001b[0m\n\u001b[1;32m    178\u001b[0m     \u001b[0;32melif\u001b[0m \u001b[0mmode\u001b[0m \u001b[0;34m==\u001b[0m \u001b[0;34m'w'\u001b[0m\u001b[0;34m:\u001b[0m\u001b[0;34m\u001b[0m\u001b[0;34m\u001b[0m\u001b[0m\n\u001b[0;32m--> 179\u001b[0;31m         \u001b[0mfid\u001b[0m \u001b[0;34m=\u001b[0m \u001b[0mh5f\u001b[0m\u001b[0;34m.\u001b[0m\u001b[0mcreate\u001b[0m\u001b[0;34m(\u001b[0m\u001b[0mname\u001b[0m\u001b[0;34m,\u001b[0m \u001b[0mh5f\u001b[0m\u001b[0;34m.\u001b[0m\u001b[0mACC_TRUNC\u001b[0m\u001b[0;34m,\u001b[0m \u001b[0mfapl\u001b[0m\u001b[0;34m=\u001b[0m\u001b[0mfapl\u001b[0m\u001b[0;34m,\u001b[0m \u001b[0mfcpl\u001b[0m\u001b[0;34m=\u001b[0m\u001b[0mfcpl\u001b[0m\u001b[0;34m)\u001b[0m\u001b[0;34m\u001b[0m\u001b[0;34m\u001b[0m\u001b[0m\n\u001b[0m\u001b[1;32m    180\u001b[0m     \u001b[0;32melif\u001b[0m \u001b[0mmode\u001b[0m \u001b[0;34m==\u001b[0m \u001b[0;34m'a'\u001b[0m\u001b[0;34m:\u001b[0m\u001b[0;34m\u001b[0m\u001b[0;34m\u001b[0m\u001b[0m\n\u001b[1;32m    181\u001b[0m         \u001b[0;31m# Open in append mode (read/write).\u001b[0m\u001b[0;34m\u001b[0m\u001b[0;34m\u001b[0m\u001b[0;34m\u001b[0m\u001b[0m\n",
      "\u001b[0;32mh5py/_objects.pyx\u001b[0m in \u001b[0;36mh5py._objects.with_phil.wrapper\u001b[0;34m()\u001b[0m\n",
      "\u001b[0;32mh5py/_objects.pyx\u001b[0m in \u001b[0;36mh5py._objects.with_phil.wrapper\u001b[0;34m()\u001b[0m\n",
      "\u001b[0;32mh5py/h5f.pyx\u001b[0m in \u001b[0;36mh5py.h5f.create\u001b[0;34m()\u001b[0m\n",
      "\u001b[0;31mOSError\u001b[0m: Unable to create file (unable to lock file, errno = 11, error message = 'Resource temporarily unavailable')"
     ]
    }
   ],
   "source": [
    "keI3DOflowc(generator = genFramesTrain,\n",
    "                          validation_data = genFramesVal,\n",
    "                          epochs = diTrainTop[\"nEpochs\"],\n",
    "                          workers = 4,\n",
    "                          use_multiprocessing = True,\n",
    "                          max_queue_size = 8,\n",
    "                          verbose = 1,\n",
    "                          callbacks=[csv_logger, \n",
    "                                    cpTopLast, \n",
    "                                    cpTopBest])"
   ]
  },
  {
   "cell_type": "code",
   "execution_count": 0,
   "metadata": {
    "colab": {},
    "colab_type": "code",
    "id": "j1gSeD0OuOcY"
   },
   "outputs": [],
   "source": []
  },
  {
   "cell_type": "code",
   "execution_count": 0,
   "metadata": {
    "colab": {},
    "colab_type": "code",
    "id": "PjeEugRxduYZ"
   },
   "outputs": [],
   "source": [
    "# Fit entire I3D model\n",
    "print(\"Finetune all I3D layers with generator: %s\" % (diTrainAll))\n",
    "keI3DOflow = layers_unfreeze(keI3DOflow)\n",
    "optimizer = keras.optimizers.Adam(lr = diTrainAll[\"fLearn\"])\n",
    "keI3DOflow.compile(loss='categorical_crossentropy', optimizer=optimizer, metrics=['accuracy'])\n",
    "count_params(keI3DOflow)    \n",
    "\n",
    "keI3DOflow.fit_generator(generator = genFramesTrain, \n",
    "                          validation_data = genFramesVal,\n",
    "                          epochs = diTrainAll[\"nEpochs\"],\n",
    "                          workers = 4,                 \n",
    "                          use_multiprocessing = True,\n",
    "                          max_queue_size = 8, \n",
    "                          verbose = 1,\n",
    "                          callbacks=[csv_logger, \n",
    "                                    cpAllLast, \n",
    "                                    cpAllBest])"
   ]
  },
  {
   "cell_type": "code",
   "execution_count": 0,
   "metadata": {
    "colab": {},
    "colab_type": "code",
    "id": "TfNdKFLQaeq-"
   },
   "outputs": [],
   "source": []
  },
  {
   "cell_type": "code",
   "execution_count": 0,
   "metadata": {
    "colab": {},
    "colab_type": "code",
    "id": "5eKV4jLbaFg9"
   },
   "outputs": [],
   "source": []
  },
  {
   "cell_type": "code",
   "execution_count": 0,
   "metadata": {
    "colab": {},
    "colab_type": "code",
    "id": "MXaAcCLjZTzl"
   },
   "outputs": [],
   "source": []
  },
  {
   "cell_type": "code",
   "execution_count": 0,
   "metadata": {
    "colab": {},
    "colab_type": "code",
    "id": "jBQpq7TcZTtS"
   },
   "outputs": [],
   "source": []
  },
  {
   "cell_type": "code",
   "execution_count": 0,
   "metadata": {
    "colab": {},
    "colab_type": "code",
    "id": "CQfE3bCdYYft"
   },
   "outputs": [],
   "source": []
  },
  {
   "cell_type": "code",
   "execution_count": 0,
   "metadata": {
    "colab": {},
    "colab_type": "code",
    "id": "CA8ZQZJ2YYTj"
   },
   "outputs": [],
   "source": []
  },
  {
   "cell_type": "code",
   "execution_count": 0,
   "metadata": {
    "colab": {},
    "colab_type": "code",
    "id": "dcUkrtLFYYRL"
   },
   "outputs": [],
   "source": []
  },
  {
   "cell_type": "code",
   "execution_count": 0,
   "metadata": {
    "colab": {},
    "colab_type": "code",
    "id": "6s_5PADkYYLD"
   },
   "outputs": [],
   "source": []
  },
  {
   "cell_type": "code",
   "execution_count": 0,
   "metadata": {
    "colab": {},
    "colab_type": "code",
    "id": "56G9GFoXRmdL"
   },
   "outputs": [],
   "source": []
  },
  {
   "cell_type": "code",
   "execution_count": 0,
   "metadata": {
    "colab": {},
    "colab_type": "code",
    "id": "mqF-avusRmdO"
   },
   "outputs": [],
   "source": []
  },
  {
   "cell_type": "code",
   "execution_count": 0,
   "metadata": {
    "colab": {},
    "colab_type": "code",
    "id": "6Sf1vZ8ZRmdR"
   },
   "outputs": [],
   "source": []
  },
  {
   "cell_type": "code",
   "execution_count": 0,
   "metadata": {
    "colab": {},
    "colab_type": "code",
    "id": "kXTQp2hDRmdW"
   },
   "outputs": [],
   "source": []
  },
  {
   "cell_type": "code",
   "execution_count": 0,
   "metadata": {
    "colab": {},
    "colab_type": "code",
    "id": "t-k54WRsRmdZ"
   },
   "outputs": [],
   "source": []
  }
 ],
 "metadata": {
  "accelerator": "GPU",
  "colab": {
   "name": "train_i3d.ipynb",
   "provenance": []
  },
  "kernelspec": {
   "display_name": "Python 3",
   "language": "python",
   "name": "python3"
  },
  "language_info": {
   "codemirror_mode": {
    "name": "ipython",
    "version": 3
   },
   "file_extension": ".py",
   "mimetype": "text/x-python",
   "name": "python",
   "nbconvert_exporter": "python",
   "pygments_lexer": "ipython3",
   "version": "3.8.5"
  }
 },
 "nbformat": 4,
 "nbformat_minor": 1
}
