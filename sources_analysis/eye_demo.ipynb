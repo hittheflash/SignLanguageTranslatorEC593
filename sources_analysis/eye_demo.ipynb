{
 "cells": [
  {
   "cell_type": "code",
   "execution_count": 1,
   "metadata": {},
   "outputs": [],
   "source": [
    "\"\"\"\n",
    "https://github.com/FrederikSchorr/sign-language\n",
    "\n",
    "This module \n",
    "* launches the webcam,\n",
    "* waits for the start signal from user,\n",
    "* captures 5 seconds of video,\n",
    "* extracts frames from the video\n",
    "* calculates and displays the optical flow,\n",
    "* and uses the neural network to predict the sign language gesture.\n",
    "* Then start again.\n",
    "\"\"\"\n",
    "\n",
    "# import the necessary packages\n",
    "import time\n",
    "import os\n",
    "import glob\n",
    "import sys\n",
    "import random\n",
    "\n",
    "import numpy as np\n",
    "import pandas as pd\n",
    "\n",
    "import cv2"
   ]
  },
  {
   "cell_type": "code",
   "execution_count": 2,
   "metadata": {},
   "outputs": [
    {
     "name": "stderr",
     "output_type": "stream",
     "text": [
      "Using TensorFlow backend.\n"
     ]
    }
   ],
   "source": [
    "from timer import Timer\n",
    "from frame import video2frames, images_normalize, frames_downsample, images_crop\n",
    "from frame import images_resize_aspectratio, frames_show, frames2files, files2frames, video_length\n",
    "from videocapture import video_start, frame_show, video_show, video_capture\n",
    "from opticalflow import frames2flows, flows2colorimages, flows2file, flows_add_third_channel\n",
    "from datagenerator import VideoClasses"
   ]
  },
  {
   "cell_type": "code",
   "execution_count": 3,
   "metadata": {},
   "outputs": [],
   "source": [
    "from model_mobile import features_2D_load_model\n",
    "from model_lstm import lstm_load"
   ]
  },
  {
   "cell_type": "code",
   "execution_count": 4,
   "metadata": {},
   "outputs": [],
   "source": [
    "from model_i3d import I3D_load\n",
    "from predict import probability2label"
   ]
  },
  {
   "cell_type": "code",
   "execution_count": 5,
   "metadata": {},
   "outputs": [],
   "source": [
    "# dataset\n",
    "diVideoSet = {\"sName\" : \"04-chalearn\",\n",
    "    \"nClasses\" : 20,   # number of classes\n",
    "    \"nFramesNorm\" : 40,    # number of frames per video\n",
    "    \"nMinDim\" : 240,   # smaller dimension of saved video-frames\n",
    "    \"tuShape\" : (240, 320), # height, width\n",
    "    \"nFpsAvg\" : 10,\n",
    "    \"nFramesAvg\" : 50, \n",
    "    \"fDurationAvg\" : 5.0} # seconds"
   ]
  },
  {
   "cell_type": "code",
   "execution_count": 6,
   "metadata": {},
   "outputs": [],
   "source": [
    "# files\n",
    "sClassFile = \"data-set/%s/%03d/class.csv\"%(diVideoSet[\"sName\"], diVideoSet[\"nClasses\"])\n",
    "sVideoDir = \"data-set/%s/%03d\"%(diVideoSet[\"sName\"], diVideoSet[\"nClasses\"])"
   ]
  },
  {
   "cell_type": "code",
   "execution_count": 7,
   "metadata": {},
   "outputs": [
    {
     "name": "stdout",
     "output_type": "stream",
     "text": [
      "\n",
      "Starting gesture recognition live demo ... \n",
      "C:\\Users\\JaimePanchana\\Desktop\\Jean\\2go\\python\\1c3d\n"
     ]
    },
    {
     "data": {
      "text/plain": [
       "{'sName': '04-chalearn',\n",
       " 'nClasses': 20,\n",
       " 'nFramesNorm': 40,\n",
       " 'nMinDim': 240,\n",
       " 'tuShape': (240, 320),\n",
       " 'nFpsAvg': 10,\n",
       " 'nFramesAvg': 50,\n",
       " 'fDurationAvg': 5.0}"
      ]
     },
     "execution_count": 7,
     "metadata": {},
     "output_type": "execute_result"
    }
   ],
   "source": [
    "print(\"\\nStarting gesture recognition live demo ... \")\n",
    "print(os.getcwd())\n",
    "diVideoSet"
   ]
  },
  {
   "cell_type": "code",
   "execution_count": 8,
   "metadata": {},
   "outputs": [
    {
     "name": "stdout",
     "output_type": "stream",
     "text": [
      "Loaded 20 classes from data-set/04-chalearn/020/class.csv\n"
     ]
    }
   ],
   "source": [
    "# load label description\n",
    "oClasses = VideoClasses(sClassFile)"
   ]
  },
  {
   "cell_type": "code",
   "execution_count": 9,
   "metadata": {},
   "outputs": [
    {
     "data": {
      "text/plain": [
       "20"
      ]
     },
     "execution_count": 9,
     "metadata": {},
     "output_type": "execute_result"
    }
   ],
   "source": [
    "oClasses.nClasses"
   ]
  },
  {
   "cell_type": "code",
   "execution_count": 10,
   "metadata": {},
   "outputs": [
    {
     "data": {
      "text/html": [
       "<div>\n",
       "<style scoped>\n",
       "    .dataframe tbody tr th:only-of-type {\n",
       "        vertical-align: middle;\n",
       "    }\n",
       "\n",
       "    .dataframe tbody tr th {\n",
       "        vertical-align: top;\n",
       "    }\n",
       "\n",
       "    .dataframe thead th {\n",
       "        text-align: right;\n",
       "    }\n",
       "</style>\n",
       "<table border=\"1\" class=\"dataframe\">\n",
       "  <thead>\n",
       "    <tr style=\"text-align: right;\">\n",
       "      <th></th>\n",
       "      <th>Unnamed: 0</th>\n",
       "      <th>sClass</th>\n",
       "      <th>sLong</th>\n",
       "      <th>sCat</th>\n",
       "      <th>sDetail</th>\n",
       "    </tr>\n",
       "  </thead>\n",
       "  <tbody>\n",
       "    <tr>\n",
       "      <td>0</td>\n",
       "      <td>0</td>\n",
       "      <td>c021</td>\n",
       "      <td>ItalianGestures/Bellissima</td>\n",
       "      <td>ItalianGestures</td>\n",
       "      <td>HERMOSISIMA</td>\n",
       "    </tr>\n",
       "    <tr>\n",
       "      <td>1</td>\n",
       "      <td>2</td>\n",
       "      <td>c026</td>\n",
       "      <td>ItalianGestures/Madonna</td>\n",
       "      <td>ItalianGestures</td>\n",
       "      <td>Madonna</td>\n",
       "    </tr>\n",
       "    <tr>\n",
       "      <td>2</td>\n",
       "      <td>1</td>\n",
       "      <td>c027</td>\n",
       "      <td>ItalianGestures/NonMiFrega</td>\n",
       "      <td>ItalianGestures</td>\n",
       "      <td>NonMiFrega</td>\n",
       "    </tr>\n",
       "    <tr>\n",
       "      <td>3</td>\n",
       "      <td>3</td>\n",
       "      <td>c029</td>\n",
       "      <td>ItalianGestures/SeiPazzo</td>\n",
       "      <td>ItalianGestures</td>\n",
       "      <td>SeiPazzo</td>\n",
       "    </tr>\n",
       "    <tr>\n",
       "      <td>4</td>\n",
       "      <td>4</td>\n",
       "      <td>c030</td>\n",
       "      <td>ItalianGestures/VieniQua</td>\n",
       "      <td>ItalianGestures</td>\n",
       "      <td>VEN OE</td>\n",
       "    </tr>\n",
       "    <tr>\n",
       "      <td>5</td>\n",
       "      <td>5</td>\n",
       "      <td>c049</td>\n",
       "      <td>GestunoDisaster/102_thunderstorm_orage</td>\n",
       "      <td>GestunoDisaster</td>\n",
       "      <td>TORMENTA</td>\n",
       "    </tr>\n",
       "    <tr>\n",
       "      <td>6</td>\n",
       "      <td>6</td>\n",
       "      <td>c052</td>\n",
       "      <td>GestunoDisaster/110_earthquake_trembleme</td>\n",
       "      <td>GestunoDisaster</td>\n",
       "      <td>TERREMOTO</td>\n",
       "    </tr>\n",
       "    <tr>\n",
       "      <td>7</td>\n",
       "      <td>7</td>\n",
       "      <td>c057</td>\n",
       "      <td>GestunoLandscape/63_moon_lune</td>\n",
       "      <td>GestunoLandscape</td>\n",
       "      <td>Moon</td>\n",
       "    </tr>\n",
       "    <tr>\n",
       "      <td>8</td>\n",
       "      <td>8</td>\n",
       "      <td>c065</td>\n",
       "      <td>GestunoLandscape/85_volcano_volcan</td>\n",
       "      <td>GestunoLandscape</td>\n",
       "      <td>VOLCAN</td>\n",
       "    </tr>\n",
       "    <tr>\n",
       "      <td>9</td>\n",
       "      <td>9</td>\n",
       "      <td>c068</td>\n",
       "      <td>GestunoLandscape/90_river_fleuve</td>\n",
       "      <td>GestunoLandscape</td>\n",
       "      <td>River</td>\n",
       "    </tr>\n",
       "    <tr>\n",
       "      <td>10</td>\n",
       "      <td>10</td>\n",
       "      <td>c070</td>\n",
       "      <td>GestunoSmallAnimals/125_bird_oiseau</td>\n",
       "      <td>GestunoSmallAnimals</td>\n",
       "      <td>AVE</td>\n",
       "    </tr>\n",
       "    <tr>\n",
       "      <td>11</td>\n",
       "      <td>11</td>\n",
       "      <td>c071</td>\n",
       "      <td>GestunoSmallAnimals/127_butterfly_papillon</td>\n",
       "      <td>GestunoSmallAnimals</td>\n",
       "      <td>MARIPOSA</td>\n",
       "    </tr>\n",
       "    <tr>\n",
       "      <td>12</td>\n",
       "      <td>12</td>\n",
       "      <td>c072</td>\n",
       "      <td>GestunoSmallAnimals/129_cat_chat</td>\n",
       "      <td>GestunoSmallAnimals</td>\n",
       "      <td>GATO</td>\n",
       "    </tr>\n",
       "    <tr>\n",
       "      <td>13</td>\n",
       "      <td>13</td>\n",
       "      <td>c074</td>\n",
       "      <td>GestunoSmallAnimals/132_dog_chien</td>\n",
       "      <td>GestunoSmallAnimals</td>\n",
       "      <td>PERRO</td>\n",
       "    </tr>\n",
       "    <tr>\n",
       "      <td>14</td>\n",
       "      <td>14</td>\n",
       "      <td>c079</td>\n",
       "      <td>GestunoTopography/65_space_espace</td>\n",
       "      <td>GestunoTopography</td>\n",
       "      <td>Space</td>\n",
       "    </tr>\n",
       "    <tr>\n",
       "      <td>15</td>\n",
       "      <td>15</td>\n",
       "      <td>c086</td>\n",
       "      <td>GestunoTopography/92_harbour_port</td>\n",
       "      <td>GestunoTopography</td>\n",
       "      <td>Harbour</td>\n",
       "    </tr>\n",
       "    <tr>\n",
       "      <td>16</td>\n",
       "      <td>16</td>\n",
       "      <td>c177</td>\n",
       "      <td>HelicopterSignals/LiftOff</td>\n",
       "      <td>HelicopterSignals</td>\n",
       "      <td>LiftOff</td>\n",
       "    </tr>\n",
       "    <tr>\n",
       "      <td>17</td>\n",
       "      <td>17</td>\n",
       "      <td>c246</td>\n",
       "      <td>TractorOperationSignals/SpeedItUp</td>\n",
       "      <td>TractorOperationSignals</td>\n",
       "      <td>SpeedItUp</td>\n",
       "    </tr>\n",
       "    <tr>\n",
       "      <td>18</td>\n",
       "      <td>18</td>\n",
       "      <td>c247</td>\n",
       "      <td>TractorOperationSignals/StartTheEngine</td>\n",
       "      <td>TractorOperationSignals</td>\n",
       "      <td>StartTheEngine</td>\n",
       "    </tr>\n",
       "    <tr>\n",
       "      <td>19</td>\n",
       "      <td>19</td>\n",
       "      <td>c248</td>\n",
       "      <td>TractorOperationSignals/StopTheEngine</td>\n",
       "      <td>TractorOperationSignals</td>\n",
       "      <td>StopTheEngine</td>\n",
       "    </tr>\n",
       "  </tbody>\n",
       "</table>\n",
       "</div>"
      ],
      "text/plain": [
       "    Unnamed: 0 sClass                                       sLong  \\\n",
       "0            0   c021                  ItalianGestures/Bellissima   \n",
       "1            2   c026                     ItalianGestures/Madonna   \n",
       "2            1   c027                  ItalianGestures/NonMiFrega   \n",
       "3            3   c029                    ItalianGestures/SeiPazzo   \n",
       "4            4   c030                    ItalianGestures/VieniQua   \n",
       "5            5   c049      GestunoDisaster/102_thunderstorm_orage   \n",
       "6            6   c052    GestunoDisaster/110_earthquake_trembleme   \n",
       "7            7   c057               GestunoLandscape/63_moon_lune   \n",
       "8            8   c065          GestunoLandscape/85_volcano_volcan   \n",
       "9            9   c068            GestunoLandscape/90_river_fleuve   \n",
       "10          10   c070         GestunoSmallAnimals/125_bird_oiseau   \n",
       "11          11   c071  GestunoSmallAnimals/127_butterfly_papillon   \n",
       "12          12   c072            GestunoSmallAnimals/129_cat_chat   \n",
       "13          13   c074           GestunoSmallAnimals/132_dog_chien   \n",
       "14          14   c079           GestunoTopography/65_space_espace   \n",
       "15          15   c086           GestunoTopography/92_harbour_port   \n",
       "16          16   c177                   HelicopterSignals/LiftOff   \n",
       "17          17   c246           TractorOperationSignals/SpeedItUp   \n",
       "18          18   c247      TractorOperationSignals/StartTheEngine   \n",
       "19          19   c248       TractorOperationSignals/StopTheEngine   \n",
       "\n",
       "                       sCat         sDetail  \n",
       "0           ItalianGestures     HERMOSISIMA  \n",
       "1           ItalianGestures         Madonna  \n",
       "2           ItalianGestures      NonMiFrega  \n",
       "3           ItalianGestures        SeiPazzo  \n",
       "4           ItalianGestures          VEN OE  \n",
       "5           GestunoDisaster        TORMENTA  \n",
       "6           GestunoDisaster       TERREMOTO  \n",
       "7          GestunoLandscape            Moon  \n",
       "8          GestunoLandscape          VOLCAN  \n",
       "9          GestunoLandscape           River  \n",
       "10      GestunoSmallAnimals             AVE  \n",
       "11      GestunoSmallAnimals        MARIPOSA  \n",
       "12      GestunoSmallAnimals            GATO  \n",
       "13      GestunoSmallAnimals           PERRO  \n",
       "14        GestunoTopography           Space  \n",
       "15        GestunoTopography         Harbour  \n",
       "16        HelicopterSignals         LiftOff  \n",
       "17  TractorOperationSignals       SpeedItUp  \n",
       "18  TractorOperationSignals  StartTheEngine  \n",
       "19  TractorOperationSignals   StopTheEngine  "
      ]
     },
     "execution_count": 10,
     "metadata": {},
     "output_type": "execute_result"
    }
   ],
   "source": [
    "oClasses.dfClass"
   ]
  },
  {
   "cell_type": "code",
   "execution_count": 11,
   "metadata": {},
   "outputs": [
    {
     "data": {
      "text/plain": [
       "['c021',\n",
       " 'c026',\n",
       " 'c027',\n",
       " 'c029',\n",
       " 'c030',\n",
       " 'c049',\n",
       " 'c052',\n",
       " 'c057',\n",
       " 'c065',\n",
       " 'c068',\n",
       " 'c070',\n",
       " 'c071',\n",
       " 'c072',\n",
       " 'c074',\n",
       " 'c079',\n",
       " 'c086',\n",
       " 'c177',\n",
       " 'c246',\n",
       " 'c247',\n",
       " 'c248']"
      ]
     },
     "execution_count": 11,
     "metadata": {},
     "output_type": "execute_result"
    }
   ],
   "source": [
    "oClasses.liClasses"
   ]
  },
  {
   "cell_type": "code",
   "execution_count": 12,
   "metadata": {},
   "outputs": [],
   "source": [
    "sModelFile = \"model/20180627-0729-chalearn020-oflow-i3d-entire-best.h5\"\n",
    "h, w = 224, 224"
   ]
  },
  {
   "cell_type": "code",
   "execution_count": 13,
   "metadata": {
    "scrolled": false
   },
   "outputs": [
    {
     "name": "stdout",
     "output_type": "stream",
     "text": [
      "Load trained I3D model from model/20180627-0729-chalearn020-oflow-i3d-entire-best.h5 ...\n",
      "WARNING:tensorflow:From C:\\Users\\JaimePanchana\\Anaconda3\\lib\\site-packages\\tensorflow_core\\python\\ops\\resource_variable_ops.py:1630: calling BaseResourceVariable.__init__ (from tensorflow.python.ops.resource_variable_ops) with constraint is deprecated and will be removed in a future version.\n",
      "Instructions for updating:\n",
      "If using Keras pass *_constraint arguments to layers.\n",
      "WARNING:tensorflow:From C:\\Users\\JaimePanchana\\Anaconda3\\lib\\site-packages\\keras\\backend\\tensorflow_backend.py:422: The name tf.global_variables is deprecated. Please use tf.compat.v1.global_variables instead.\n",
      "\n",
      "Loaded input shape (40, 224, 224, 2), output shape (20,)\n"
     ]
    }
   ],
   "source": [
    "keI3D = I3D_load(sModelFile, \n",
    "                 diVideoSet[\"nFramesNorm\"], \n",
    "                 (h, w, 2), \n",
    "                 oClasses.nClasses)"
   ]
  },
  {
   "cell_type": "code",
   "execution_count": 14,
   "metadata": {},
   "outputs": [
    {
     "name": "stdout",
     "output_type": "stream",
     "text": [
      "Try to initialize inbuilt camera ...\n",
      "Initialized video device 0, with resolution (320, 240) and target frame rate 10\n"
     ]
    }
   ],
   "source": [
    "# open a pointer to the webcam video stream\n",
    "oStream = video_start(device = 1, tuResolution = (320, 240), nFramePerSecond = diVideoSet[\"nFpsAvg\"])"
   ]
  },
  {
   "cell_type": "code",
   "execution_count": 15,
   "metadata": {},
   "outputs": [],
   "source": [
    "#liVideosDebug = glob.glob(sVideoDir + \"/train/*/*.*\")\n",
    "nCount = 0\n",
    "sResults = \"\"\n",
    "timer = Timer()"
   ]
  },
  {
   "cell_type": "code",
   "execution_count": null,
   "metadata": {},
   "outputs": [
    {
     "name": "stdout",
     "output_type": "stream",
     "text": [
      "\n",
      "Captured video: 5.1 sec, (76, 240, 320, 3), 15.0 fps\n",
      "Calculate optical flow on 40 frames ...\n",
      "Execution time: 7.78 sec\n",
      "Optical flow per frame: 0.195\n",
      "Predict video with i3d_with_top ...\n",
      "1/1 [==============================] - 16s 16s/step\n",
      "Top 1: [  4] c030 VEN OE (confidence 97.7%)\n",
      "Top 2: [  6] c052 TERREMOTO (confidence 1.1%)\n",
      "Top 3: [ 17] c246 SpeedItUp (confidence 0.3%)\n",
      "\n",
      "Sign: VEN OE (98%)\n",
      "\n",
      "Captured video: 5.1 sec, (76, 240, 320, 3), 15.0 fps\n",
      "Calculate optical flow on 40 frames ...\n",
      "Execution time: 7.76 sec\n",
      "Optical flow per frame: 0.194\n",
      "Predict video with i3d_with_top ...\n",
      "1/1 [==============================] - 15s 15s/step\n",
      "Top 1: [  4] c030 VEN OE (confidence 69.3%)\n",
      "Top 2: [ 17] c246 SpeedItUp (confidence 14.5%)\n",
      "Top 3: [  5] c049 TORMENTA (confidence 3.6%)\n",
      "\n",
      "Sign: VEN OE (69%)\n",
      "\n",
      "Captured video: 5.1 sec, (76, 240, 320, 3), 15.0 fps\n",
      "Calculate optical flow on 40 frames ...\n",
      "Execution time: 7.68 sec\n",
      "Optical flow per frame: 0.192\n",
      "Predict video with i3d_with_top ...\n",
      "1/1 [==============================] - 14s 14s/step\n",
      "Top 1: [  4] c030 VEN OE (confidence 67.9%)\n",
      "Top 2: [  5] c049 TORMENTA (confidence 20.7%)\n",
      "Top 3: [ 17] c246 SpeedItUp (confidence 2.3%)\n",
      "\n",
      "Sign: VEN OE (68%)\n",
      "\n",
      "Captured video: 5.1 sec, (76, 240, 320, 3), 15.0 fps\n",
      "Calculate optical flow on 40 frames ...\n",
      "Execution time: 7.32 sec\n",
      "Optical flow per frame: 0.183\n",
      "Predict video with i3d_with_top ...\n",
      "1/1 [==============================] - 14s 14s/step\n",
      "Top 1: [  4] c030 VEN OE (confidence 80.3%)\n",
      "Top 2: [  5] c049 TORMENTA (confidence 6.8%)\n",
      "Top 3: [  7] c057 Moon (confidence 2.7%)\n",
      "\n",
      "Sign: VEN OE (80%)\n",
      "\n",
      "Captured video: 5.0 sec, (75, 240, 320, 3), 15.0 fps\n",
      "Calculate optical flow on 40 frames ...\n",
      "Execution time: 7.65 sec\n",
      "Optical flow per frame: 0.191\n",
      "Predict video with i3d_with_top ...\n",
      "1/1 [==============================] - 15s 15s/step\n",
      "Top 1: [  4] c030 VEN OE (confidence 93.0%)\n",
      "Top 2: [  5] c049 TORMENTA (confidence 2.2%)\n",
      "Top 3: [  0] c021 HERMOSISIMA (confidence 1.1%)\n",
      "\n",
      "Sign: VEN OE (93%)\n",
      "\n",
      "Captured video: 5.1 sec, (76, 240, 320, 3), 15.0 fps\n",
      "Calculate optical flow on 40 frames ...\n",
      "Execution time: 9.20 sec\n",
      "Optical flow per frame: 0.230\n",
      "Predict video with i3d_with_top ...\n",
      "1/1 [==============================] - 15s 15s/step\n",
      "Top 1: [  4] c030 VEN OE (confidence 98.0%)\n",
      "Top 2: [ 13] c074 PERRO (confidence 0.4%)\n",
      "Top 3: [ 11] c071 MARIPOSA (confidence 0.3%)\n",
      "\n",
      "Sign: VEN OE (98%)\n"
     ]
    }
   ],
   "source": [
    "# loop over action states\n",
    "cadena = \"\"\n",
    "while True:\n",
    "    # show live video and wait for key stroke\n",
    "    key = video_show(oStream, \"yellow\", \"Press <blank> to start\", sResults, label = cadena, tuRectangle = (h, w))\n",
    "\n",
    "    # start!\n",
    "    if key == ord(' '):\n",
    "        # countdown n sec\n",
    "        video_show(oStream, \"orange\", \"Recording starts in \", tuRectangle = (h, w), nCountdown = 3)\n",
    "\n",
    "        # record video for n sec\n",
    "        fElapsed, arFrames, _ = video_capture(oStream, \"red\", \"Recording \", \\\n",
    "            tuRectangle = (h, w), nTimeDuration = int(diVideoSet[\"fDurationAvg\"]), bOpticalFlow = False)\n",
    "        print(\"\\nCaptured video: %.1f sec, %s, %.1f fps\" % \\\n",
    "            (fElapsed, str(arFrames.shape), len(arFrames)/fElapsed))\n",
    "\n",
    "        # show orange wait box\n",
    "        frame_show(oStream, \"orange\", \"Translating sign ...\", tuRectangle = (h, w))\n",
    "\n",
    "        # crop and downsample frames\n",
    "        arFrames = images_crop(arFrames, h, w)\n",
    "        arFrames = frames_downsample(arFrames, diVideoSet[\"nFramesNorm\"])\n",
    "\n",
    "        # Translate frames to flows - these are already scaled between [-1.0, 1.0]\n",
    "        print(\"Calculate optical flow on %d frames ...\" % len(arFrames))\n",
    "        timer.start()\n",
    "        arFlows = frames2flows(arFrames, bThirdChannel = False, bShow = True)\n",
    "        print(\"Optical flow per frame: %.3f\" % (timer.stop() / len(arFrames)))\n",
    "\n",
    "        # predict video from flows\t\t\t\n",
    "        print(\"Predict video with %s ...\" % (keI3D.name))\n",
    "        arX = np.expand_dims(arFlows, axis=0)\n",
    "        arProbas = keI3D.predict(arX, verbose = 1)[0]\n",
    "        nLabel, sLabel, fProba = probability2label(arProbas, oClasses, nTop = 3)\n",
    "        print()\n",
    "        sResults = \"Sign: %s (%.0f%%)\" % (sLabel, fProba*100.)\n",
    "        print(sResults)\n",
    "        cadena += sLabel\n",
    "        nCount += 1\n",
    "\n",
    "    # quit\n",
    "    elif key == ord('q'):\n",
    "        break\n",
    "\n",
    "# do a bit of cleanup\n",
    "oStream.release()\n",
    "cv2.destroyAllWindows()"
   ]
  },
  {
   "cell_type": "code",
   "execution_count": null,
   "metadata": {},
   "outputs": [],
   "source": []
  },
  {
   "cell_type": "code",
   "execution_count": null,
   "metadata": {},
   "outputs": [],
   "source": []
  },
  {
   "cell_type": "code",
   "execution_count": null,
   "metadata": {},
   "outputs": [],
   "source": []
  },
  {
   "cell_type": "code",
   "execution_count": null,
   "metadata": {},
   "outputs": [],
   "source": []
  },
  {
   "cell_type": "code",
   "execution_count": null,
   "metadata": {},
   "outputs": [],
   "source": []
  },
  {
   "cell_type": "code",
   "execution_count": null,
   "metadata": {},
   "outputs": [],
   "source": []
  },
  {
   "cell_type": "code",
   "execution_count": null,
   "metadata": {},
   "outputs": [],
   "source": [
    "cam = cv2.VideoCapture(0)\n",
    "while True:\n",
    "    ret_val, img = cam.read()\n",
    "    img = cv2.flip(img, 1)\n",
    "    img = cv2.putText(img, 'OpenCV', (50, 50) , cv2.FONT_HERSHEY_SIMPLEX,  \n",
    "                   1, (0,255,255), 2, cv2.LINE_AA) \n",
    "    cv2.imshow('my webcam', img)\n",
    "    if cv2.waitKey(1) == 27: \n",
    "        break  # esc to quit\n",
    "cv2.destroyAllWindows()"
   ]
  },
  {
   "cell_type": "code",
   "execution_count": 2,
   "metadata": {},
   "outputs": [
    {
     "ename": "NameError",
     "evalue": "name 'image' is not defined",
     "output_type": "error",
     "traceback": [
      "\u001b[1;31m---------------------------------------------------------------------------\u001b[0m",
      "\u001b[1;31mNameError\u001b[0m                                 Traceback (most recent call last)",
      "\u001b[1;32m<ipython-input-2-95dce5bfa39f>\u001b[0m in \u001b[0;36m<module>\u001b[1;34m\u001b[0m\n\u001b[0;32m     16\u001b[0m \u001b[1;33m\u001b[0m\u001b[0m\n\u001b[0;32m     17\u001b[0m \u001b[1;31m# Using cv2.putText() method\u001b[0m\u001b[1;33m\u001b[0m\u001b[1;33m\u001b[0m\u001b[1;33m\u001b[0m\u001b[0m\n\u001b[1;32m---> 18\u001b[1;33m image = cv2.putText(image, 'OpenCV', (50, 50) , cv2.FONT_HERSHEY_SIMPLEX,  \n\u001b[0m\u001b[0;32m     19\u001b[0m                    1, \"yellow\", 2, cv2.LINE_AA) \n",
      "\u001b[1;31mNameError\u001b[0m: name 'image' is not defined"
     ]
    }
   ],
   "source": [
    "import cv2\n",
    "# font \n",
    "font = cv2.FONT_HERSHEY_SIMPLEX \n",
    "  \n",
    "# org \n",
    "org = (50, 50) \n",
    "  \n",
    "# fontScale \n",
    "fontScale = 1\n",
    "   \n",
    "# Blue color in BGR \n",
    "color = (255, 0, 0) \n",
    "  \n",
    "# Line thickness of 2 px \n",
    "thickness = 2\n",
    "   \n",
    "# Using cv2.putText() method \n",
    "image = cv2.putText(image, 'OpenCV', (50, 50) , cv2.FONT_HERSHEY_SIMPLEX,  \n",
    "                   1, \"yellow\", 2, cv2.LINE_AA) "
   ]
  },
  {
   "cell_type": "code",
   "execution_count": null,
   "metadata": {},
   "outputs": [],
   "source": []
  }
 ],
 "metadata": {
  "kernelspec": {
   "display_name": "Python 3",
   "language": "python",
   "name": "python3"
  },
  "language_info": {
   "codemirror_mode": {
    "name": "ipython",
    "version": 3
   },
   "file_extension": ".py",
   "mimetype": "text/x-python",
   "name": "python",
   "nbconvert_exporter": "python",
   "pygments_lexer": "ipython3",
   "version": "3.8.5"
  }
 },
 "nbformat": 4,
 "nbformat_minor": 2
}
